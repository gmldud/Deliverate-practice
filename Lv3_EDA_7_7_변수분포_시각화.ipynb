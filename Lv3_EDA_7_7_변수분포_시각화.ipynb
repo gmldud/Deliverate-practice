{
  "nbformat": 4,
  "nbformat_minor": 0,
  "metadata": {
    "colab": {
      "name": "Lv3 EDA 7/7 변수분포 시각화",
      "provenance": [],
      "collapsed_sections": [
        "J1Is2vFL4cxY"
      ],
      "include_colab_link": true
    },
    "kernelspec": {
      "name": "python3",
      "display_name": "Python 3"
    },
    "language_info": {
      "name": "python"
    }
  },
  "cells": [
    {
      "cell_type": "markdown",
      "metadata": {
        "id": "view-in-github",
        "colab_type": "text"
      },
      "source": [
        "<a href=\"https://colab.research.google.com/github/gmldud/Deliverate_Practice/blob/main/Lv3_EDA_7_7_%EB%B3%80%EC%88%98%EB%B6%84%ED%8F%AC_%EC%8B%9C%EA%B0%81%ED%99%94.ipynb\" target=\"_parent\"><img src=\"https://colab.research.google.com/assets/colab-badge.svg\" alt=\"Open In Colab\"/></a>"
      ]
    },
    {
      "cell_type": "markdown",
      "metadata": {
        "id": "vIpjpOEXsoW0"
      },
      "source": [
        "# [↩️ 리스트로 돌아가기](https://dacon.io/competitions/open/235698/overview/description)"
      ]
    },
    {
      "cell_type": "markdown",
      "metadata": {
        "id": "Y8EsppNShcez"
      },
      "source": [
        "# 셀을 실행할 때 팝업이 뜨면 `무시하고 계속하기` 를 눌러주세요\n"
      ]
    },
    {
      "cell_type": "markdown",
      "metadata": {
        "id": "23RHK-ksiX1C"
      },
      "source": [
        "## 한글 글꼴 다운로드\n",
        "---\n",
        "해당 셀을 실행하고 [런타임] - [런타임 다시 시작] 후 아래 셀들을 수행하세요."
      ]
    },
    {
      "cell_type": "code",
      "metadata": {
        "id": "XAjlCb1ieyZ3",
        "outputId": "61f35741-fa0a-48c7-8789-867a52c64ba4",
        "colab": {
          "base_uri": "https://localhost:8080/"
        }
      },
      "source": [
        "!sudo apt-get install -y fonts-nanum\n",
        "!sudo fc-cache -fv\n",
        "!rm ~/.cache/matplotlib -rf"
      ],
      "execution_count": 102,
      "outputs": [
        {
          "output_type": "stream",
          "name": "stdout",
          "text": [
            "Reading package lists... Done\n",
            "Building dependency tree       \n",
            "Reading state information... Done\n",
            "fonts-nanum is already the newest version (20170925-1).\n",
            "The following package was automatically installed and is no longer required:\n",
            "  libnvidia-common-460\n",
            "Use 'sudo apt autoremove' to remove it.\n",
            "0 upgraded, 0 newly installed, 0 to remove and 19 not upgraded.\n",
            "/usr/share/fonts: caching, new cache contents: 0 fonts, 1 dirs\n",
            "/usr/share/fonts/truetype: caching, new cache contents: 0 fonts, 3 dirs\n",
            "/usr/share/fonts/truetype/humor-sans: caching, new cache contents: 1 fonts, 0 dirs\n",
            "/usr/share/fonts/truetype/liberation: caching, new cache contents: 16 fonts, 0 dirs\n",
            "/usr/share/fonts/truetype/nanum: caching, new cache contents: 10 fonts, 0 dirs\n",
            "/usr/local/share/fonts: caching, new cache contents: 0 fonts, 0 dirs\n",
            "/root/.local/share/fonts: skipping, no such directory\n",
            "/root/.fonts: skipping, no such directory\n",
            "/var/cache/fontconfig: cleaning cache directory\n",
            "/root/.cache/fontconfig: not cleaning non-existent cache directory\n",
            "/root/.fontconfig: not cleaning non-existent cache directory\n",
            "fc-cache: succeeded\n"
          ]
        }
      ]
    },
    {
      "cell_type": "markdown",
      "metadata": {
        "id": "Njt0HrWtCfg2"
      },
      "source": [
        "## 데이터 다운로드\n",
        "---\n",
        "아래 셀을 실행시켜 데이터를 colab 에 불러옵니다.\n",
        "셀 실행은 Ctrl + Enter 를 이용해 실행시킬 수 있습니다."
      ]
    },
    {
      "cell_type": "code",
      "metadata": {
        "id": "AEAqDnUPCtNT",
        "outputId": "5921c2ec-a587-4ecf-ea58-10015221f441",
        "colab": {
          "base_uri": "https://localhost:8080/"
        }
      },
      "source": [
        "# 데이터 다운로드 링크로 데이터를 코랩에 불러옵니다.\n",
        "\n",
        "!wget 'https://bit.ly/3i4n1QB'\n",
        "\n",
        "import zipfile\n",
        "with zipfile.ZipFile('3i4n1QB', 'r') as existing_zip:\n",
        "  \n",
        "    existing_zip.extractall('data')"
      ],
      "execution_count": 103,
      "outputs": [
        {
          "output_type": "stream",
          "name": "stdout",
          "text": [
            "--2022-08-10 05:49:15--  https://bit.ly/3i4n1QB\n",
            "Resolving bit.ly (bit.ly)... 67.199.248.10, 67.199.248.11\n",
            "Connecting to bit.ly (bit.ly)|67.199.248.10|:443... connected.\n",
            "HTTP request sent, awaiting response... 301 Moved Permanently\n",
            "Location: https://drive.google.com/uc?export=download&id=1emLrrpFWT8dCoj5BJb12-5QMG2-nruUw [following]\n",
            "--2022-08-10 05:49:15--  https://drive.google.com/uc?export=download&id=1emLrrpFWT8dCoj5BJb12-5QMG2-nruUw\n",
            "Resolving drive.google.com (drive.google.com)... 142.250.148.113, 142.250.148.101, 142.250.148.139, ...\n",
            "Connecting to drive.google.com (drive.google.com)|142.250.148.113|:443... connected.\n",
            "HTTP request sent, awaiting response... 303 See Other\n",
            "Location: https://doc-10-10-docs.googleusercontent.com/docs/securesc/ha0ro937gcuc7l7deffksulhg5h7mbp1/02svn0sh5u8vaq44p6glja2s4utmadnf/1660110525000/17946651057176172524/*/1emLrrpFWT8dCoj5BJb12-5QMG2-nruUw?e=download&uuid=2f7b878c-a5fc-4952-9a3e-c0de42e15662 [following]\n",
            "Warning: wildcards not supported in HTTP.\n",
            "--2022-08-10 05:49:15--  https://doc-10-10-docs.googleusercontent.com/docs/securesc/ha0ro937gcuc7l7deffksulhg5h7mbp1/02svn0sh5u8vaq44p6glja2s4utmadnf/1660110525000/17946651057176172524/*/1emLrrpFWT8dCoj5BJb12-5QMG2-nruUw?e=download&uuid=2f7b878c-a5fc-4952-9a3e-c0de42e15662\n",
            "Resolving doc-10-10-docs.googleusercontent.com (doc-10-10-docs.googleusercontent.com)... 74.125.132.132, 2607:f8b0:4001:c00::84\n",
            "Connecting to doc-10-10-docs.googleusercontent.com (doc-10-10-docs.googleusercontent.com)|74.125.132.132|:443... connected.\n",
            "HTTP request sent, awaiting response... 200 OK\n",
            "Length: 137694 (134K) [application/zip]\n",
            "Saving to: ‘3i4n1QB.5’\n",
            "\n",
            "3i4n1QB.5           100%[===================>] 134.47K  --.-KB/s    in 0.002s  \n",
            "\n",
            "2022-08-10 05:49:15 (66.7 MB/s) - ‘3i4n1QB.5’ saved [137694/137694]\n",
            "\n"
          ]
        }
      ]
    },
    {
      "cell_type": "markdown",
      "metadata": {
        "id": "lkWHR5fWFaug"
      },
      "source": [
        "## 라이브러리 불러오기\n",
        "---"
      ]
    },
    {
      "cell_type": "code",
      "metadata": {
        "id": "GqVbFVMCGJzT"
      },
      "source": [
        "import pandas as pd\n",
        "\n",
        "# 시각화에 필요한 라이브러리를 import\n",
        "import matplotlib\n",
        "import matplotlib.pyplot as plt\n",
        "import seaborn as sns\n",
        "\n",
        "# 쥬피터노트에서 결과를 출력하도록 설정\n",
        "%matplotlib inline\n",
        "\n",
        "# 글꼴 설정\n",
        "plt.rc('font', family='NanumBarunGothic')\n",
        "\n",
        "# 마이너스 기호 출력\n",
        "plt.rc('axes', unicode_minus=False)\n",
        "\n",
        "# 분석에 문제가 없는 경고 메세지는 숨긴다.\n",
        "import warnings\n",
        "warnings.filterwarnings('ignore')"
      ],
      "execution_count": 104,
      "outputs": []
    },
    {
      "cell_type": "markdown",
      "metadata": {
        "id": "z5B4oF7NNg7x"
      },
      "source": [
        "## 데이터 불러오기\n",
        "---"
      ]
    },
    {
      "cell_type": "code",
      "metadata": {
        "id": "o4wn5-67Nimj"
      },
      "source": [
        "train = pd.read_csv('data/train.csv')"
      ],
      "execution_count": 105,
      "outputs": []
    },
    {
      "cell_type": "markdown",
      "metadata": {
        "id": "ZksEbPou52yW"
      },
      "source": [
        "## 👋 실습\n",
        "---"
      ]
    },
    {
      "cell_type": "code",
      "source": [
        "train.columns"
      ],
      "metadata": {
        "id": "TPd-JBITP0iB",
        "outputId": "6ece5872-5ff3-4dcf-cbef-f61c25f4837e",
        "colab": {
          "base_uri": "https://localhost:8080/"
        }
      },
      "execution_count": 106,
      "outputs": [
        {
          "output_type": "execute_result",
          "data": {
            "text/plain": [
              "Index(['index', 'quality', 'fixed acidity', 'volatile acidity', 'citric acid',\n",
              "       'residual sugar', 'chlorides', 'free sulfur dioxide',\n",
              "       'total sulfur dioxide', 'density', 'pH', 'sulphates', 'alcohol',\n",
              "       'type'],\n",
              "      dtype='object')"
            ]
          },
          "metadata": {},
          "execution_count": 106
        }
      ]
    },
    {
      "cell_type": "code",
      "source": [
        "train.info()"
      ],
      "metadata": {
        "id": "qeFjcI47QFY3",
        "outputId": "9b60ba29-3b24-4f36-96cd-dfd4145e1c04",
        "colab": {
          "base_uri": "https://localhost:8080/"
        }
      },
      "execution_count": 107,
      "outputs": [
        {
          "output_type": "stream",
          "name": "stdout",
          "text": [
            "<class 'pandas.core.frame.DataFrame'>\n",
            "RangeIndex: 5497 entries, 0 to 5496\n",
            "Data columns (total 14 columns):\n",
            " #   Column                Non-Null Count  Dtype  \n",
            "---  ------                --------------  -----  \n",
            " 0   index                 5497 non-null   int64  \n",
            " 1   quality               5497 non-null   int64  \n",
            " 2   fixed acidity         5497 non-null   float64\n",
            " 3   volatile acidity      5497 non-null   float64\n",
            " 4   citric acid           5497 non-null   float64\n",
            " 5   residual sugar        5497 non-null   float64\n",
            " 6   chlorides             5497 non-null   float64\n",
            " 7   free sulfur dioxide   5497 non-null   float64\n",
            " 8   total sulfur dioxide  5497 non-null   float64\n",
            " 9   density               5497 non-null   float64\n",
            " 10  pH                    5497 non-null   float64\n",
            " 11  sulphates             5497 non-null   float64\n",
            " 12  alcohol               5497 non-null   float64\n",
            " 13  type                  5497 non-null   object \n",
            "dtypes: float64(11), int64(2), object(1)\n",
            "memory usage: 601.4+ KB\n"
          ]
        }
      ]
    },
    {
      "cell_type": "code",
      "source": [
        "train.isnull().sum()"
      ],
      "metadata": {
        "id": "PCHhTLXnQlvH",
        "outputId": "0c8d82b2-f3ed-4996-f793-55a407ba51dc",
        "colab": {
          "base_uri": "https://localhost:8080/"
        }
      },
      "execution_count": 108,
      "outputs": [
        {
          "output_type": "execute_result",
          "data": {
            "text/plain": [
              "index                   0\n",
              "quality                 0\n",
              "fixed acidity           0\n",
              "volatile acidity        0\n",
              "citric acid             0\n",
              "residual sugar          0\n",
              "chlorides               0\n",
              "free sulfur dioxide     0\n",
              "total sulfur dioxide    0\n",
              "density                 0\n",
              "pH                      0\n",
              "sulphates               0\n",
              "alcohol                 0\n",
              "type                    0\n",
              "dtype: int64"
            ]
          },
          "metadata": {},
          "execution_count": 108
        }
      ]
    },
    {
      "cell_type": "code",
      "source": [
        "train.describe(include =\"all\")"
      ],
      "metadata": {
        "id": "CAa4Fj_tQrQG",
        "outputId": "245a1c44-3eb4-43bb-fa5d-21ae994cab70",
        "colab": {
          "base_uri": "https://localhost:8080/",
          "height": 394
        }
      },
      "execution_count": 109,
      "outputs": [
        {
          "output_type": "execute_result",
          "data": {
            "text/plain": [
              "              index      quality  fixed acidity  volatile acidity  \\\n",
              "count   5497.000000  5497.000000    5497.000000       5497.000000   \n",
              "unique          NaN          NaN            NaN               NaN   \n",
              "top             NaN          NaN            NaN               NaN   \n",
              "freq            NaN          NaN            NaN               NaN   \n",
              "mean    2748.000000     5.818992       7.210115          0.338163   \n",
              "std     1586.991546     0.870311       1.287579          0.163224   \n",
              "min        0.000000     3.000000       3.800000          0.080000   \n",
              "25%     1374.000000     5.000000       6.400000          0.230000   \n",
              "50%     2748.000000     6.000000       7.000000          0.290000   \n",
              "75%     4122.000000     6.000000       7.700000          0.400000   \n",
              "max     5496.000000     9.000000      15.900000          1.580000   \n",
              "\n",
              "        citric acid  residual sugar    chlorides  free sulfur dioxide  \\\n",
              "count   5497.000000     5497.000000  5497.000000          5497.000000   \n",
              "unique          NaN             NaN          NaN                  NaN   \n",
              "top             NaN             NaN          NaN                  NaN   \n",
              "freq            NaN             NaN          NaN                  NaN   \n",
              "mean       0.318543        5.438075     0.055808            30.417682   \n",
              "std        0.145104        4.756676     0.034653            17.673881   \n",
              "min        0.000000        0.600000     0.009000             1.000000   \n",
              "25%        0.250000        1.800000     0.038000            17.000000   \n",
              "50%        0.310000        3.000000     0.047000            29.000000   \n",
              "75%        0.390000        8.100000     0.064000            41.000000   \n",
              "max        1.660000       65.800000     0.610000           289.000000   \n",
              "\n",
              "        total sulfur dioxide      density           pH    sulphates  \\\n",
              "count            5497.000000  5497.000000  5497.000000  5497.000000   \n",
              "unique                   NaN          NaN          NaN          NaN   \n",
              "top                      NaN          NaN          NaN          NaN   \n",
              "freq                     NaN          NaN          NaN          NaN   \n",
              "mean              115.566491     0.994673     3.219502     0.530524   \n",
              "std                56.288223     0.003014     0.160713     0.149396   \n",
              "min                 6.000000     0.987110     2.740000     0.220000   \n",
              "25%                78.000000     0.992300     3.110000     0.430000   \n",
              "50%               118.000000     0.994800     3.210000     0.510000   \n",
              "75%               155.000000     0.996930     3.320000     0.600000   \n",
              "max               440.000000     1.038980     4.010000     2.000000   \n",
              "\n",
              "            alcohol   type  \n",
              "count   5497.000000   5497  \n",
              "unique          NaN      2  \n",
              "top             NaN  white  \n",
              "freq            NaN   4159  \n",
              "mean      10.504918    NaN  \n",
              "std        1.194524    NaN  \n",
              "min        8.000000    NaN  \n",
              "25%        9.500000    NaN  \n",
              "50%       10.300000    NaN  \n",
              "75%       11.300000    NaN  \n",
              "max       14.900000    NaN  "
            ],
            "text/html": [
              "\n",
              "  <div id=\"df-40d1d322-e9f8-4635-9353-81d7c31276fc\">\n",
              "    <div class=\"colab-df-container\">\n",
              "      <div>\n",
              "<style scoped>\n",
              "    .dataframe tbody tr th:only-of-type {\n",
              "        vertical-align: middle;\n",
              "    }\n",
              "\n",
              "    .dataframe tbody tr th {\n",
              "        vertical-align: top;\n",
              "    }\n",
              "\n",
              "    .dataframe thead th {\n",
              "        text-align: right;\n",
              "    }\n",
              "</style>\n",
              "<table border=\"1\" class=\"dataframe\">\n",
              "  <thead>\n",
              "    <tr style=\"text-align: right;\">\n",
              "      <th></th>\n",
              "      <th>index</th>\n",
              "      <th>quality</th>\n",
              "      <th>fixed acidity</th>\n",
              "      <th>volatile acidity</th>\n",
              "      <th>citric acid</th>\n",
              "      <th>residual sugar</th>\n",
              "      <th>chlorides</th>\n",
              "      <th>free sulfur dioxide</th>\n",
              "      <th>total sulfur dioxide</th>\n",
              "      <th>density</th>\n",
              "      <th>pH</th>\n",
              "      <th>sulphates</th>\n",
              "      <th>alcohol</th>\n",
              "      <th>type</th>\n",
              "    </tr>\n",
              "  </thead>\n",
              "  <tbody>\n",
              "    <tr>\n",
              "      <th>count</th>\n",
              "      <td>5497.000000</td>\n",
              "      <td>5497.000000</td>\n",
              "      <td>5497.000000</td>\n",
              "      <td>5497.000000</td>\n",
              "      <td>5497.000000</td>\n",
              "      <td>5497.000000</td>\n",
              "      <td>5497.000000</td>\n",
              "      <td>5497.000000</td>\n",
              "      <td>5497.000000</td>\n",
              "      <td>5497.000000</td>\n",
              "      <td>5497.000000</td>\n",
              "      <td>5497.000000</td>\n",
              "      <td>5497.000000</td>\n",
              "      <td>5497</td>\n",
              "    </tr>\n",
              "    <tr>\n",
              "      <th>unique</th>\n",
              "      <td>NaN</td>\n",
              "      <td>NaN</td>\n",
              "      <td>NaN</td>\n",
              "      <td>NaN</td>\n",
              "      <td>NaN</td>\n",
              "      <td>NaN</td>\n",
              "      <td>NaN</td>\n",
              "      <td>NaN</td>\n",
              "      <td>NaN</td>\n",
              "      <td>NaN</td>\n",
              "      <td>NaN</td>\n",
              "      <td>NaN</td>\n",
              "      <td>NaN</td>\n",
              "      <td>2</td>\n",
              "    </tr>\n",
              "    <tr>\n",
              "      <th>top</th>\n",
              "      <td>NaN</td>\n",
              "      <td>NaN</td>\n",
              "      <td>NaN</td>\n",
              "      <td>NaN</td>\n",
              "      <td>NaN</td>\n",
              "      <td>NaN</td>\n",
              "      <td>NaN</td>\n",
              "      <td>NaN</td>\n",
              "      <td>NaN</td>\n",
              "      <td>NaN</td>\n",
              "      <td>NaN</td>\n",
              "      <td>NaN</td>\n",
              "      <td>NaN</td>\n",
              "      <td>white</td>\n",
              "    </tr>\n",
              "    <tr>\n",
              "      <th>freq</th>\n",
              "      <td>NaN</td>\n",
              "      <td>NaN</td>\n",
              "      <td>NaN</td>\n",
              "      <td>NaN</td>\n",
              "      <td>NaN</td>\n",
              "      <td>NaN</td>\n",
              "      <td>NaN</td>\n",
              "      <td>NaN</td>\n",
              "      <td>NaN</td>\n",
              "      <td>NaN</td>\n",
              "      <td>NaN</td>\n",
              "      <td>NaN</td>\n",
              "      <td>NaN</td>\n",
              "      <td>4159</td>\n",
              "    </tr>\n",
              "    <tr>\n",
              "      <th>mean</th>\n",
              "      <td>2748.000000</td>\n",
              "      <td>5.818992</td>\n",
              "      <td>7.210115</td>\n",
              "      <td>0.338163</td>\n",
              "      <td>0.318543</td>\n",
              "      <td>5.438075</td>\n",
              "      <td>0.055808</td>\n",
              "      <td>30.417682</td>\n",
              "      <td>115.566491</td>\n",
              "      <td>0.994673</td>\n",
              "      <td>3.219502</td>\n",
              "      <td>0.530524</td>\n",
              "      <td>10.504918</td>\n",
              "      <td>NaN</td>\n",
              "    </tr>\n",
              "    <tr>\n",
              "      <th>std</th>\n",
              "      <td>1586.991546</td>\n",
              "      <td>0.870311</td>\n",
              "      <td>1.287579</td>\n",
              "      <td>0.163224</td>\n",
              "      <td>0.145104</td>\n",
              "      <td>4.756676</td>\n",
              "      <td>0.034653</td>\n",
              "      <td>17.673881</td>\n",
              "      <td>56.288223</td>\n",
              "      <td>0.003014</td>\n",
              "      <td>0.160713</td>\n",
              "      <td>0.149396</td>\n",
              "      <td>1.194524</td>\n",
              "      <td>NaN</td>\n",
              "    </tr>\n",
              "    <tr>\n",
              "      <th>min</th>\n",
              "      <td>0.000000</td>\n",
              "      <td>3.000000</td>\n",
              "      <td>3.800000</td>\n",
              "      <td>0.080000</td>\n",
              "      <td>0.000000</td>\n",
              "      <td>0.600000</td>\n",
              "      <td>0.009000</td>\n",
              "      <td>1.000000</td>\n",
              "      <td>6.000000</td>\n",
              "      <td>0.987110</td>\n",
              "      <td>2.740000</td>\n",
              "      <td>0.220000</td>\n",
              "      <td>8.000000</td>\n",
              "      <td>NaN</td>\n",
              "    </tr>\n",
              "    <tr>\n",
              "      <th>25%</th>\n",
              "      <td>1374.000000</td>\n",
              "      <td>5.000000</td>\n",
              "      <td>6.400000</td>\n",
              "      <td>0.230000</td>\n",
              "      <td>0.250000</td>\n",
              "      <td>1.800000</td>\n",
              "      <td>0.038000</td>\n",
              "      <td>17.000000</td>\n",
              "      <td>78.000000</td>\n",
              "      <td>0.992300</td>\n",
              "      <td>3.110000</td>\n",
              "      <td>0.430000</td>\n",
              "      <td>9.500000</td>\n",
              "      <td>NaN</td>\n",
              "    </tr>\n",
              "    <tr>\n",
              "      <th>50%</th>\n",
              "      <td>2748.000000</td>\n",
              "      <td>6.000000</td>\n",
              "      <td>7.000000</td>\n",
              "      <td>0.290000</td>\n",
              "      <td>0.310000</td>\n",
              "      <td>3.000000</td>\n",
              "      <td>0.047000</td>\n",
              "      <td>29.000000</td>\n",
              "      <td>118.000000</td>\n",
              "      <td>0.994800</td>\n",
              "      <td>3.210000</td>\n",
              "      <td>0.510000</td>\n",
              "      <td>10.300000</td>\n",
              "      <td>NaN</td>\n",
              "    </tr>\n",
              "    <tr>\n",
              "      <th>75%</th>\n",
              "      <td>4122.000000</td>\n",
              "      <td>6.000000</td>\n",
              "      <td>7.700000</td>\n",
              "      <td>0.400000</td>\n",
              "      <td>0.390000</td>\n",
              "      <td>8.100000</td>\n",
              "      <td>0.064000</td>\n",
              "      <td>41.000000</td>\n",
              "      <td>155.000000</td>\n",
              "      <td>0.996930</td>\n",
              "      <td>3.320000</td>\n",
              "      <td>0.600000</td>\n",
              "      <td>11.300000</td>\n",
              "      <td>NaN</td>\n",
              "    </tr>\n",
              "    <tr>\n",
              "      <th>max</th>\n",
              "      <td>5496.000000</td>\n",
              "      <td>9.000000</td>\n",
              "      <td>15.900000</td>\n",
              "      <td>1.580000</td>\n",
              "      <td>1.660000</td>\n",
              "      <td>65.800000</td>\n",
              "      <td>0.610000</td>\n",
              "      <td>289.000000</td>\n",
              "      <td>440.000000</td>\n",
              "      <td>1.038980</td>\n",
              "      <td>4.010000</td>\n",
              "      <td>2.000000</td>\n",
              "      <td>14.900000</td>\n",
              "      <td>NaN</td>\n",
              "    </tr>\n",
              "  </tbody>\n",
              "</table>\n",
              "</div>\n",
              "      <button class=\"colab-df-convert\" onclick=\"convertToInteractive('df-40d1d322-e9f8-4635-9353-81d7c31276fc')\"\n",
              "              title=\"Convert this dataframe to an interactive table.\"\n",
              "              style=\"display:none;\">\n",
              "        \n",
              "  <svg xmlns=\"http://www.w3.org/2000/svg\" height=\"24px\"viewBox=\"0 0 24 24\"\n",
              "       width=\"24px\">\n",
              "    <path d=\"M0 0h24v24H0V0z\" fill=\"none\"/>\n",
              "    <path d=\"M18.56 5.44l.94 2.06.94-2.06 2.06-.94-2.06-.94-.94-2.06-.94 2.06-2.06.94zm-11 1L8.5 8.5l.94-2.06 2.06-.94-2.06-.94L8.5 2.5l-.94 2.06-2.06.94zm10 10l.94 2.06.94-2.06 2.06-.94-2.06-.94-.94-2.06-.94 2.06-2.06.94z\"/><path d=\"M17.41 7.96l-1.37-1.37c-.4-.4-.92-.59-1.43-.59-.52 0-1.04.2-1.43.59L10.3 9.45l-7.72 7.72c-.78.78-.78 2.05 0 2.83L4 21.41c.39.39.9.59 1.41.59.51 0 1.02-.2 1.41-.59l7.78-7.78 2.81-2.81c.8-.78.8-2.07 0-2.86zM5.41 20L4 18.59l7.72-7.72 1.47 1.35L5.41 20z\"/>\n",
              "  </svg>\n",
              "      </button>\n",
              "      \n",
              "  <style>\n",
              "    .colab-df-container {\n",
              "      display:flex;\n",
              "      flex-wrap:wrap;\n",
              "      gap: 12px;\n",
              "    }\n",
              "\n",
              "    .colab-df-convert {\n",
              "      background-color: #E8F0FE;\n",
              "      border: none;\n",
              "      border-radius: 50%;\n",
              "      cursor: pointer;\n",
              "      display: none;\n",
              "      fill: #1967D2;\n",
              "      height: 32px;\n",
              "      padding: 0 0 0 0;\n",
              "      width: 32px;\n",
              "    }\n",
              "\n",
              "    .colab-df-convert:hover {\n",
              "      background-color: #E2EBFA;\n",
              "      box-shadow: 0px 1px 2px rgba(60, 64, 67, 0.3), 0px 1px 3px 1px rgba(60, 64, 67, 0.15);\n",
              "      fill: #174EA6;\n",
              "    }\n",
              "\n",
              "    [theme=dark] .colab-df-convert {\n",
              "      background-color: #3B4455;\n",
              "      fill: #D2E3FC;\n",
              "    }\n",
              "\n",
              "    [theme=dark] .colab-df-convert:hover {\n",
              "      background-color: #434B5C;\n",
              "      box-shadow: 0px 1px 3px 1px rgba(0, 0, 0, 0.15);\n",
              "      filter: drop-shadow(0px 1px 2px rgba(0, 0, 0, 0.3));\n",
              "      fill: #FFFFFF;\n",
              "    }\n",
              "  </style>\n",
              "\n",
              "      <script>\n",
              "        const buttonEl =\n",
              "          document.querySelector('#df-40d1d322-e9f8-4635-9353-81d7c31276fc button.colab-df-convert');\n",
              "        buttonEl.style.display =\n",
              "          google.colab.kernel.accessAllowed ? 'block' : 'none';\n",
              "\n",
              "        async function convertToInteractive(key) {\n",
              "          const element = document.querySelector('#df-40d1d322-e9f8-4635-9353-81d7c31276fc');\n",
              "          const dataTable =\n",
              "            await google.colab.kernel.invokeFunction('convertToInteractive',\n",
              "                                                     [key], {});\n",
              "          if (!dataTable) return;\n",
              "\n",
              "          const docLinkHtml = 'Like what you see? Visit the ' +\n",
              "            '<a target=\"_blank\" href=https://colab.research.google.com/notebooks/data_table.ipynb>data table notebook</a>'\n",
              "            + ' to learn more about interactive tables.';\n",
              "          element.innerHTML = '';\n",
              "          dataTable['output_type'] = 'display_data';\n",
              "          await google.colab.output.renderOutput(dataTable, element);\n",
              "          const docLink = document.createElement('div');\n",
              "          docLink.innerHTML = docLinkHtml;\n",
              "          element.appendChild(docLink);\n",
              "        }\n",
              "      </script>\n",
              "    </div>\n",
              "  </div>\n",
              "  "
            ]
          },
          "metadata": {},
          "execution_count": 109
        }
      ]
    },
    {
      "cell_type": "code",
      "metadata": {
        "id": "YdvozqoZ4uhk"
      },
      "source": [
        "# copy() 매서드로 학습 데이터의 복사본을 생성하세요.\n",
        "traincopy = train.copy()"
      ],
      "execution_count": 110,
      "outputs": []
    },
    {
      "cell_type": "code",
      "metadata": {
        "id": "hqAiMi9Zdqol",
        "outputId": "91fb8bac-e296-402f-bf6d-bb87181133ad",
        "colab": {
          "base_uri": "https://localhost:8080/",
          "height": 385
        }
      },
      "source": [
        "# 타깃 변수(와인품질)의 분포를 시각화합니다.\n",
        "#1 seaborn 의 displot() 으로 어느 변수를 시각화할지 옵션에 지정해주세요.\n",
        "sns.displot(traincopy['quality'], kde=True)\n",
        "#2 matplot 의 axis() 로 각 축의 최소, 최대 값을 지정해주세요.    #plt.axis(['x 축 최솟값, x 축 최댓값, y 축 최솟값, y 축 최댓값'])\n",
        "plt.axis([0, 15, 0, 2500]) \n",
        "#3 matplot 의 title() 로 그래프의 제목을 지정해주세요.\n",
        "plt.title(\"Quality of wine\")\n",
        "#4 matplot 의 show() 로 그래프를 출력해주세요.\n",
        "plt.show()"
      ],
      "execution_count": 111,
      "outputs": [
        {
          "output_type": "display_data",
          "data": {
            "text/plain": [
              "<Figure size 360x360 with 1 Axes>"
            ],
            "image/png": "[encoded data removed]"
          },
          "metadata": {
            "needs_background": "light"
          }
        }
      ]
    },
    {
      "cell_type": "code",
      "source": [
        "# 타깃 변수(와인품질)의 분포를 시각화합니다.\n",
        "#1 seaborn 의 displot() 으로 어느 변수를 시각화할지 옵션에 지정해주세요.\n",
        "sns.displot(traincopy['quality'], kde= False, bins=5)\n",
        "#2 matplot 의 axis() 로 각 축의 최소, 최대 값을 지정해주세요.    #plt.axis(['x 축 최솟값, x 축 최댓값, y 축 최솟값, y 축 최댓값'])\n",
        "plt.axis([0, 15, 0, 2500]) \n",
        "#3 matplot 의 title() 로 그래프의 제목을 지정해주세요.\n",
        "plt.title(\"Quality of wine\")\n",
        "#4 matplot 의 show() 로 그래프를 출력해주세요.\n",
        "plt.show()"
      ],
      "metadata": {
        "id": "c4TSTf1cSGOk",
        "outputId": "70e35d0b-fa0f-4f8d-af2b-aa2ef86da388",
        "colab": {
          "base_uri": "https://localhost:8080/",
          "height": 385
        }
      },
      "execution_count": 112,
      "outputs": [
        {
          "output_type": "display_data",
          "data": {
            "text/plain": [
              "<Figure size 360x360 with 1 Axes>"
            ],
            "image/png": "[encoded data removed]"
          },
          "metadata": {
            "needs_background": "light"
          }
        }
      ]
    },
    {
      "cell_type": "markdown",
      "metadata": {
        "id": "J1Is2vFL4cxY"
      },
      "source": [
        "## 정답\n",
        "---"
      ]
    },
    {
      "cell_type": "code",
      "metadata": {
        "id": "r67Dma3wPuca"
      },
      "source": [
        "# copy() 매서드로 학습 데이터의 복사본을 생성하세요.\n",
        "traindata = train.copy()"
      ],
      "execution_count": 113,
      "outputs": []
    },
    {
      "cell_type": "code",
      "metadata": {
        "id": "QeeYkf50d6jD",
        "outputId": "8b95c459-2db3-4ccd-982d-097ec382a39c",
        "colab": {
          "base_uri": "https://localhost:8080/",
          "height": 295
        }
      },
      "source": [
        "# 타깃 변수(와인 품질) 분포 시각화\n",
        "sns.distplot(traindata['quality'], kde=False, bins=10)\n",
        "plt.axis([0, 10, 0, 2500]) # [x 축 최솟값, x 축 최댓값, y 축 최솟값, y 축 최댓값]\n",
        "plt.title(\"와인 품질\") # 그래프 제목 지정\n",
        "plt.show() # 그래프 그리기"
      ],
      "execution_count": 114,
      "outputs": [
        {
          "output_type": "display_data",
          "data": {
            "text/plain": [
              "<Figure size 432x288 with 1 Axes>"
            ],
            "image/png": "[encoded data removed]"
          },
          "metadata": {
            "needs_background": "light"
          }
        }
      ]
    },
    {
      "cell_type": "code",
      "source": [
        "# 타깃 변수(와인 품질) 분포 시각화\n",
        "sns.distplot(traindata['quality'], kde=False, bins=10)\n",
        "plt.axis([0, 10, 0, 2500]) # [x 축 최솟값, x 축 최댓값, y 축 최솟값, y 축 최댓값]\n",
        "plt.title(\"와인 품질\") # 그래프 제목 지정\n",
        "plt.show() # 그래프 그리기"
      ],
      "metadata": {
        "id": "TfUqMlluSgAc",
        "outputId": "bdbfc44b-2d10-4f45-f9ac-a36a7443e87c",
        "colab": {
          "base_uri": "https://localhost:8080/",
          "height": 295
        }
      },
      "execution_count": 115,
      "outputs": [
        {
          "output_type": "display_data",
          "data": {
            "text/plain": [
              "<Figure size 432x288 with 1 Axes>"
            ],
            "image/png": "[encoded data removed]"
          },
          "metadata": {
            "needs_background": "light"
          }
        }
      ]
    },
    {
      "cell_type": "code",
      "source": [
        "# 타깃 변수(와인 품질) 분포 시각화\n",
        "sns.distplot(traindata['quality'], kde=False, bins=10)\n",
        "plt.axis([0, 10, 0, 2500]) # [x 축 최솟값, x 축 최댓값, y 축 최솟값, y 축 최댓값]\n",
        "plt.title(\"와인 품질\") # 그래프 제목 지정\n",
        "plt.show() # 그래프 그리기"
      ],
      "metadata": {
        "id": "Vh3OxCmfTDbO",
        "outputId": "73688a03-2cdf-4693-e758-8b7d0ffc6426",
        "colab": {
          "base_uri": "https://localhost:8080/",
          "height": 295
        }
      },
      "execution_count": 116,
      "outputs": [
        {
          "output_type": "display_data",
          "data": {
            "text/plain": [
              "<Figure size 432x288 with 1 Axes>"
            ],
            "image/png": "[encoded data removed]"
          },
          "metadata": {
            "needs_background": "light"
          }
        }
      ]
    },
    {
      "cell_type": "markdown",
      "metadata": {
        "id": "K8YgC54VtiB7"
      },
      "source": [
        "# [↩️ 리스트로 돌아가기](https://dacon.io/competitions/open/235698/overview/description)"
      ]
    }
  ]
}