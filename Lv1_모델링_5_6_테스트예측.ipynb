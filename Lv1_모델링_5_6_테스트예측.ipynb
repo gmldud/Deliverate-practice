{
  "nbformat": 4,
  "nbformat_minor": 0,
  "metadata": {
    "colab": {
      "name": "Lv1 모델링 5/6 테스트예측",
      "provenance": [],
      "collapsed_sections": [
        "AUk_fCmVhtIc"
      ],
      "include_colab_link": true
    },
    "kernelspec": {
      "name": "python3",
      "display_name": "Python 3"
    },
    "language_info": {
      "name": "python"
    }
  },
  "cells": [
    {
      "cell_type": "markdown",
      "metadata": {
        "id": "view-in-github",
        "colab_type": "text"
      },
      "source": [
        "<a href=\"https://colab.research.google.com/github/gmldud/Deliverate_Practice/blob/main/Lv1_%EB%AA%A8%EB%8D%B8%EB%A7%81_5_6_%ED%85%8C%EC%8A%A4%ED%8A%B8%EC%98%88%EC%B8%A1.ipynb\" target=\"_parent\"><img src=\"https://colab.research.google.com/assets/colab-badge.svg\" alt=\"Open In Colab\"/></a>"
      ]
    },
    {
      "cell_type": "markdown",
      "metadata": {
        "id": "vIpjpOEXsoW0"
      },
      "source": [
        "# [↩️ 리스트로 돌아가기](https://dacon.io/competitions/open/235698/overview/description)"
      ]
    },
    {
      "cell_type": "markdown",
      "metadata": {
        "id": "-Xk4YBNFhkPe"
      },
      "source": [
        "# 셀을 실행할 때 팝업이 뜨면 `무시하고 계속하기` 를 눌러주세요\n"
      ]
    },
    {
      "cell_type": "markdown",
      "metadata": {
        "id": "7A1_NrpnNgI0"
      },
      "source": [
        "## 데이터 다운로드\n",
        "--- \n",
        "아래 셀을 실행시켜 데이터를 colab에 불러옵니다.  \n",
        "셀 실행은 Ctrl + Enter 를 이용해 실행 시킬 수 있습니다. "
      ]
    },
    {
      "cell_type": "code",
      "metadata": {
        "id": "a3VxvpLvhnap",
        "outputId": "e93f8d32-4fcb-4ba6-ab78-7fa2a0fb8394",
        "colab": {
          "base_uri": "https://localhost:8080/"
        }
      },
      "source": [
        "# 데이터 다운로드 링크로 데이터를 코랩에 불러옵니다.\n",
        "\n",
        "!wget 'https://bit.ly/3gLj0Q6'\n",
        "\n",
        "import zipfile\n",
        "with zipfile.ZipFile('3gLj0Q6', 'r') as existing_zip:\n",
        "    existing_zip.extractall('data')"
      ],
      "execution_count": 1,
      "outputs": [
        {
          "output_type": "stream",
          "name": "stdout",
          "text": [
            "--2022-08-05 07:19:04--  https://bit.ly/3gLj0Q6\n",
            "Resolving bit.ly (bit.ly)... 67.199.248.11, 67.199.248.10\n",
            "Connecting to bit.ly (bit.ly)|67.199.248.11|:443... connected.\n",
            "HTTP request sent, awaiting response... 301 Moved Permanently\n",
            "Location: https://drive.google.com/uc?export=download&id=1or_QN1ksv81DNog6Tu_kWcZ5jJWf5W9E [following]\n",
            "--2022-08-05 07:19:04--  https://drive.google.com/uc?export=download&id=1or_QN1ksv81DNog6Tu_kWcZ5jJWf5W9E\n",
            "Resolving drive.google.com (drive.google.com)... 142.250.99.139, 142.250.99.102, 142.250.99.101, ...\n",
            "Connecting to drive.google.com (drive.google.com)|142.250.99.139|:443... connected.\n",
            "HTTP request sent, awaiting response... 303 See Other\n",
            "Location: https://doc-0c-10-docs.googleusercontent.com/docs/securesc/ha0ro937gcuc7l7deffksulhg5h7mbp1/vovupiub6noer61t2vvbnofi72855oqi/1659683925000/17946651057176172524/*/1or_QN1ksv81DNog6Tu_kWcZ5jJWf5W9E?e=download&uuid=5f8293ca-9577-409c-abcc-b7e4dd6fd718 [following]\n",
            "Warning: wildcards not supported in HTTP.\n",
            "--2022-08-05 07:19:05--  https://doc-0c-10-docs.googleusercontent.com/docs/securesc/ha0ro937gcuc7l7deffksulhg5h7mbp1/vovupiub6noer61t2vvbnofi72855oqi/1659683925000/17946651057176172524/*/1or_QN1ksv81DNog6Tu_kWcZ5jJWf5W9E?e=download&uuid=5f8293ca-9577-409c-abcc-b7e4dd6fd718\n",
            "Resolving doc-0c-10-docs.googleusercontent.com (doc-0c-10-docs.googleusercontent.com)... 74.125.142.132, 2607:f8b0:400e:c08::84\n",
            "Connecting to doc-0c-10-docs.googleusercontent.com (doc-0c-10-docs.googleusercontent.com)|74.125.142.132|:443... connected.\n",
            "HTTP request sent, awaiting response... 200 OK\n",
            "Length: 39208 (38K) [application/zip]\n",
            "Saving to: ‘3gLj0Q6’\n",
            "\n",
            "3gLj0Q6             100%[===================>]  38.29K  --.-KB/s    in 0s      \n",
            "\n",
            "2022-08-05 07:19:05 (111 MB/s) - ‘3gLj0Q6’ saved [39208/39208]\n",
            "\n"
          ]
        }
      ]
    },
    {
      "cell_type": "markdown",
      "metadata": {
        "id": "gx8XCXCxeQk8"
      },
      "source": [
        "## 라이브러리 불러오기\n",
        "---\n",
        "아래 셀을 실행시켜 pandas 와 DecisionTreeClassifier 를 불러옵니다."
      ]
    },
    {
      "cell_type": "code",
      "metadata": {
        "id": "kt_IKrkPeNwQ"
      },
      "source": [
        "import pandas as pd\n",
        "from sklearn.tree import DecisionTreeRegressor"
      ],
      "execution_count": 2,
      "outputs": []
    },
    {
      "cell_type": "markdown",
      "metadata": {
        "id": "VxC2pa2-rgat"
      },
      "source": [
        "## 데이터 불러오기\n",
        "---\n",
        "아래 셀을 실행시켜 csv 파일 데이터를 DataFrame 객체로 불러옵니다."
      ]
    },
    {
      "cell_type": "code",
      "metadata": {
        "id": "V6wTaK4sfnms"
      },
      "source": [
        "train = pd.read_csv('data/train.csv') \n",
        "test = pd.read_csv('data/test.csv')"
      ],
      "execution_count": 3,
      "outputs": []
    },
    {
      "cell_type": "markdown",
      "metadata": {
        "id": "w_PwM9kF7Pbi"
      },
      "source": [
        "## 결측치 전처리\n",
        "---\n",
        "train 의 결측치는 제거하고, test 의 결측치는 모두 0으로 대체합니다."
      ]
    },
    {
      "cell_type": "code",
      "metadata": {
        "id": "ryKlHfLWqgjY",
        "outputId": "6b79152a-20c8-4b33-be88-3c9135418d9d",
        "colab": {
          "base_uri": "https://localhost:8080/"
        }
      },
      "source": [
        "train = train.dropna()\n",
        "test = test.fillna(0)\n",
        "\n",
        "print(train.isnull().sum())\n",
        "print(test.isnull().sum())"
      ],
      "execution_count": 4,
      "outputs": [
        {
          "output_type": "stream",
          "name": "stdout",
          "text": [
            "id                        0\n",
            "hour                      0\n",
            "hour_bef_temperature      0\n",
            "hour_bef_precipitation    0\n",
            "hour_bef_windspeed        0\n",
            "hour_bef_humidity         0\n",
            "hour_bef_visibility       0\n",
            "hour_bef_ozone            0\n",
            "hour_bef_pm10             0\n",
            "hour_bef_pm2.5            0\n",
            "count                     0\n",
            "dtype: int64\n",
            "id                        0\n",
            "hour                      0\n",
            "hour_bef_temperature      0\n",
            "hour_bef_precipitation    0\n",
            "hour_bef_windspeed        0\n",
            "hour_bef_humidity         0\n",
            "hour_bef_visibility       0\n",
            "hour_bef_ozone            0\n",
            "hour_bef_pm10             0\n",
            "hour_bef_pm2.5            0\n",
            "dtype: int64\n"
          ]
        }
      ]
    },
    {
      "cell_type": "markdown",
      "metadata": {
        "id": "eHoQZSg2R3NC"
      },
      "source": [
        "## 모델 훈련\n",
        "---\n"
      ]
    },
    {
      "cell_type": "code",
      "metadata": {
        "id": "6EcxVzdNfwLR"
      },
      "source": [
        "X_train = train.drop(['count'], axis=1)\n",
        "Y_train = train['count']"
      ],
      "execution_count": 5,
      "outputs": []
    },
    {
      "cell_type": "code",
      "metadata": {
        "id": "CNOaDnbYfloy",
        "outputId": "5c83a9b8-04a2-4b70-d236-455f76b737c2",
        "colab": {
          "base_uri": "https://localhost:8080/"
        }
      },
      "source": [
        "model = DecisionTreeRegressor()\n",
        "model.fit(X_train, Y_train)"
      ],
      "execution_count": 6,
      "outputs": [
        {
          "output_type": "execute_result",
          "data": {
            "text/plain": [
              "DecisionTreeRegressor()"
            ]
          },
          "metadata": {},
          "execution_count": 6
        }
      ]
    },
    {
      "cell_type": "markdown",
      "metadata": {
        "id": "Q453R09NhqYM"
      },
      "source": [
        "## 👋 실습\n",
        "---\n",
        "predict() 를 이용해 test data 를 훈련된 모델로 예측한 data 를 생성하고 예측결과 상위 5개를 출력하는 코드를 작성하세요.\n"
      ]
    },
    {
      "cell_type": "code",
      "metadata": {
        "id": "SFBHavgcda_y",
        "outputId": "89765129-91d0-4769-8187-9200d675da92",
        "colab": {
          "base_uri": "https://localhost:8080/"
        }
      },
      "source": [
        "#predict에서는 학습에 사용된 데이터(train)가 아닌 테스트용 데이터(test)를 사용해야 함\n",
        "pred = model.predict(test) \n",
        "pred[:5]"
      ],
      "execution_count": 9,
      "outputs": [
        {
          "output_type": "execute_result",
          "data": {
            "text/plain": [
              "array([106., 164., 114.,  49.,  93.])"
            ]
          },
          "metadata": {},
          "execution_count": 9
        }
      ]
    },
    {
      "cell_type": "code",
      "source": [
        "pred"
      ],
      "metadata": {
        "id": "9OoUmUtd4Mkr",
        "outputId": "bc25facf-af3d-4ff9-f162-9a6be2f47727",
        "colab": {
          "base_uri": "https://localhost:8080/"
        }
      },
      "execution_count": 10,
      "outputs": [
        {
          "output_type": "execute_result",
          "data": {
            "text/plain": [
              "array([106., 164., 114.,  49.,  93., 129.,   5., 300.,  14., 165., 252.,\n",
              "       248., 114.,  20., 214., 165.,  29., 213., 380., 133., 215., 106.,\n",
              "        20., 138., 155., 119.,  31., 127., 129., 181.,  30.,  31., 137.,\n",
              "        92., 278.,  49., 156.,   5., 304.,   6., 137., 127., 215.,  30.,\n",
              "       324., 244.,   6., 137.,  28.,  80., 215.,  86., 241.,  93., 284.,\n",
              "        51.,  20., 150.,   2.,  16., 106.,  19., 316., 335., 143., 324.,\n",
              "        15., 229.,   5.,  21.,  95.,  50.,  56.,  18., 317., 284.,  37.,\n",
              "       127., 317.,  11., 252., 165., 103.,  90.,  74., 317., 137., 189.,\n",
              "       137., 252., 293., 133., 137.,  92.,  52.,  80., 117.,  30., 315.,\n",
              "       143.,  16., 127., 137., 137.,  12.,  93., 101.,  15., 179., 143.,\n",
              "       229., 317., 152., 119., 137., 108., 252.,  52., 284.,  17.,  95.,\n",
              "       124., 213., 339.,  52., 129., 137.,  28., 123., 137., 138., 123.,\n",
              "        28., 165., 271., 115.,  44., 161., 293., 431., 241.,  34.,  49.,\n",
              "       137.,  78., 115.,  42., 129., 167., 227., 161., 317., 380., 172.,\n",
              "         5.,   3., 129.,   3.,  80., 181., 133.,  17., 296., 172., 141.,\n",
              "        15., 316., 133., 324.,  16., 124., 108.,  86., 114.,  87.,  85.,\n",
              "       252., 213., 291.,  97., 186.,  56., 168., 257., 138., 137., 137.,\n",
              "       271., 133.,  44.,  38., 115., 137., 113., 181., 317., 380., 133.,\n",
              "       114., 119.,  17., 316.,  18., 380., 122.,  49., 138., 252., 191.,\n",
              "       137., 252., 241., 130., 315., 213.,  97., 278., 124., 189., 107.,\n",
              "       106.,  27.,  87., 137., 137.,  40., 182., 250.,  49., 241., 252.,\n",
              "       137.,  20.,  26., 109.,  95., 425., 317., 131., 127.,  16., 284.,\n",
              "        25.,  97., 137.,  89., 109., 315., 106.,  18., 103., 164., 315.,\n",
              "       241., 181., 191.,  34., 342.,  30.,  17., 127.,  29., 228.,  27.,\n",
              "       241., 315.,  28., 176.,  86., 248., 120., 121., 137., 324.,  17.,\n",
              "       278.,  86., 213., 267.,  40., 252.,  87.,  18., 151., 241., 124.,\n",
              "       290., 115., 137., 121.,  92., 290., 241., 181., 121.,  49., 133.,\n",
              "        39., 290.,  20.,  66., 290., 214., 217., 431., 284., 111., 137.,\n",
              "       167.,  75., 252., 278., 130.,  49., 205., 150., 109.,  45.,  34.,\n",
              "        16., 213.,  44., 138., 109., 103., 425., 252.,  95.,  57., 165.,\n",
              "        25., 103., 134., 233., 112.,  19., 274., 252., 120., 425.,  17.,\n",
              "        16., 293., 152., 108.,  15.,  15.,  87., 121., 252., 213., 304.,\n",
              "        37., 137., 130., 137.,  16.,  16.,  87., 101., 137., 111., 214.,\n",
              "       241.,  97.,  15.,  17.,  90.,  28., 123., 121., 100., 241., 252.,\n",
              "       221.,  17.,  38., 126., 117.,  19.,  46., 108., 310., 335., 121.,\n",
              "        26., 120., 150., 137., 127.,  44., 109., 252., 137., 132., 111.,\n",
              "       252.,  34.,  30., 228.,  20.,  69.,  15., 205.,  71.,  79., 213.,\n",
              "       241.,  94., 132., 272., 271., 111., 105.,  44.,  92., 291., 111.,\n",
              "       137., 137.,  16.,  29.,  17.,  46.,  92., 132.,  92., 126., 132.,\n",
              "       398., 120., 150., 252., 111., 132., 213., 252.,  31., 111., 398.,\n",
              "       239., 124.,  40.,  87., 221., 117., 119.,  42., 271., 335., 282.,\n",
              "        91., 152., 127., 120., 102., 127.,  74., 137., 108., 213., 221.,\n",
              "       137.,  94.,  80., 120., 252.,  74., 151., 309., 274., 137., 277.,\n",
              "        91., 215., 221.,   2.,   5., 213., 331.,  95., 117.,  34.,  17.,\n",
              "       214., 135., 342., 252.,  75., 126., 123., 150., 137.,  37.,  20.,\n",
              "       267.,  86., 228., 310., 164.,  18., 284., 137.,  93.,  30., 188.,\n",
              "       215.,  30., 138., 117., 316., 193., 198., 214., 431.,  74.,   7.,\n",
              "       127., 181., 213.,  30., 221.,  22., 137.,  20.,  82.,  31., 213.,\n",
              "       151., 173.,   7.,  17.,  33., 252.,  95.,  37.,  87.,  17.,  22.,\n",
              "        20., 252.,  15., 284., 244., 293., 127.,  92.,  56.,  87., 103.,\n",
              "       198.,  20.,  24., 165.,  22., 241., 165.,  30., 109., 188., 304.,\n",
              "       342.,  46.,  95.,  20.,  37.,  74., 109.,  30., 107.,  86., 316.,\n",
              "       199., 300., 152., 252., 199., 252.,  17.,  30.,  19.,  22., 100.,\n",
              "        18.,   2.,  91.,  19., 252., 274., 173., 100.,  69.,  30., 126.,\n",
              "        87.,  92., 173.,  18., 205., 129.,  28., 215.,  95.,  70., 103.,\n",
              "       151.,  86., 425., 271., 205., 127., 127.,  24., 111.,  42.,  24.,\n",
              "        56.,  41., 102., 267., 137., 175.,  87., 214., 135., 335., 137.,\n",
              "        14.,   8., 215., 205.,  94.,  22.,  46.,  95., 109., 217., 151.,\n",
              "        69.,   7., 135.,  90., 137.,  75., 310., 151., 252., 339., 293.,\n",
              "       213.,  17.,  75.,  87.,  57., 304., 252., 119., 111.,  92.,  22.,\n",
              "       124., 252.,  25.,  71., 111.,  75., 180., 151., 317.,  90.,  66.,\n",
              "        91., 271., 105., 180., 135.,   7., 267.,  15.,  33.,  28., 127.,\n",
              "        87., 199., 252., 115.,  93.,  27., 241.,  15., 135.,  15.,   7.,\n",
              "        95., 137., 126.,   7., 111., 127.,  30., 293., 214.,  18., 431.,\n",
              "       148., 213.,  43.,  80.,  31., 305., 137., 137., 132., 213., 241.])"
            ]
          },
          "metadata": {},
          "execution_count": 10
        }
      ]
    },
    {
      "cell_type": "markdown",
      "metadata": {
        "id": "AUk_fCmVhtIc"
      },
      "source": [
        "## 정답 (`숨겨진 셀 n개` 를 누르세요.)\n",
        "---\n",
        "질문사항을 얼마든지 [게시글](https://dacon.io/competitions/open/235698/talkboard/403540?page=1&dtype=recent)에 남겨주세요 😉 <br>\n",
        "궁금한 것, 이해가 안 되는 것, 원리, 확장개념, 참고 등등 모든 범위에서 얼마든지 질문을 달아주세요 🙋"
      ]
    },
    {
      "cell_type": "code",
      "metadata": {
        "id": "7xn5MlJ2Y971"
      },
      "source": [
        "pred = model.predict(test)\n",
        "pred[:5]"
      ],
      "execution_count": null,
      "outputs": []
    },
    {
      "cell_type": "markdown",
      "metadata": {
        "id": "dEDnCj4_s7mJ"
      },
      "source": [
        "# [↩️ 리스트로 돌아가기](https://dacon.io/competitions/open/235698/overview/description)"
      ]
    }
  ]
}