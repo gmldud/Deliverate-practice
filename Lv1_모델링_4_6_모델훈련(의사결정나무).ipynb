{
  "nbformat": 4,
  "nbformat_minor": 0,
  "metadata": {
    "colab": {
      "name": "Lv1 모델링 4/6 모델훈련(의사결정나무)",
      "provenance": [],
      "collapsed_sections": [
        "AUk_fCmVhtIc"
      ],
      "include_colab_link": true
    },
    "kernelspec": {
      "name": "python3",
      "display_name": "Python 3"
    },
    "language_info": {
      "name": "python"
    }
  },
  "cells": [
    {
      "cell_type": "markdown",
      "metadata": {
        "id": "view-in-github",
        "colab_type": "text"
      },
      "source": [
        "<a href=\"https://colab.research.google.com/github/gmldud/Deliverate_Practice/blob/main/Lv1_%EB%AA%A8%EB%8D%B8%EB%A7%81_4_6_%EB%AA%A8%EB%8D%B8%ED%9B%88%EB%A0%A8(%EC%9D%98%EC%82%AC%EA%B2%B0%EC%A0%95%EB%82%98%EB%AC%B4).ipynb\" target=\"_parent\"><img src=\"https://colab.research.google.com/assets/colab-badge.svg\" alt=\"Open In Colab\"/></a>"
      ]
    },
    {
      "cell_type": "markdown",
      "metadata": {
        "id": "-Xk4YBNFhkPe"
      },
      "source": [
        "# 셀을 실행할 때 팝업이 뜨면 `무시하고 계속하기` 를 눌러주세요\n"
      ]
    },
    {
      "cell_type": "markdown",
      "metadata": {
        "id": "7A1_NrpnNgI0"
      },
      "source": [
        "## 데이터 다운로드\n",
        "--- \n",
        "아래 셀을 실행시켜 데이터를 colab에 불러옵니다.  \n",
        "셀 실행은 Ctrl + Enter 를 이용해 실행 시킬 수 있습니다. "
      ]
    },
    {
      "cell_type": "code",
      "metadata": {
        "id": "a3VxvpLvhnap",
        "outputId": "5560cd04-7595-4434-8106-47caf8e22c25",
        "colab": {
          "base_uri": "https://localhost:8080/"
        }
      },
      "source": [
        "# 데이터 다운로드 링크로 데이터를 코랩에 불러옵니다.\n",
        "\n",
        "!wget 'https://bit.ly/3gLj0Q6'\n",
        "\n",
        "import zipfile\n",
        "with zipfile.ZipFile('3gLj0Q6', 'r') as existing_zip:\n",
        "    existing_zip.extractall('data')"
      ],
      "execution_count": 11,
      "outputs": [
        {
          "output_type": "stream",
          "name": "stdout",
          "text": [
            "--2022-08-05 07:15:37--  https://bit.ly/3gLj0Q6\n",
            "Resolving bit.ly (bit.ly)... 67.199.248.11, 67.199.248.10\n",
            "Connecting to bit.ly (bit.ly)|67.199.248.11|:443... connected.\n",
            "HTTP request sent, awaiting response... 301 Moved Permanently\n",
            "Location: https://drive.google.com/uc?export=download&id=1or_QN1ksv81DNog6Tu_kWcZ5jJWf5W9E [following]\n",
            "--2022-08-05 07:15:38--  https://drive.google.com/uc?export=download&id=1or_QN1ksv81DNog6Tu_kWcZ5jJWf5W9E\n",
            "Resolving drive.google.com (drive.google.com)... 142.251.2.113, 142.251.2.138, 142.251.2.139, ...\n",
            "Connecting to drive.google.com (drive.google.com)|142.251.2.113|:443... connected.\n",
            "HTTP request sent, awaiting response... 303 See Other\n",
            "Location: https://doc-0c-10-docs.googleusercontent.com/docs/securesc/ha0ro937gcuc7l7deffksulhg5h7mbp1/7frui1t3mb6b7ko87id7d2ad9csi5ukr/1659683700000/17946651057176172524/*/1or_QN1ksv81DNog6Tu_kWcZ5jJWf5W9E?e=download&uuid=6c8f13ee-a1fd-410e-af21-fc421e54ea58 [following]\n",
            "Warning: wildcards not supported in HTTP.\n",
            "--2022-08-05 07:15:38--  https://doc-0c-10-docs.googleusercontent.com/docs/securesc/ha0ro937gcuc7l7deffksulhg5h7mbp1/7frui1t3mb6b7ko87id7d2ad9csi5ukr/1659683700000/17946651057176172524/*/1or_QN1ksv81DNog6Tu_kWcZ5jJWf5W9E?e=download&uuid=6c8f13ee-a1fd-410e-af21-fc421e54ea58\n",
            "Resolving doc-0c-10-docs.googleusercontent.com (doc-0c-10-docs.googleusercontent.com)... 142.251.2.132, 2607:f8b0:4023:c0d::84\n",
            "Connecting to doc-0c-10-docs.googleusercontent.com (doc-0c-10-docs.googleusercontent.com)|142.251.2.132|:443... connected.\n",
            "HTTP request sent, awaiting response... 200 OK\n",
            "Length: 39208 (38K) [application/zip]\n",
            "Saving to: ‘3gLj0Q6.1’\n",
            "\n",
            "3gLj0Q6.1           100%[===================>]  38.29K  --.-KB/s    in 0s      \n",
            "\n",
            "2022-08-05 07:15:38 (75.1 MB/s) - ‘3gLj0Q6.1’ saved [39208/39208]\n",
            "\n"
          ]
        }
      ]
    },
    {
      "cell_type": "markdown",
      "metadata": {
        "id": "gx8XCXCxeQk8"
      },
      "source": [
        "## 라이브러리 불러오기\n",
        "---\n",
        "아래 셀을 실행시켜 pandas 와 DecisionTreeClassifier 를 불러옵니다."
      ]
    },
    {
      "cell_type": "code",
      "metadata": {
        "id": "kt_IKrkPeNwQ"
      },
      "source": [
        "import pandas as pd\n",
        "from sklearn.tree import DecisionTreeClassifier"
      ],
      "execution_count": 12,
      "outputs": []
    },
    {
      "cell_type": "markdown",
      "metadata": {
        "id": "VxC2pa2-rgat"
      },
      "source": [
        "## 데이터 불러오기\n",
        "---\n",
        "아래 셀을 실행시켜 csv 파일 데이터를 DataFrame 객체로 불러옵니다."
      ]
    },
    {
      "cell_type": "code",
      "metadata": {
        "id": "V6wTaK4sfnms"
      },
      "source": [
        "train = pd.read_csv('data/train.csv') \n",
        "test = pd.read_csv('data/test.csv')"
      ],
      "execution_count": 13,
      "outputs": []
    },
    {
      "cell_type": "markdown",
      "metadata": {
        "id": "w_PwM9kF7Pbi"
      },
      "source": [
        "## 결측치 제거하기\n",
        "---\n",
        "결측치를 제거하고, 결측치가 모두 제거됐는지 확인합니다."
      ]
    },
    {
      "cell_type": "code",
      "metadata": {
        "id": "ryKlHfLWqgjY",
        "outputId": "144ba243-095d-473c-da37-fd6e8407c219",
        "colab": {
          "base_uri": "https://localhost:8080/"
        }
      },
      "source": [
        "test = test.dropna()\n",
        "train = train.dropna()\n",
        "\n",
        "print(train.isnull().sum())"
      ],
      "execution_count": 14,
      "outputs": [
        {
          "output_type": "stream",
          "name": "stdout",
          "text": [
            "id                        0\n",
            "hour                      0\n",
            "hour_bef_temperature      0\n",
            "hour_bef_precipitation    0\n",
            "hour_bef_windspeed        0\n",
            "hour_bef_humidity         0\n",
            "hour_bef_visibility       0\n",
            "hour_bef_ozone            0\n",
            "hour_bef_pm10             0\n",
            "hour_bef_pm2.5            0\n",
            "count                     0\n",
            "dtype: int64\n"
          ]
        }
      ]
    },
    {
      "cell_type": "markdown",
      "metadata": {
        "id": "Q453R09NhqYM"
      },
      "source": [
        "## 👋 실습(1/2)\n",
        "---\n",
        "train 데이터중 <br>\n",
        "예측해야할 `count` 피쳐를 drop()함수를 사용하고, axis=1 옵션을 사용해 해당 열을 제외한 데이터들을 `X_train` 이라는 이름의 DataFrame 객체로 만들고 <br>\n",
        "`count` 피쳐만을 데이터로 갖는 `Y_train` 이라는 이름의 DataFrame 객체로 만드는 코드를 아래에 작성하세요\n"
      ]
    },
    {
      "cell_type": "code",
      "metadata": {
        "id": "zAnhzBdphqBA"
      },
      "source": [
        "y_train = train['count']\n",
        "X_train = train.drop(labels='count',axis=1)"
      ],
      "execution_count": 15,
      "outputs": []
    },
    {
      "cell_type": "code",
      "source": [
        "X_train.head()"
      ],
      "metadata": {
        "id": "BJIuOyk224Bg",
        "outputId": "20d96424-3b01-4b32-e819-86e0bd875de6",
        "colab": {
          "base_uri": "https://localhost:8080/",
          "height": 206
        }
      },
      "execution_count": 16,
      "outputs": [
        {
          "output_type": "execute_result",
          "data": {
            "text/plain": [
              "   id  hour  hour_bef_temperature  hour_bef_precipitation  hour_bef_windspeed  \\\n",
              "0   3    20                  16.3                     1.0                 1.5   \n",
              "1   6    13                  20.1                     0.0                 1.4   \n",
              "2   7     6                  13.9                     0.0                 0.7   \n",
              "3   8    23                   8.1                     0.0                 2.7   \n",
              "4   9    18                  29.5                     0.0                 4.8   \n",
              "\n",
              "   hour_bef_humidity  hour_bef_visibility  hour_bef_ozone  hour_bef_pm10  \\\n",
              "0               89.0                576.0           0.027           76.0   \n",
              "1               48.0                916.0           0.042           73.0   \n",
              "2               79.0               1382.0           0.033           32.0   \n",
              "3               54.0                946.0           0.040           75.0   \n",
              "4                7.0               2000.0           0.057           27.0   \n",
              "\n",
              "   hour_bef_pm2.5  \n",
              "0            33.0  \n",
              "1            40.0  \n",
              "2            19.0  \n",
              "3            64.0  \n",
              "4            11.0  "
            ],
            "text/html": [
              "\n",
              "  <div id=\"df-b6413e12-2a94-432c-9d60-638c26550141\">\n",
              "    <div class=\"colab-df-container\">\n",
              "      <div>\n",
              "<style scoped>\n",
              "    .dataframe tbody tr th:only-of-type {\n",
              "        vertical-align: middle;\n",
              "    }\n",
              "\n",
              "    .dataframe tbody tr th {\n",
              "        vertical-align: top;\n",
              "    }\n",
              "\n",
              "    .dataframe thead th {\n",
              "        text-align: right;\n",
              "    }\n",
              "</style>\n",
              "<table border=\"1\" class=\"dataframe\">\n",
              "  <thead>\n",
              "    <tr style=\"text-align: right;\">\n",
              "      <th></th>\n",
              "      <th>id</th>\n",
              "      <th>hour</th>\n",
              "      <th>hour_bef_temperature</th>\n",
              "      <th>hour_bef_precipitation</th>\n",
              "      <th>hour_bef_windspeed</th>\n",
              "      <th>hour_bef_humidity</th>\n",
              "      <th>hour_bef_visibility</th>\n",
              "      <th>hour_bef_ozone</th>\n",
              "      <th>hour_bef_pm10</th>\n",
              "      <th>hour_bef_pm2.5</th>\n",
              "    </tr>\n",
              "  </thead>\n",
              "  <tbody>\n",
              "    <tr>\n",
              "      <th>0</th>\n",
              "      <td>3</td>\n",
              "      <td>20</td>\n",
              "      <td>16.3</td>\n",
              "      <td>1.0</td>\n",
              "      <td>1.5</td>\n",
              "      <td>89.0</td>\n",
              "      <td>576.0</td>\n",
              "      <td>0.027</td>\n",
              "      <td>76.0</td>\n",
              "      <td>33.0</td>\n",
              "    </tr>\n",
              "    <tr>\n",
              "      <th>1</th>\n",
              "      <td>6</td>\n",
              "      <td>13</td>\n",
              "      <td>20.1</td>\n",
              "      <td>0.0</td>\n",
              "      <td>1.4</td>\n",
              "      <td>48.0</td>\n",
              "      <td>916.0</td>\n",
              "      <td>0.042</td>\n",
              "      <td>73.0</td>\n",
              "      <td>40.0</td>\n",
              "    </tr>\n",
              "    <tr>\n",
              "      <th>2</th>\n",
              "      <td>7</td>\n",
              "      <td>6</td>\n",
              "      <td>13.9</td>\n",
              "      <td>0.0</td>\n",
              "      <td>0.7</td>\n",
              "      <td>79.0</td>\n",
              "      <td>1382.0</td>\n",
              "      <td>0.033</td>\n",
              "      <td>32.0</td>\n",
              "      <td>19.0</td>\n",
              "    </tr>\n",
              "    <tr>\n",
              "      <th>3</th>\n",
              "      <td>8</td>\n",
              "      <td>23</td>\n",
              "      <td>8.1</td>\n",
              "      <td>0.0</td>\n",
              "      <td>2.7</td>\n",
              "      <td>54.0</td>\n",
              "      <td>946.0</td>\n",
              "      <td>0.040</td>\n",
              "      <td>75.0</td>\n",
              "      <td>64.0</td>\n",
              "    </tr>\n",
              "    <tr>\n",
              "      <th>4</th>\n",
              "      <td>9</td>\n",
              "      <td>18</td>\n",
              "      <td>29.5</td>\n",
              "      <td>0.0</td>\n",
              "      <td>4.8</td>\n",
              "      <td>7.0</td>\n",
              "      <td>2000.0</td>\n",
              "      <td>0.057</td>\n",
              "      <td>27.0</td>\n",
              "      <td>11.0</td>\n",
              "    </tr>\n",
              "  </tbody>\n",
              "</table>\n",
              "</div>\n",
              "      <button class=\"colab-df-convert\" onclick=\"convertToInteractive('df-b6413e12-2a94-432c-9d60-638c26550141')\"\n",
              "              title=\"Convert this dataframe to an interactive table.\"\n",
              "              style=\"display:none;\">\n",
              "        \n",
              "  <svg xmlns=\"http://www.w3.org/2000/svg\" height=\"24px\"viewBox=\"0 0 24 24\"\n",
              "       width=\"24px\">\n",
              "    <path d=\"M0 0h24v24H0V0z\" fill=\"none\"/>\n",
              "    <path d=\"M18.56 5.44l.94 2.06.94-2.06 2.06-.94-2.06-.94-.94-2.06-.94 2.06-2.06.94zm-11 1L8.5 8.5l.94-2.06 2.06-.94-2.06-.94L8.5 2.5l-.94 2.06-2.06.94zm10 10l.94 2.06.94-2.06 2.06-.94-2.06-.94-.94-2.06-.94 2.06-2.06.94z\"/><path d=\"M17.41 7.96l-1.37-1.37c-.4-.4-.92-.59-1.43-.59-.52 0-1.04.2-1.43.59L10.3 9.45l-7.72 7.72c-.78.78-.78 2.05 0 2.83L4 21.41c.39.39.9.59 1.41.59.51 0 1.02-.2 1.41-.59l7.78-7.78 2.81-2.81c.8-.78.8-2.07 0-2.86zM5.41 20L4 18.59l7.72-7.72 1.47 1.35L5.41 20z\"/>\n",
              "  </svg>\n",
              "      </button>\n",
              "      \n",
              "  <style>\n",
              "    .colab-df-container {\n",
              "      display:flex;\n",
              "      flex-wrap:wrap;\n",
              "      gap: 12px;\n",
              "    }\n",
              "\n",
              "    .colab-df-convert {\n",
              "      background-color: #E8F0FE;\n",
              "      border: none;\n",
              "      border-radius: 50%;\n",
              "      cursor: pointer;\n",
              "      display: none;\n",
              "      fill: #1967D2;\n",
              "      height: 32px;\n",
              "      padding: 0 0 0 0;\n",
              "      width: 32px;\n",
              "    }\n",
              "\n",
              "    .colab-df-convert:hover {\n",
              "      background-color: #E2EBFA;\n",
              "      box-shadow: 0px 1px 2px rgba(60, 64, 67, 0.3), 0px 1px 3px 1px rgba(60, 64, 67, 0.15);\n",
              "      fill: #174EA6;\n",
              "    }\n",
              "\n",
              "    [theme=dark] .colab-df-convert {\n",
              "      background-color: #3B4455;\n",
              "      fill: #D2E3FC;\n",
              "    }\n",
              "\n",
              "    [theme=dark] .colab-df-convert:hover {\n",
              "      background-color: #434B5C;\n",
              "      box-shadow: 0px 1px 3px 1px rgba(0, 0, 0, 0.15);\n",
              "      filter: drop-shadow(0px 1px 2px rgba(0, 0, 0, 0.3));\n",
              "      fill: #FFFFFF;\n",
              "    }\n",
              "  </style>\n",
              "\n",
              "      <script>\n",
              "        const buttonEl =\n",
              "          document.querySelector('#df-b6413e12-2a94-432c-9d60-638c26550141 button.colab-df-convert');\n",
              "        buttonEl.style.display =\n",
              "          google.colab.kernel.accessAllowed ? 'block' : 'none';\n",
              "\n",
              "        async function convertToInteractive(key) {\n",
              "          const element = document.querySelector('#df-b6413e12-2a94-432c-9d60-638c26550141');\n",
              "          const dataTable =\n",
              "            await google.colab.kernel.invokeFunction('convertToInteractive',\n",
              "                                                     [key], {});\n",
              "          if (!dataTable) return;\n",
              "\n",
              "          const docLinkHtml = 'Like what you see? Visit the ' +\n",
              "            '<a target=\"_blank\" href=https://colab.research.google.com/notebooks/data_table.ipynb>data table notebook</a>'\n",
              "            + ' to learn more about interactive tables.';\n",
              "          element.innerHTML = '';\n",
              "          dataTable['output_type'] = 'display_data';\n",
              "          await google.colab.output.renderOutput(dataTable, element);\n",
              "          const docLink = document.createElement('div');\n",
              "          docLink.innerHTML = docLinkHtml;\n",
              "          element.appendChild(docLink);\n",
              "        }\n",
              "      </script>\n",
              "    </div>\n",
              "  </div>\n",
              "  "
            ]
          },
          "metadata": {},
          "execution_count": 16
        }
      ]
    },
    {
      "cell_type": "code",
      "source": [
        "y_train.head()"
      ],
      "metadata": {
        "id": "vskBzvwb3Cup",
        "outputId": "67a7170c-593a-4c70-cfce-fe572bccbaa2",
        "colab": {
          "base_uri": "https://localhost:8080/"
        }
      },
      "execution_count": 20,
      "outputs": [
        {
          "output_type": "execute_result",
          "data": {
            "text/plain": [
              "0     49.0\n",
              "1    159.0\n",
              "2     26.0\n",
              "3     57.0\n",
              "4    431.0\n",
              "Name: count, dtype: float64"
            ]
          },
          "metadata": {},
          "execution_count": 20
        }
      ]
    },
    {
      "cell_type": "markdown",
      "metadata": {
        "id": "Moz8EBWwE1wo"
      },
      "source": [
        "## 👋 실습(2/2)\n",
        "---\n",
        "`model` 변수명으로 모델을 선언하고, fit() 함수를 사용해서, `X_train` 을 input 으로 삼고, `Y_train` 을 output 으로 삼아 모델을 훈련시키는 코드를 아래에 작성하세요"
      ]
    },
    {
      "cell_type": "code",
      "metadata": {
        "id": "N7IOh1cwFJSi",
        "outputId": "ddd502ac-9fcb-42a8-a93a-cfe089edff87",
        "colab": {
          "base_uri": "https://localhost:8080/"
        }
      },
      "source": [
        "model = DecisionTreeClassifier()\n",
        "model.fit(X_train, y_train)"
      ],
      "execution_count": 17,
      "outputs": [
        {
          "output_type": "execute_result",
          "data": {
            "text/plain": [
              "DecisionTreeClassifier()"
            ]
          },
          "metadata": {},
          "execution_count": 17
        }
      ]
    },
    {
      "cell_type": "markdown",
      "metadata": {
        "id": "AUk_fCmVhtIc"
      },
      "source": [
        "## 정답 (`숨겨진 셀 n개` 를 누르세요.)\n",
        "---\n",
        "질문사항을 얼마든지 [게시글](https://dacon.io/competitions/open/235698/talkboard/403540?page=2&dtype=recent)에 남겨주세요 😉 <br>\n",
        "궁금한 것, 이해가 안 되는 것, 원리, 확장개념, 참고 등등 모든 범위에서 얼마든지 질문을 달아주세요 🙋"
      ]
    },
    {
      "cell_type": "code",
      "metadata": {
        "id": "6EcxVzdNfwLR"
      },
      "source": [
        "X_train = train.drop(['count'], axis=1)\n",
        "Y_train = train['count']"
      ],
      "execution_count": 21,
      "outputs": []
    },
    {
      "cell_type": "code",
      "metadata": {
        "id": "CNOaDnbYfloy",
        "outputId": "aca42d3f-2d14-4e99-956f-4541a338a26d",
        "colab": {
          "base_uri": "https://localhost:8080/"
        }
      },
      "source": [
        "model = DecisionTreeRegressor()\n",
        "model.fit(X_train, Y_train)"
      ],
      "execution_count": 22,
      "outputs": [
        {
          "output_type": "execute_result",
          "data": {
            "text/plain": [
              "DecisionTreeRegressor()"
            ]
          },
          "metadata": {},
          "execution_count": 22
        }
      ]
    }
  ]
}