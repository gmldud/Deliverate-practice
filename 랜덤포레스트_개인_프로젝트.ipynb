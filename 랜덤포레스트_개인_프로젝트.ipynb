{
  "nbformat": 4,
  "nbformat_minor": 0,
  "metadata": {
    "colab": {
      "name": "랜덤포레스트 개인 프로젝트",
      "provenance": [],
      "collapsed_sections": [
        "J1Is2vFL4cxY"
      ],
      "include_colab_link": true
    },
    "kernelspec": {
      "name": "python3",
      "display_name": "Python 3"
    },
    "language_info": {
      "name": "python"
    },
    "gpuClass": "standard"
  },
  "cells": [
    {
      "cell_type": "markdown",
      "metadata": {
        "id": "view-in-github",
        "colab_type": "text"
      },
      "source": [
        "<a href=\"https://colab.research.google.com/github/gmldud/Deliverate_Practice/blob/main/%EB%9E%9C%EB%8D%A4%ED%8F%AC%EB%A0%88%EC%8A%A4%ED%8A%B8_%EA%B0%9C%EC%9D%B8_%ED%94%84%EB%A1%9C%EC%A0%9D%ED%8A%B8.ipynb\" target=\"_parent\"><img src=\"https://colab.research.google.com/assets/colab-badge.svg\" alt=\"Open In Colab\"/></a>"
      ]
    },
    {
      "cell_type": "markdown",
      "metadata": {
        "id": "vIpjpOEXsoW0"
      },
      "source": [
        "# [↩️ 리스트로 돌아가기](https://dacon.io/competitions/open/235698/overview/description)"
      ]
    },
    {
      "cell_type": "markdown",
      "metadata": {
        "id": "Y8EsppNShcez"
      },
      "source": [
        "# 셀을 실행할 때 팝업이 뜨면 `무시하고 계속하기` 를 눌러주세요\n"
      ]
    },
    {
      "cell_type": "markdown",
      "metadata": {
        "id": "7A1_NrpnNgI0"
      },
      "source": [
        "## 데이터 다운로드\n",
        "--- \n",
        "아래 셀을 실행시켜 데이터를 colab에 불러옵니다.  \n",
        "셀 실행은 Ctrl + Enter 를 이용해 실행 시킬 수 있습니다. "
      ]
    },
    {
      "cell_type": "code",
      "metadata": {
        "id": "a3VxvpLvhnap",
        "colab": {
          "base_uri": "https://localhost:8080/"
        },
        "outputId": "b57f4d75-3f69-4695-aa75-1fd8d4e226cc"
      },
      "source": [
        "# 데이터 다운로드 링크로 데이터를 코랩에 불러옵니다.\n",
        "\n",
        "!wget 'https://bit.ly/3gLj0Q6'\n",
        "\n",
        "import zipfile\n",
        "with zipfile.ZipFile('3gLj0Q6', 'r') as existing_zip:\n",
        "    existing_zip.extractall('data')"
      ],
      "execution_count": 89,
      "outputs": [
        {
          "output_type": "stream",
          "name": "stdout",
          "text": [
            "--2022-08-09 13:57:06--  https://bit.ly/3gLj0Q6\n",
            "Resolving bit.ly (bit.ly)... 67.199.248.11, 67.199.248.10\n",
            "Connecting to bit.ly (bit.ly)|67.199.248.11|:443... connected.\n",
            "HTTP request sent, awaiting response... 301 Moved Permanently\n",
            "Location: https://drive.google.com/uc?export=download&id=1or_QN1ksv81DNog6Tu_kWcZ5jJWf5W9E [following]\n",
            "--2022-08-09 13:57:07--  https://drive.google.com/uc?export=download&id=1or_QN1ksv81DNog6Tu_kWcZ5jJWf5W9E\n",
            "Resolving drive.google.com (drive.google.com)... 142.250.141.100, 142.250.141.113, 142.250.141.138, ...\n",
            "Connecting to drive.google.com (drive.google.com)|142.250.141.100|:443... connected.\n",
            "HTTP request sent, awaiting response... 303 See Other\n",
            "Location: https://doc-0c-10-docs.googleusercontent.com/docs/securesc/ha0ro937gcuc7l7deffksulhg5h7mbp1/h08dcof126925khuan4k76b7h7b1683q/1660053375000/17946651057176172524/*/1or_QN1ksv81DNog6Tu_kWcZ5jJWf5W9E?e=download&uuid=ae70576b-4376-4791-a562-2c8f28f152fd [following]\n",
            "Warning: wildcards not supported in HTTP.\n",
            "--2022-08-09 13:57:07--  https://doc-0c-10-docs.googleusercontent.com/docs/securesc/ha0ro937gcuc7l7deffksulhg5h7mbp1/h08dcof126925khuan4k76b7h7b1683q/1660053375000/17946651057176172524/*/1or_QN1ksv81DNog6Tu_kWcZ5jJWf5W9E?e=download&uuid=ae70576b-4376-4791-a562-2c8f28f152fd\n",
            "Resolving doc-0c-10-docs.googleusercontent.com (doc-0c-10-docs.googleusercontent.com)... 142.251.2.132, 2607:f8b0:4023:c0d::84\n",
            "Connecting to doc-0c-10-docs.googleusercontent.com (doc-0c-10-docs.googleusercontent.com)|142.251.2.132|:443... connected.\n",
            "HTTP request sent, awaiting response... 200 OK\n",
            "Length: 39208 (38K) [application/zip]\n",
            "Saving to: ‘3gLj0Q6.6’\n",
            "\n",
            "3gLj0Q6.6           100%[===================>]  38.29K  --.-KB/s    in 0s      \n",
            "\n",
            "2022-08-09 13:57:07 (84.5 MB/s) - ‘3gLj0Q6.6’ saved [39208/39208]\n",
            "\n"
          ]
        }
      ]
    },
    {
      "cell_type": "markdown",
      "metadata": {
        "id": "gx8XCXCxeQk8"
      },
      "source": [
        "## 라이브러리 불러오기\n",
        "---\n",
        "아래 셀을 실행시켜 pandas 와 DecisionTreeClassifier 를 불러옵니다."
      ]
    },
    {
      "cell_type": "code",
      "source": [
        "! pip install category_encoders"
      ],
      "metadata": {
        "colab": {
          "base_uri": "https://localhost:8080/"
        },
        "id": "TCb39Ls2vcCI",
        "outputId": "7bf48900-0712-4bfc-8dd6-fdc1a506b1bc"
      },
      "execution_count": 90,
      "outputs": [
        {
          "output_type": "stream",
          "name": "stdout",
          "text": [
            "Looking in indexes: https://pypi.org/simple, https://us-python.pkg.dev/colab-wheels/public/simple/\n",
            "Requirement already satisfied: category_encoders in /usr/local/lib/python3.7/dist-packages (2.5.0)\n",
            "Requirement already satisfied: pandas>=1.0.5 in /usr/local/lib/python3.7/dist-packages (from category_encoders) (1.3.5)\n",
            "Requirement already satisfied: scipy>=1.0.0 in /usr/local/lib/python3.7/dist-packages (from category_encoders) (1.7.3)\n",
            "Requirement already satisfied: patsy>=0.5.1 in /usr/local/lib/python3.7/dist-packages (from category_encoders) (0.5.2)\n",
            "Requirement already satisfied: numpy>=1.14.0 in /usr/local/lib/python3.7/dist-packages (from category_encoders) (1.21.6)\n",
            "Requirement already satisfied: scikit-learn>=0.20.0 in /usr/local/lib/python3.7/dist-packages (from category_encoders) (1.0.2)\n",
            "Requirement already satisfied: statsmodels>=0.9.0 in /usr/local/lib/python3.7/dist-packages (from category_encoders) (0.10.2)\n",
            "Requirement already satisfied: pytz>=2017.3 in /usr/local/lib/python3.7/dist-packages (from pandas>=1.0.5->category_encoders) (2022.1)\n",
            "Requirement already satisfied: python-dateutil>=2.7.3 in /usr/local/lib/python3.7/dist-packages (from pandas>=1.0.5->category_encoders) (2.8.2)\n",
            "Requirement already satisfied: six in /usr/local/lib/python3.7/dist-packages (from patsy>=0.5.1->category_encoders) (1.15.0)\n",
            "Requirement already satisfied: joblib>=0.11 in /usr/local/lib/python3.7/dist-packages (from scikit-learn>=0.20.0->category_encoders) (1.1.0)\n",
            "Requirement already satisfied: threadpoolctl>=2.0.0 in /usr/local/lib/python3.7/dist-packages (from scikit-learn>=0.20.0->category_encoders) (3.1.0)\n"
          ]
        }
      ]
    },
    {
      "cell_type": "code",
      "metadata": {
        "id": "kt_IKrkPeNwQ"
      },
      "source": [
        "import pandas as pd\n",
        "import numpy as np\n",
        "from sklearn.ensemble import RandomForestRegressor\n",
        "from category_encoders import OneHotEncoder\n",
        "from sklearn.feature_selection import f_regression, SelectKBest\n",
        "from sklearn.impute import SimpleImputer\n",
        "from sklearn.linear_model import Ridge\n",
        "from sklearn.model_selection import cross_val_score\n",
        "from sklearn.pipeline import make_pipeline\n",
        "from sklearn.preprocessing import StandardScaler\n",
        "from category_encoders import TargetEncoder\n",
        "import matplotlib.pyplot as plt\n",
        "import seaborn as sns\n",
        "from category_encoders import OrdinalEncoder\n",
        "from sklearn.model_selection import validation_curve\n",
        "from sklearn.tree import DecisionTreeRegressor\n",
        "from sklearn.model_selection import RandomizedSearchCV\n",
        "from sklearn.model_selection import GridSearchCV"
      ],
      "execution_count": 91,
      "outputs": []
    },
    {
      "cell_type": "markdown",
      "metadata": {
        "id": "VxC2pa2-rgat"
      },
      "source": [
        "## 데이터 불러오기\n",
        "---\n",
        "아래 셀을 실행시켜 csv 파일 데이터를 DataFrame 객체로 불러옵니다."
      ]
    },
    {
      "cell_type": "code",
      "metadata": {
        "id": "V6wTaK4sfnms"
      },
      "source": [
        "train = pd.read_csv('data/train.csv') \n",
        "test = pd.read_csv('data/test.csv')"
      ],
      "execution_count": 92,
      "outputs": []
    },
    {
      "cell_type": "code",
      "source": [
        "train.head()"
      ],
      "metadata": {
        "colab": {
          "base_uri": "https://localhost:8080/",
          "height": 270
        },
        "id": "OGAIMObnwqU1",
        "outputId": "9f6be675-6c00-4252-f665-883063401137"
      },
      "execution_count": 93,
      "outputs": [
        {
          "output_type": "execute_result",
          "data": {
            "text/plain": [
              "   id  hour  hour_bef_temperature  hour_bef_precipitation  hour_bef_windspeed  \\\n",
              "0   3    20                  16.3                     1.0                 1.5   \n",
              "1   6    13                  20.1                     0.0                 1.4   \n",
              "2   7     6                  13.9                     0.0                 0.7   \n",
              "3   8    23                   8.1                     0.0                 2.7   \n",
              "4   9    18                  29.5                     0.0                 4.8   \n",
              "\n",
              "   hour_bef_humidity  hour_bef_visibility  hour_bef_ozone  hour_bef_pm10  \\\n",
              "0               89.0                576.0           0.027           76.0   \n",
              "1               48.0                916.0           0.042           73.0   \n",
              "2               79.0               1382.0           0.033           32.0   \n",
              "3               54.0                946.0           0.040           75.0   \n",
              "4                7.0               2000.0           0.057           27.0   \n",
              "\n",
              "   hour_bef_pm2.5  count  \n",
              "0            33.0   49.0  \n",
              "1            40.0  159.0  \n",
              "2            19.0   26.0  \n",
              "3            64.0   57.0  \n",
              "4            11.0  431.0  "
            ],
            "text/html": [
              "\n",
              "  <div id=\"df-055a5098-2973-48ec-bc16-7ebfad167eb4\">\n",
              "    <div class=\"colab-df-container\">\n",
              "      <div>\n",
              "<style scoped>\n",
              "    .dataframe tbody tr th:only-of-type {\n",
              "        vertical-align: middle;\n",
              "    }\n",
              "\n",
              "    .dataframe tbody tr th {\n",
              "        vertical-align: top;\n",
              "    }\n",
              "\n",
              "    .dataframe thead th {\n",
              "        text-align: right;\n",
              "    }\n",
              "</style>\n",
              "<table border=\"1\" class=\"dataframe\">\n",
              "  <thead>\n",
              "    <tr style=\"text-align: right;\">\n",
              "      <th></th>\n",
              "      <th>id</th>\n",
              "      <th>hour</th>\n",
              "      <th>hour_bef_temperature</th>\n",
              "      <th>hour_bef_precipitation</th>\n",
              "      <th>hour_bef_windspeed</th>\n",
              "      <th>hour_bef_humidity</th>\n",
              "      <th>hour_bef_visibility</th>\n",
              "      <th>hour_bef_ozone</th>\n",
              "      <th>hour_bef_pm10</th>\n",
              "      <th>hour_bef_pm2.5</th>\n",
              "      <th>count</th>\n",
              "    </tr>\n",
              "  </thead>\n",
              "  <tbody>\n",
              "    <tr>\n",
              "      <th>0</th>\n",
              "      <td>3</td>\n",
              "      <td>20</td>\n",
              "      <td>16.3</td>\n",
              "      <td>1.0</td>\n",
              "      <td>1.5</td>\n",
              "      <td>89.0</td>\n",
              "      <td>576.0</td>\n",
              "      <td>0.027</td>\n",
              "      <td>76.0</td>\n",
              "      <td>33.0</td>\n",
              "      <td>49.0</td>\n",
              "    </tr>\n",
              "    <tr>\n",
              "      <th>1</th>\n",
              "      <td>6</td>\n",
              "      <td>13</td>\n",
              "      <td>20.1</td>\n",
              "      <td>0.0</td>\n",
              "      <td>1.4</td>\n",
              "      <td>48.0</td>\n",
              "      <td>916.0</td>\n",
              "      <td>0.042</td>\n",
              "      <td>73.0</td>\n",
              "      <td>40.0</td>\n",
              "      <td>159.0</td>\n",
              "    </tr>\n",
              "    <tr>\n",
              "      <th>2</th>\n",
              "      <td>7</td>\n",
              "      <td>6</td>\n",
              "      <td>13.9</td>\n",
              "      <td>0.0</td>\n",
              "      <td>0.7</td>\n",
              "      <td>79.0</td>\n",
              "      <td>1382.0</td>\n",
              "      <td>0.033</td>\n",
              "      <td>32.0</td>\n",
              "      <td>19.0</td>\n",
              "      <td>26.0</td>\n",
              "    </tr>\n",
              "    <tr>\n",
              "      <th>3</th>\n",
              "      <td>8</td>\n",
              "      <td>23</td>\n",
              "      <td>8.1</td>\n",
              "      <td>0.0</td>\n",
              "      <td>2.7</td>\n",
              "      <td>54.0</td>\n",
              "      <td>946.0</td>\n",
              "      <td>0.040</td>\n",
              "      <td>75.0</td>\n",
              "      <td>64.0</td>\n",
              "      <td>57.0</td>\n",
              "    </tr>\n",
              "    <tr>\n",
              "      <th>4</th>\n",
              "      <td>9</td>\n",
              "      <td>18</td>\n",
              "      <td>29.5</td>\n",
              "      <td>0.0</td>\n",
              "      <td>4.8</td>\n",
              "      <td>7.0</td>\n",
              "      <td>2000.0</td>\n",
              "      <td>0.057</td>\n",
              "      <td>27.0</td>\n",
              "      <td>11.0</td>\n",
              "      <td>431.0</td>\n",
              "    </tr>\n",
              "  </tbody>\n",
              "</table>\n",
              "</div>\n",
              "      <button class=\"colab-df-convert\" onclick=\"convertToInteractive('df-055a5098-2973-48ec-bc16-7ebfad167eb4')\"\n",
              "              title=\"Convert this dataframe to an interactive table.\"\n",
              "              style=\"display:none;\">\n",
              "        \n",
              "  <svg xmlns=\"http://www.w3.org/2000/svg\" height=\"24px\"viewBox=\"0 0 24 24\"\n",
              "       width=\"24px\">\n",
              "    <path d=\"M0 0h24v24H0V0z\" fill=\"none\"/>\n",
              "    <path d=\"M18.56 5.44l.94 2.06.94-2.06 2.06-.94-2.06-.94-.94-2.06-.94 2.06-2.06.94zm-11 1L8.5 8.5l.94-2.06 2.06-.94-2.06-.94L8.5 2.5l-.94 2.06-2.06.94zm10 10l.94 2.06.94-2.06 2.06-.94-2.06-.94-.94-2.06-.94 2.06-2.06.94z\"/><path d=\"M17.41 7.96l-1.37-1.37c-.4-.4-.92-.59-1.43-.59-.52 0-1.04.2-1.43.59L10.3 9.45l-7.72 7.72c-.78.78-.78 2.05 0 2.83L4 21.41c.39.39.9.59 1.41.59.51 0 1.02-.2 1.41-.59l7.78-7.78 2.81-2.81c.8-.78.8-2.07 0-2.86zM5.41 20L4 18.59l7.72-7.72 1.47 1.35L5.41 20z\"/>\n",
              "  </svg>\n",
              "      </button>\n",
              "      \n",
              "  <style>\n",
              "    .colab-df-container {\n",
              "      display:flex;\n",
              "      flex-wrap:wrap;\n",
              "      gap: 12px;\n",
              "    }\n",
              "\n",
              "    .colab-df-convert {\n",
              "      background-color: #E8F0FE;\n",
              "      border: none;\n",
              "      border-radius: 50%;\n",
              "      cursor: pointer;\n",
              "      display: none;\n",
              "      fill: #1967D2;\n",
              "      height: 32px;\n",
              "      padding: 0 0 0 0;\n",
              "      width: 32px;\n",
              "    }\n",
              "\n",
              "    .colab-df-convert:hover {\n",
              "      background-color: #E2EBFA;\n",
              "      box-shadow: 0px 1px 2px rgba(60, 64, 67, 0.3), 0px 1px 3px 1px rgba(60, 64, 67, 0.15);\n",
              "      fill: #174EA6;\n",
              "    }\n",
              "\n",
              "    [theme=dark] .colab-df-convert {\n",
              "      background-color: #3B4455;\n",
              "      fill: #D2E3FC;\n",
              "    }\n",
              "\n",
              "    [theme=dark] .colab-df-convert:hover {\n",
              "      background-color: #434B5C;\n",
              "      box-shadow: 0px 1px 3px 1px rgba(0, 0, 0, 0.15);\n",
              "      filter: drop-shadow(0px 1px 2px rgba(0, 0, 0, 0.3));\n",
              "      fill: #FFFFFF;\n",
              "    }\n",
              "  </style>\n",
              "\n",
              "      <script>\n",
              "        const buttonEl =\n",
              "          document.querySelector('#df-055a5098-2973-48ec-bc16-7ebfad167eb4 button.colab-df-convert');\n",
              "        buttonEl.style.display =\n",
              "          google.colab.kernel.accessAllowed ? 'block' : 'none';\n",
              "\n",
              "        async function convertToInteractive(key) {\n",
              "          const element = document.querySelector('#df-055a5098-2973-48ec-bc16-7ebfad167eb4');\n",
              "          const dataTable =\n",
              "            await google.colab.kernel.invokeFunction('convertToInteractive',\n",
              "                                                     [key], {});\n",
              "          if (!dataTable) return;\n",
              "\n",
              "          const docLinkHtml = 'Like what you see? Visit the ' +\n",
              "            '<a target=\"_blank\" href=https://colab.research.google.com/notebooks/data_table.ipynb>data table notebook</a>'\n",
              "            + ' to learn more about interactive tables.';\n",
              "          element.innerHTML = '';\n",
              "          dataTable['output_type'] = 'display_data';\n",
              "          await google.colab.output.renderOutput(dataTable, element);\n",
              "          const docLink = document.createElement('div');\n",
              "          docLink.innerHTML = docLinkHtml;\n",
              "          element.appendChild(docLink);\n",
              "        }\n",
              "      </script>\n",
              "    </div>\n",
              "  </div>\n",
              "  "
            ]
          },
          "metadata": {},
          "execution_count": 93
        }
      ]
    },
    {
      "cell_type": "code",
      "source": [
        "test.head()"
      ],
      "metadata": {
        "colab": {
          "base_uri": "https://localhost:8080/",
          "height": 270
        },
        "id": "RWRJyTXYwr-1",
        "outputId": "f666be15-3f04-43f0-e2d8-1f05f73594d2"
      },
      "execution_count": 94,
      "outputs": [
        {
          "output_type": "execute_result",
          "data": {
            "text/plain": [
              "   id  hour  hour_bef_temperature  hour_bef_precipitation  hour_bef_windspeed  \\\n",
              "0   0     7                  20.7                     0.0                 1.3   \n",
              "1   1    17                  30.0                     0.0                 5.4   \n",
              "2   2    13                  19.0                     1.0                 2.1   \n",
              "3   4     6                  22.5                     0.0                 2.5   \n",
              "4   5    22                  14.6                     1.0                 3.4   \n",
              "\n",
              "   hour_bef_humidity  hour_bef_visibility  hour_bef_ozone  hour_bef_pm10  \\\n",
              "0               62.0                954.0           0.041           44.0   \n",
              "1               33.0               1590.0           0.061           49.0   \n",
              "2               95.0                193.0           0.020           36.0   \n",
              "3               60.0               1185.0           0.027           52.0   \n",
              "4               93.0                218.0           0.041           18.0   \n",
              "\n",
              "   hour_bef_pm2.5  \n",
              "0            27.0  \n",
              "1            36.0  \n",
              "2            28.0  \n",
              "3            38.0  \n",
              "4            15.0  "
            ],
            "text/html": [
              "\n",
              "  <div id=\"df-1ff0b9ba-ad7e-459b-9e04-7c9d24735aa5\">\n",
              "    <div class=\"colab-df-container\">\n",
              "      <div>\n",
              "<style scoped>\n",
              "    .dataframe tbody tr th:only-of-type {\n",
              "        vertical-align: middle;\n",
              "    }\n",
              "\n",
              "    .dataframe tbody tr th {\n",
              "        vertical-align: top;\n",
              "    }\n",
              "\n",
              "    .dataframe thead th {\n",
              "        text-align: right;\n",
              "    }\n",
              "</style>\n",
              "<table border=\"1\" class=\"dataframe\">\n",
              "  <thead>\n",
              "    <tr style=\"text-align: right;\">\n",
              "      <th></th>\n",
              "      <th>id</th>\n",
              "      <th>hour</th>\n",
              "      <th>hour_bef_temperature</th>\n",
              "      <th>hour_bef_precipitation</th>\n",
              "      <th>hour_bef_windspeed</th>\n",
              "      <th>hour_bef_humidity</th>\n",
              "      <th>hour_bef_visibility</th>\n",
              "      <th>hour_bef_ozone</th>\n",
              "      <th>hour_bef_pm10</th>\n",
              "      <th>hour_bef_pm2.5</th>\n",
              "    </tr>\n",
              "  </thead>\n",
              "  <tbody>\n",
              "    <tr>\n",
              "      <th>0</th>\n",
              "      <td>0</td>\n",
              "      <td>7</td>\n",
              "      <td>20.7</td>\n",
              "      <td>0.0</td>\n",
              "      <td>1.3</td>\n",
              "      <td>62.0</td>\n",
              "      <td>954.0</td>\n",
              "      <td>0.041</td>\n",
              "      <td>44.0</td>\n",
              "      <td>27.0</td>\n",
              "    </tr>\n",
              "    <tr>\n",
              "      <th>1</th>\n",
              "      <td>1</td>\n",
              "      <td>17</td>\n",
              "      <td>30.0</td>\n",
              "      <td>0.0</td>\n",
              "      <td>5.4</td>\n",
              "      <td>33.0</td>\n",
              "      <td>1590.0</td>\n",
              "      <td>0.061</td>\n",
              "      <td>49.0</td>\n",
              "      <td>36.0</td>\n",
              "    </tr>\n",
              "    <tr>\n",
              "      <th>2</th>\n",
              "      <td>2</td>\n",
              "      <td>13</td>\n",
              "      <td>19.0</td>\n",
              "      <td>1.0</td>\n",
              "      <td>2.1</td>\n",
              "      <td>95.0</td>\n",
              "      <td>193.0</td>\n",
              "      <td>0.020</td>\n",
              "      <td>36.0</td>\n",
              "      <td>28.0</td>\n",
              "    </tr>\n",
              "    <tr>\n",
              "      <th>3</th>\n",
              "      <td>4</td>\n",
              "      <td>6</td>\n",
              "      <td>22.5</td>\n",
              "      <td>0.0</td>\n",
              "      <td>2.5</td>\n",
              "      <td>60.0</td>\n",
              "      <td>1185.0</td>\n",
              "      <td>0.027</td>\n",
              "      <td>52.0</td>\n",
              "      <td>38.0</td>\n",
              "    </tr>\n",
              "    <tr>\n",
              "      <th>4</th>\n",
              "      <td>5</td>\n",
              "      <td>22</td>\n",
              "      <td>14.6</td>\n",
              "      <td>1.0</td>\n",
              "      <td>3.4</td>\n",
              "      <td>93.0</td>\n",
              "      <td>218.0</td>\n",
              "      <td>0.041</td>\n",
              "      <td>18.0</td>\n",
              "      <td>15.0</td>\n",
              "    </tr>\n",
              "  </tbody>\n",
              "</table>\n",
              "</div>\n",
              "      <button class=\"colab-df-convert\" onclick=\"convertToInteractive('df-1ff0b9ba-ad7e-459b-9e04-7c9d24735aa5')\"\n",
              "              title=\"Convert this dataframe to an interactive table.\"\n",
              "              style=\"display:none;\">\n",
              "        \n",
              "  <svg xmlns=\"http://www.w3.org/2000/svg\" height=\"24px\"viewBox=\"0 0 24 24\"\n",
              "       width=\"24px\">\n",
              "    <path d=\"M0 0h24v24H0V0z\" fill=\"none\"/>\n",
              "    <path d=\"M18.56 5.44l.94 2.06.94-2.06 2.06-.94-2.06-.94-.94-2.06-.94 2.06-2.06.94zm-11 1L8.5 8.5l.94-2.06 2.06-.94-2.06-.94L8.5 2.5l-.94 2.06-2.06.94zm10 10l.94 2.06.94-2.06 2.06-.94-2.06-.94-.94-2.06-.94 2.06-2.06.94z\"/><path d=\"M17.41 7.96l-1.37-1.37c-.4-.4-.92-.59-1.43-.59-.52 0-1.04.2-1.43.59L10.3 9.45l-7.72 7.72c-.78.78-.78 2.05 0 2.83L4 21.41c.39.39.9.59 1.41.59.51 0 1.02-.2 1.41-.59l7.78-7.78 2.81-2.81c.8-.78.8-2.07 0-2.86zM5.41 20L4 18.59l7.72-7.72 1.47 1.35L5.41 20z\"/>\n",
              "  </svg>\n",
              "      </button>\n",
              "      \n",
              "  <style>\n",
              "    .colab-df-container {\n",
              "      display:flex;\n",
              "      flex-wrap:wrap;\n",
              "      gap: 12px;\n",
              "    }\n",
              "\n",
              "    .colab-df-convert {\n",
              "      background-color: #E8F0FE;\n",
              "      border: none;\n",
              "      border-radius: 50%;\n",
              "      cursor: pointer;\n",
              "      display: none;\n",
              "      fill: #1967D2;\n",
              "      height: 32px;\n",
              "      padding: 0 0 0 0;\n",
              "      width: 32px;\n",
              "    }\n",
              "\n",
              "    .colab-df-convert:hover {\n",
              "      background-color: #E2EBFA;\n",
              "      box-shadow: 0px 1px 2px rgba(60, 64, 67, 0.3), 0px 1px 3px 1px rgba(60, 64, 67, 0.15);\n",
              "      fill: #174EA6;\n",
              "    }\n",
              "\n",
              "    [theme=dark] .colab-df-convert {\n",
              "      background-color: #3B4455;\n",
              "      fill: #D2E3FC;\n",
              "    }\n",
              "\n",
              "    [theme=dark] .colab-df-convert:hover {\n",
              "      background-color: #434B5C;\n",
              "      box-shadow: 0px 1px 3px 1px rgba(0, 0, 0, 0.15);\n",
              "      filter: drop-shadow(0px 1px 2px rgba(0, 0, 0, 0.3));\n",
              "      fill: #FFFFFF;\n",
              "    }\n",
              "  </style>\n",
              "\n",
              "      <script>\n",
              "        const buttonEl =\n",
              "          document.querySelector('#df-1ff0b9ba-ad7e-459b-9e04-7c9d24735aa5 button.colab-df-convert');\n",
              "        buttonEl.style.display =\n",
              "          google.colab.kernel.accessAllowed ? 'block' : 'none';\n",
              "\n",
              "        async function convertToInteractive(key) {\n",
              "          const element = document.querySelector('#df-1ff0b9ba-ad7e-459b-9e04-7c9d24735aa5');\n",
              "          const dataTable =\n",
              "            await google.colab.kernel.invokeFunction('convertToInteractive',\n",
              "                                                     [key], {});\n",
              "          if (!dataTable) return;\n",
              "\n",
              "          const docLinkHtml = 'Like what you see? Visit the ' +\n",
              "            '<a target=\"_blank\" href=https://colab.research.google.com/notebooks/data_table.ipynb>data table notebook</a>'\n",
              "            + ' to learn more about interactive tables.';\n",
              "          element.innerHTML = '';\n",
              "          dataTable['output_type'] = 'display_data';\n",
              "          await google.colab.output.renderOutput(dataTable, element);\n",
              "          const docLink = document.createElement('div');\n",
              "          docLink.innerHTML = docLinkHtml;\n",
              "          element.appendChild(docLink);\n",
              "        }\n",
              "      </script>\n",
              "    </div>\n",
              "  </div>\n",
              "  "
            ]
          },
          "metadata": {},
          "execution_count": 94
        }
      ]
    },
    {
      "cell_type": "code",
      "source": [
        "train.describe(include =\"all\")"
      ],
      "metadata": {
        "colab": {
          "base_uri": "https://localhost:8080/",
          "height": 364
        },
        "id": "zk5-LOQmxXTj",
        "outputId": "c44033fa-69e5-4919-9e5d-b8f1cd8f49af"
      },
      "execution_count": 95,
      "outputs": [
        {
          "output_type": "execute_result",
          "data": {
            "text/plain": [
              "                id         hour  hour_bef_temperature  hour_bef_precipitation  \\\n",
              "count  1459.000000  1459.000000           1457.000000             1457.000000   \n",
              "mean   1105.914325    11.493489             16.717433                0.031572   \n",
              "std     631.338681     6.922790              5.239150                0.174917   \n",
              "min       3.000000     0.000000              3.100000                0.000000   \n",
              "25%     555.500000     5.500000             12.800000                0.000000   \n",
              "50%    1115.000000    11.000000             16.600000                0.000000   \n",
              "75%    1651.000000    17.500000             20.100000                0.000000   \n",
              "max    2179.000000    23.000000             30.000000                1.000000   \n",
              "\n",
              "       hour_bef_windspeed  hour_bef_humidity  hour_bef_visibility  \\\n",
              "count         1450.000000        1457.000000          1457.000000   \n",
              "mean             2.479034          52.231297          1405.216884   \n",
              "std              1.378265          20.370387           583.131708   \n",
              "min              0.000000           7.000000            78.000000   \n",
              "25%              1.400000          36.000000           879.000000   \n",
              "50%              2.300000          51.000000          1577.000000   \n",
              "75%              3.400000          69.000000          1994.000000   \n",
              "max              8.000000          99.000000          2000.000000   \n",
              "\n",
              "       hour_bef_ozone  hour_bef_pm10  hour_bef_pm2.5        count  \n",
              "count     1383.000000    1369.000000     1342.000000  1459.000000  \n",
              "mean         0.039149      57.168736       30.327124   108.563400  \n",
              "std          0.019509      31.771019       14.713252    82.631733  \n",
              "min          0.003000       9.000000        8.000000     1.000000  \n",
              "25%          0.025500      36.000000       20.000000    37.000000  \n",
              "50%          0.039000      51.000000       26.000000    96.000000  \n",
              "75%          0.052000      69.000000       37.000000   150.000000  \n",
              "max          0.125000     269.000000       90.000000   431.000000  "
            ],
            "text/html": [
              "\n",
              "  <div id=\"df-5b3de779-8af8-4c29-9d81-51b7792c217a\">\n",
              "    <div class=\"colab-df-container\">\n",
              "      <div>\n",
              "<style scoped>\n",
              "    .dataframe tbody tr th:only-of-type {\n",
              "        vertical-align: middle;\n",
              "    }\n",
              "\n",
              "    .dataframe tbody tr th {\n",
              "        vertical-align: top;\n",
              "    }\n",
              "\n",
              "    .dataframe thead th {\n",
              "        text-align: right;\n",
              "    }\n",
              "</style>\n",
              "<table border=\"1\" class=\"dataframe\">\n",
              "  <thead>\n",
              "    <tr style=\"text-align: right;\">\n",
              "      <th></th>\n",
              "      <th>id</th>\n",
              "      <th>hour</th>\n",
              "      <th>hour_bef_temperature</th>\n",
              "      <th>hour_bef_precipitation</th>\n",
              "      <th>hour_bef_windspeed</th>\n",
              "      <th>hour_bef_humidity</th>\n",
              "      <th>hour_bef_visibility</th>\n",
              "      <th>hour_bef_ozone</th>\n",
              "      <th>hour_bef_pm10</th>\n",
              "      <th>hour_bef_pm2.5</th>\n",
              "      <th>count</th>\n",
              "    </tr>\n",
              "  </thead>\n",
              "  <tbody>\n",
              "    <tr>\n",
              "      <th>count</th>\n",
              "      <td>1459.000000</td>\n",
              "      <td>1459.000000</td>\n",
              "      <td>1457.000000</td>\n",
              "      <td>1457.000000</td>\n",
              "      <td>1450.000000</td>\n",
              "      <td>1457.000000</td>\n",
              "      <td>1457.000000</td>\n",
              "      <td>1383.000000</td>\n",
              "      <td>1369.000000</td>\n",
              "      <td>1342.000000</td>\n",
              "      <td>1459.000000</td>\n",
              "    </tr>\n",
              "    <tr>\n",
              "      <th>mean</th>\n",
              "      <td>1105.914325</td>\n",
              "      <td>11.493489</td>\n",
              "      <td>16.717433</td>\n",
              "      <td>0.031572</td>\n",
              "      <td>2.479034</td>\n",
              "      <td>52.231297</td>\n",
              "      <td>1405.216884</td>\n",
              "      <td>0.039149</td>\n",
              "      <td>57.168736</td>\n",
              "      <td>30.327124</td>\n",
              "      <td>108.563400</td>\n",
              "    </tr>\n",
              "    <tr>\n",
              "      <th>std</th>\n",
              "      <td>631.338681</td>\n",
              "      <td>6.922790</td>\n",
              "      <td>5.239150</td>\n",
              "      <td>0.174917</td>\n",
              "      <td>1.378265</td>\n",
              "      <td>20.370387</td>\n",
              "      <td>583.131708</td>\n",
              "      <td>0.019509</td>\n",
              "      <td>31.771019</td>\n",
              "      <td>14.713252</td>\n",
              "      <td>82.631733</td>\n",
              "    </tr>\n",
              "    <tr>\n",
              "      <th>min</th>\n",
              "      <td>3.000000</td>\n",
              "      <td>0.000000</td>\n",
              "      <td>3.100000</td>\n",
              "      <td>0.000000</td>\n",
              "      <td>0.000000</td>\n",
              "      <td>7.000000</td>\n",
              "      <td>78.000000</td>\n",
              "      <td>0.003000</td>\n",
              "      <td>9.000000</td>\n",
              "      <td>8.000000</td>\n",
              "      <td>1.000000</td>\n",
              "    </tr>\n",
              "    <tr>\n",
              "      <th>25%</th>\n",
              "      <td>555.500000</td>\n",
              "      <td>5.500000</td>\n",
              "      <td>12.800000</td>\n",
              "      <td>0.000000</td>\n",
              "      <td>1.400000</td>\n",
              "      <td>36.000000</td>\n",
              "      <td>879.000000</td>\n",
              "      <td>0.025500</td>\n",
              "      <td>36.000000</td>\n",
              "      <td>20.000000</td>\n",
              "      <td>37.000000</td>\n",
              "    </tr>\n",
              "    <tr>\n",
              "      <th>50%</th>\n",
              "      <td>1115.000000</td>\n",
              "      <td>11.000000</td>\n",
              "      <td>16.600000</td>\n",
              "      <td>0.000000</td>\n",
              "      <td>2.300000</td>\n",
              "      <td>51.000000</td>\n",
              "      <td>1577.000000</td>\n",
              "      <td>0.039000</td>\n",
              "      <td>51.000000</td>\n",
              "      <td>26.000000</td>\n",
              "      <td>96.000000</td>\n",
              "    </tr>\n",
              "    <tr>\n",
              "      <th>75%</th>\n",
              "      <td>1651.000000</td>\n",
              "      <td>17.500000</td>\n",
              "      <td>20.100000</td>\n",
              "      <td>0.000000</td>\n",
              "      <td>3.400000</td>\n",
              "      <td>69.000000</td>\n",
              "      <td>1994.000000</td>\n",
              "      <td>0.052000</td>\n",
              "      <td>69.000000</td>\n",
              "      <td>37.000000</td>\n",
              "      <td>150.000000</td>\n",
              "    </tr>\n",
              "    <tr>\n",
              "      <th>max</th>\n",
              "      <td>2179.000000</td>\n",
              "      <td>23.000000</td>\n",
              "      <td>30.000000</td>\n",
              "      <td>1.000000</td>\n",
              "      <td>8.000000</td>\n",
              "      <td>99.000000</td>\n",
              "      <td>2000.000000</td>\n",
              "      <td>0.125000</td>\n",
              "      <td>269.000000</td>\n",
              "      <td>90.000000</td>\n",
              "      <td>431.000000</td>\n",
              "    </tr>\n",
              "  </tbody>\n",
              "</table>\n",
              "</div>\n",
              "      <button class=\"colab-df-convert\" onclick=\"convertToInteractive('df-5b3de779-8af8-4c29-9d81-51b7792c217a')\"\n",
              "              title=\"Convert this dataframe to an interactive table.\"\n",
              "              style=\"display:none;\">\n",
              "        \n",
              "  <svg xmlns=\"http://www.w3.org/2000/svg\" height=\"24px\"viewBox=\"0 0 24 24\"\n",
              "       width=\"24px\">\n",
              "    <path d=\"M0 0h24v24H0V0z\" fill=\"none\"/>\n",
              "    <path d=\"M18.56 5.44l.94 2.06.94-2.06 2.06-.94-2.06-.94-.94-2.06-.94 2.06-2.06.94zm-11 1L8.5 8.5l.94-2.06 2.06-.94-2.06-.94L8.5 2.5l-.94 2.06-2.06.94zm10 10l.94 2.06.94-2.06 2.06-.94-2.06-.94-.94-2.06-.94 2.06-2.06.94z\"/><path d=\"M17.41 7.96l-1.37-1.37c-.4-.4-.92-.59-1.43-.59-.52 0-1.04.2-1.43.59L10.3 9.45l-7.72 7.72c-.78.78-.78 2.05 0 2.83L4 21.41c.39.39.9.59 1.41.59.51 0 1.02-.2 1.41-.59l7.78-7.78 2.81-2.81c.8-.78.8-2.07 0-2.86zM5.41 20L4 18.59l7.72-7.72 1.47 1.35L5.41 20z\"/>\n",
              "  </svg>\n",
              "      </button>\n",
              "      \n",
              "  <style>\n",
              "    .colab-df-container {\n",
              "      display:flex;\n",
              "      flex-wrap:wrap;\n",
              "      gap: 12px;\n",
              "    }\n",
              "\n",
              "    .colab-df-convert {\n",
              "      background-color: #E8F0FE;\n",
              "      border: none;\n",
              "      border-radius: 50%;\n",
              "      cursor: pointer;\n",
              "      display: none;\n",
              "      fill: #1967D2;\n",
              "      height: 32px;\n",
              "      padding: 0 0 0 0;\n",
              "      width: 32px;\n",
              "    }\n",
              "\n",
              "    .colab-df-convert:hover {\n",
              "      background-color: #E2EBFA;\n",
              "      box-shadow: 0px 1px 2px rgba(60, 64, 67, 0.3), 0px 1px 3px 1px rgba(60, 64, 67, 0.15);\n",
              "      fill: #174EA6;\n",
              "    }\n",
              "\n",
              "    [theme=dark] .colab-df-convert {\n",
              "      background-color: #3B4455;\n",
              "      fill: #D2E3FC;\n",
              "    }\n",
              "\n",
              "    [theme=dark] .colab-df-convert:hover {\n",
              "      background-color: #434B5C;\n",
              "      box-shadow: 0px 1px 3px 1px rgba(0, 0, 0, 0.15);\n",
              "      filter: drop-shadow(0px 1px 2px rgba(0, 0, 0, 0.3));\n",
              "      fill: #FFFFFF;\n",
              "    }\n",
              "  </style>\n",
              "\n",
              "      <script>\n",
              "        const buttonEl =\n",
              "          document.querySelector('#df-5b3de779-8af8-4c29-9d81-51b7792c217a button.colab-df-convert');\n",
              "        buttonEl.style.display =\n",
              "          google.colab.kernel.accessAllowed ? 'block' : 'none';\n",
              "\n",
              "        async function convertToInteractive(key) {\n",
              "          const element = document.querySelector('#df-5b3de779-8af8-4c29-9d81-51b7792c217a');\n",
              "          const dataTable =\n",
              "            await google.colab.kernel.invokeFunction('convertToInteractive',\n",
              "                                                     [key], {});\n",
              "          if (!dataTable) return;\n",
              "\n",
              "          const docLinkHtml = 'Like what you see? Visit the ' +\n",
              "            '<a target=\"_blank\" href=https://colab.research.google.com/notebooks/data_table.ipynb>data table notebook</a>'\n",
              "            + ' to learn more about interactive tables.';\n",
              "          element.innerHTML = '';\n",
              "          dataTable['output_type'] = 'display_data';\n",
              "          await google.colab.output.renderOutput(dataTable, element);\n",
              "          const docLink = document.createElement('div');\n",
              "          docLink.innerHTML = docLinkHtml;\n",
              "          element.appendChild(docLink);\n",
              "        }\n",
              "      </script>\n",
              "    </div>\n",
              "  </div>\n",
              "  "
            ]
          },
          "metadata": {},
          "execution_count": 95
        }
      ]
    },
    {
      "cell_type": "code",
      "source": [
        "test.describe(include =\"all\")"
      ],
      "metadata": {
        "colab": {
          "base_uri": "https://localhost:8080/",
          "height": 364
        },
        "id": "kVbDOhkRxd13",
        "outputId": "7b010d6f-2cbd-4896-ced7-8c939b0c63e1"
      },
      "execution_count": 96,
      "outputs": [
        {
          "output_type": "execute_result",
          "data": {
            "text/plain": [
              "                id        hour  hour_bef_temperature  hour_bef_precipitation  \\\n",
              "count   715.000000  715.000000            714.000000              714.000000   \n",
              "mean   1056.854545   11.472727             23.263305                0.051821   \n",
              "std     625.574471    6.928427              4.039645                0.221820   \n",
              "min       0.000000    0.000000             14.600000                0.000000   \n",
              "25%     507.000000    5.500000             20.300000                0.000000   \n",
              "50%    1046.000000   11.000000             22.900000                0.000000   \n",
              "75%    1616.500000   17.000000             26.375000                0.000000   \n",
              "max    2177.000000   23.000000             33.800000                1.000000   \n",
              "\n",
              "       hour_bef_windspeed  hour_bef_humidity  hour_bef_visibility  \\\n",
              "count          714.000000         714.000000           714.000000   \n",
              "mean             2.388515          56.668067          1359.494398   \n",
              "std              1.171270          19.661880           614.171870   \n",
              "min              0.000000          16.000000           126.000000   \n",
              "25%              1.500000          42.000000           807.250000   \n",
              "50%              2.300000          55.000000          1489.000000   \n",
              "75%              3.275000          73.750000          2000.000000   \n",
              "max              5.900000         100.000000          2000.000000   \n",
              "\n",
              "       hour_bef_ozone  hour_bef_pm10  hour_bef_pm2.5  \n",
              "count      680.000000     678.000000      679.000000  \n",
              "mean         0.041196      36.930678       24.939617  \n",
              "std          0.020656      12.641503       10.075857  \n",
              "min          0.003000       9.000000        7.000000  \n",
              "25%          0.027000      28.000000       17.000000  \n",
              "50%          0.039000      35.000000       24.000000  \n",
              "75%          0.052250      45.000000       31.000000  \n",
              "max          0.138000      94.000000       69.000000  "
            ],
            "text/html": [
              "\n",
              "  <div id=\"df-24eb5004-c6a8-4437-a450-10cd347e2b8b\">\n",
              "    <div class=\"colab-df-container\">\n",
              "      <div>\n",
              "<style scoped>\n",
              "    .dataframe tbody tr th:only-of-type {\n",
              "        vertical-align: middle;\n",
              "    }\n",
              "\n",
              "    .dataframe tbody tr th {\n",
              "        vertical-align: top;\n",
              "    }\n",
              "\n",
              "    .dataframe thead th {\n",
              "        text-align: right;\n",
              "    }\n",
              "</style>\n",
              "<table border=\"1\" class=\"dataframe\">\n",
              "  <thead>\n",
              "    <tr style=\"text-align: right;\">\n",
              "      <th></th>\n",
              "      <th>id</th>\n",
              "      <th>hour</th>\n",
              "      <th>hour_bef_temperature</th>\n",
              "      <th>hour_bef_precipitation</th>\n",
              "      <th>hour_bef_windspeed</th>\n",
              "      <th>hour_bef_humidity</th>\n",
              "      <th>hour_bef_visibility</th>\n",
              "      <th>hour_bef_ozone</th>\n",
              "      <th>hour_bef_pm10</th>\n",
              "      <th>hour_bef_pm2.5</th>\n",
              "    </tr>\n",
              "  </thead>\n",
              "  <tbody>\n",
              "    <tr>\n",
              "      <th>count</th>\n",
              "      <td>715.000000</td>\n",
              "      <td>715.000000</td>\n",
              "      <td>714.000000</td>\n",
              "      <td>714.000000</td>\n",
              "      <td>714.000000</td>\n",
              "      <td>714.000000</td>\n",
              "      <td>714.000000</td>\n",
              "      <td>680.000000</td>\n",
              "      <td>678.000000</td>\n",
              "      <td>679.000000</td>\n",
              "    </tr>\n",
              "    <tr>\n",
              "      <th>mean</th>\n",
              "      <td>1056.854545</td>\n",
              "      <td>11.472727</td>\n",
              "      <td>23.263305</td>\n",
              "      <td>0.051821</td>\n",
              "      <td>2.388515</td>\n",
              "      <td>56.668067</td>\n",
              "      <td>1359.494398</td>\n",
              "      <td>0.041196</td>\n",
              "      <td>36.930678</td>\n",
              "      <td>24.939617</td>\n",
              "    </tr>\n",
              "    <tr>\n",
              "      <th>std</th>\n",
              "      <td>625.574471</td>\n",
              "      <td>6.928427</td>\n",
              "      <td>4.039645</td>\n",
              "      <td>0.221820</td>\n",
              "      <td>1.171270</td>\n",
              "      <td>19.661880</td>\n",
              "      <td>614.171870</td>\n",
              "      <td>0.020656</td>\n",
              "      <td>12.641503</td>\n",
              "      <td>10.075857</td>\n",
              "    </tr>\n",
              "    <tr>\n",
              "      <th>min</th>\n",
              "      <td>0.000000</td>\n",
              "      <td>0.000000</td>\n",
              "      <td>14.600000</td>\n",
              "      <td>0.000000</td>\n",
              "      <td>0.000000</td>\n",
              "      <td>16.000000</td>\n",
              "      <td>126.000000</td>\n",
              "      <td>0.003000</td>\n",
              "      <td>9.000000</td>\n",
              "      <td>7.000000</td>\n",
              "    </tr>\n",
              "    <tr>\n",
              "      <th>25%</th>\n",
              "      <td>507.000000</td>\n",
              "      <td>5.500000</td>\n",
              "      <td>20.300000</td>\n",
              "      <td>0.000000</td>\n",
              "      <td>1.500000</td>\n",
              "      <td>42.000000</td>\n",
              "      <td>807.250000</td>\n",
              "      <td>0.027000</td>\n",
              "      <td>28.000000</td>\n",
              "      <td>17.000000</td>\n",
              "    </tr>\n",
              "    <tr>\n",
              "      <th>50%</th>\n",
              "      <td>1046.000000</td>\n",
              "      <td>11.000000</td>\n",
              "      <td>22.900000</td>\n",
              "      <td>0.000000</td>\n",
              "      <td>2.300000</td>\n",
              "      <td>55.000000</td>\n",
              "      <td>1489.000000</td>\n",
              "      <td>0.039000</td>\n",
              "      <td>35.000000</td>\n",
              "      <td>24.000000</td>\n",
              "    </tr>\n",
              "    <tr>\n",
              "      <th>75%</th>\n",
              "      <td>1616.500000</td>\n",
              "      <td>17.000000</td>\n",
              "      <td>26.375000</td>\n",
              "      <td>0.000000</td>\n",
              "      <td>3.275000</td>\n",
              "      <td>73.750000</td>\n",
              "      <td>2000.000000</td>\n",
              "      <td>0.052250</td>\n",
              "      <td>45.000000</td>\n",
              "      <td>31.000000</td>\n",
              "    </tr>\n",
              "    <tr>\n",
              "      <th>max</th>\n",
              "      <td>2177.000000</td>\n",
              "      <td>23.000000</td>\n",
              "      <td>33.800000</td>\n",
              "      <td>1.000000</td>\n",
              "      <td>5.900000</td>\n",
              "      <td>100.000000</td>\n",
              "      <td>2000.000000</td>\n",
              "      <td>0.138000</td>\n",
              "      <td>94.000000</td>\n",
              "      <td>69.000000</td>\n",
              "    </tr>\n",
              "  </tbody>\n",
              "</table>\n",
              "</div>\n",
              "      <button class=\"colab-df-convert\" onclick=\"convertToInteractive('df-24eb5004-c6a8-4437-a450-10cd347e2b8b')\"\n",
              "              title=\"Convert this dataframe to an interactive table.\"\n",
              "              style=\"display:none;\">\n",
              "        \n",
              "  <svg xmlns=\"http://www.w3.org/2000/svg\" height=\"24px\"viewBox=\"0 0 24 24\"\n",
              "       width=\"24px\">\n",
              "    <path d=\"M0 0h24v24H0V0z\" fill=\"none\"/>\n",
              "    <path d=\"M18.56 5.44l.94 2.06.94-2.06 2.06-.94-2.06-.94-.94-2.06-.94 2.06-2.06.94zm-11 1L8.5 8.5l.94-2.06 2.06-.94-2.06-.94L8.5 2.5l-.94 2.06-2.06.94zm10 10l.94 2.06.94-2.06 2.06-.94-2.06-.94-.94-2.06-.94 2.06-2.06.94z\"/><path d=\"M17.41 7.96l-1.37-1.37c-.4-.4-.92-.59-1.43-.59-.52 0-1.04.2-1.43.59L10.3 9.45l-7.72 7.72c-.78.78-.78 2.05 0 2.83L4 21.41c.39.39.9.59 1.41.59.51 0 1.02-.2 1.41-.59l7.78-7.78 2.81-2.81c.8-.78.8-2.07 0-2.86zM5.41 20L4 18.59l7.72-7.72 1.47 1.35L5.41 20z\"/>\n",
              "  </svg>\n",
              "      </button>\n",
              "      \n",
              "  <style>\n",
              "    .colab-df-container {\n",
              "      display:flex;\n",
              "      flex-wrap:wrap;\n",
              "      gap: 12px;\n",
              "    }\n",
              "\n",
              "    .colab-df-convert {\n",
              "      background-color: #E8F0FE;\n",
              "      border: none;\n",
              "      border-radius: 50%;\n",
              "      cursor: pointer;\n",
              "      display: none;\n",
              "      fill: #1967D2;\n",
              "      height: 32px;\n",
              "      padding: 0 0 0 0;\n",
              "      width: 32px;\n",
              "    }\n",
              "\n",
              "    .colab-df-convert:hover {\n",
              "      background-color: #E2EBFA;\n",
              "      box-shadow: 0px 1px 2px rgba(60, 64, 67, 0.3), 0px 1px 3px 1px rgba(60, 64, 67, 0.15);\n",
              "      fill: #174EA6;\n",
              "    }\n",
              "\n",
              "    [theme=dark] .colab-df-convert {\n",
              "      background-color: #3B4455;\n",
              "      fill: #D2E3FC;\n",
              "    }\n",
              "\n",
              "    [theme=dark] .colab-df-convert:hover {\n",
              "      background-color: #434B5C;\n",
              "      box-shadow: 0px 1px 3px 1px rgba(0, 0, 0, 0.15);\n",
              "      filter: drop-shadow(0px 1px 2px rgba(0, 0, 0, 0.3));\n",
              "      fill: #FFFFFF;\n",
              "    }\n",
              "  </style>\n",
              "\n",
              "      <script>\n",
              "        const buttonEl =\n",
              "          document.querySelector('#df-24eb5004-c6a8-4437-a450-10cd347e2b8b button.colab-df-convert');\n",
              "        buttonEl.style.display =\n",
              "          google.colab.kernel.accessAllowed ? 'block' : 'none';\n",
              "\n",
              "        async function convertToInteractive(key) {\n",
              "          const element = document.querySelector('#df-24eb5004-c6a8-4437-a450-10cd347e2b8b');\n",
              "          const dataTable =\n",
              "            await google.colab.kernel.invokeFunction('convertToInteractive',\n",
              "                                                     [key], {});\n",
              "          if (!dataTable) return;\n",
              "\n",
              "          const docLinkHtml = 'Like what you see? Visit the ' +\n",
              "            '<a target=\"_blank\" href=https://colab.research.google.com/notebooks/data_table.ipynb>data table notebook</a>'\n",
              "            + ' to learn more about interactive tables.';\n",
              "          element.innerHTML = '';\n",
              "          dataTable['output_type'] = 'display_data';\n",
              "          await google.colab.output.renderOutput(dataTable, element);\n",
              "          const docLink = document.createElement('div');\n",
              "          docLink.innerHTML = docLinkHtml;\n",
              "          element.appendChild(docLink);\n",
              "        }\n",
              "      </script>\n",
              "    </div>\n",
              "  </div>\n",
              "  "
            ]
          },
          "metadata": {},
          "execution_count": 96
        }
      ]
    },
    {
      "cell_type": "code",
      "source": [
        "print(train.isnull().sum(),\"\\n\",test.isnull().sum()) "
      ],
      "metadata": {
        "colab": {
          "base_uri": "https://localhost:8080/"
        },
        "id": "fa7y5PENwt64",
        "outputId": "47650477-f335-4a6a-d800-cfdf33af1780"
      },
      "execution_count": 97,
      "outputs": [
        {
          "output_type": "stream",
          "name": "stdout",
          "text": [
            "id                          0\n",
            "hour                        0\n",
            "hour_bef_temperature        2\n",
            "hour_bef_precipitation      2\n",
            "hour_bef_windspeed          9\n",
            "hour_bef_humidity           2\n",
            "hour_bef_visibility         2\n",
            "hour_bef_ozone             76\n",
            "hour_bef_pm10              90\n",
            "hour_bef_pm2.5            117\n",
            "count                       0\n",
            "dtype: int64 \n",
            " id                         0\n",
            "hour                       0\n",
            "hour_bef_temperature       1\n",
            "hour_bef_precipitation     1\n",
            "hour_bef_windspeed         1\n",
            "hour_bef_humidity          1\n",
            "hour_bef_visibility        1\n",
            "hour_bef_ozone            35\n",
            "hour_bef_pm10             37\n",
            "hour_bef_pm2.5            36\n",
            "dtype: int64\n"
          ]
        }
      ]
    },
    {
      "cell_type": "code",
      "source": [
        "print(train.dtypes, \"\\n\", train.shape)"
      ],
      "metadata": {
        "colab": {
          "base_uri": "https://localhost:8080/"
        },
        "id": "HduWty13zOxX",
        "outputId": "f9bc2ffd-eba2-4791-b50b-a6e7e33db8ca"
      },
      "execution_count": 98,
      "outputs": [
        {
          "output_type": "stream",
          "name": "stdout",
          "text": [
            "id                          int64\n",
            "hour                        int64\n",
            "hour_bef_temperature      float64\n",
            "hour_bef_precipitation    float64\n",
            "hour_bef_windspeed        float64\n",
            "hour_bef_humidity         float64\n",
            "hour_bef_visibility       float64\n",
            "hour_bef_ozone            float64\n",
            "hour_bef_pm10             float64\n",
            "hour_bef_pm2.5            float64\n",
            "count                     float64\n",
            "dtype: object \n",
            " (1459, 11)\n"
          ]
        }
      ]
    },
    {
      "cell_type": "code",
      "source": [
        "print(test.dtypes, \"\\n\", test.shape)"
      ],
      "metadata": {
        "colab": {
          "base_uri": "https://localhost:8080/"
        },
        "id": "VvjOizK_zqQY",
        "outputId": "35fe71ae-4828-45c7-ce9c-5619a9799759"
      },
      "execution_count": 99,
      "outputs": [
        {
          "output_type": "stream",
          "name": "stdout",
          "text": [
            "id                          int64\n",
            "hour                        int64\n",
            "hour_bef_temperature      float64\n",
            "hour_bef_precipitation    float64\n",
            "hour_bef_windspeed        float64\n",
            "hour_bef_humidity         float64\n",
            "hour_bef_visibility       float64\n",
            "hour_bef_ozone            float64\n",
            "hour_bef_pm10             float64\n",
            "hour_bef_pm2.5            float64\n",
            "dtype: object \n",
            " (715, 10)\n"
          ]
        }
      ]
    },
    {
      "cell_type": "code",
      "source": [
        "'''\n",
        "sns.countplot(x=\"class\", data=train)\n",
        "plt.title(\"타이타닉호의 각 클래스별, 승객 수\")\n",
        "plt.show()\n",
        "'''\n",
        "#hour_bef_ozone, hour_bef_pm10, hour_bef_pm2.5 76,90,117 / 1459 *100 5~8퍼센트 결측치\n",
        "#hour_bef_ozone, hour_bef_pm10, hour_bef_pm2.5 35,37,36 / 715 *100 5퍼센트 결측치  #결측치 제거를 했어야 했는가?"
      ],
      "metadata": {
        "colab": {
          "base_uri": "https://localhost:8080/",
          "height": 36
        },
        "id": "-G4FFsEI0UTH",
        "outputId": "93e59f1b-dbfa-4f5e-ae14-3039375d3737"
      },
      "execution_count": 100,
      "outputs": [
        {
          "output_type": "execute_result",
          "data": {
            "text/plain": [
              "'\\nsns.countplot(x=\"class\", data=train)\\nplt.title(\"타이타닉호의 각 클래스별, 승객 수\")\\nplt.show()\\n'"
            ],
            "application/vnd.google.colaboratory.intrinsic+json": {
              "type": "string"
            }
          },
          "metadata": {},
          "execution_count": 100
        }
      ]
    },
    {
      "cell_type": "code",
      "source": [
        "print(train.columns, \"\\n\", test.columns)"
      ],
      "metadata": {
        "colab": {
          "base_uri": "https://localhost:8080/"
        },
        "id": "FI3zOgbD46LM",
        "outputId": "d8b39e38-7b4f-4065-d6de-d614d95c01f7"
      },
      "execution_count": 107,
      "outputs": [
        {
          "output_type": "stream",
          "name": "stdout",
          "text": [
            "Index(['id', 'hour', 'hour_bef_temperature', 'hour_bef_precipitation',\n",
            "       'hour_bef_windspeed', 'hour_bef_humidity', 'hour_bef_visibility',\n",
            "       'hour_bef_ozone', 'hour_bef_pm10', 'hour_bef_pm2.5', 'count'],\n",
            "      dtype='object') \n",
            " Index(['id', 'hour', 'hour_bef_temperature', 'hour_bef_precipitation',\n",
            "       'hour_bef_windspeed', 'hour_bef_humidity', 'hour_bef_visibility',\n",
            "       'hour_bef_ozone', 'hour_bef_pm10', 'hour_bef_pm2.5'],\n",
            "      dtype='object')\n"
          ]
        }
      ]
    },
    {
      "cell_type": "code",
      "source": [
        "def countplot(df):\n",
        "  for i in list(train.columns):\n",
        "    plot = sns.countplot(x=i, data=df)\n",
        "    plt.title(i)\n",
        "    plt.show()\n",
        "    print(plt.show()) "
      ],
      "metadata": {
        "id": "-PFMeH5343g6"
      },
      "execution_count": 119,
      "outputs": []
    },
    {
      "cell_type": "code",
      "source": [
        "countplot(train)"
      ],
      "metadata": {
        "colab": {
          "base_uri": "https://localhost:8080/"
        },
        "id": "ZGdr_dsG6fFQ",
        "outputId": "646f0728-9e68-4230-9a5d-29c4fff8eded"
      },
      "execution_count": 120,
      "outputs": [
        {
          "output_type": "stream",
          "name": "stdout",
          "text": [
            "None\n",
            "None\n",
            "None\n",
            "None\n",
            "None\n",
            "None\n",
            "None\n",
            "None\n",
            "None\n",
            "None\n",
            "None\n"
          ]
        }
      ]
    },
    {
      "cell_type": "markdown",
      "metadata": {
        "id": "w_PwM9kF7Pbi"
      },
      "source": [
        "## 전처리\n",
        "---\n",
        "train 은 interpolate() 를 이용해 결측치를 DataFrame 값에 선형으로 비례하여 보간합니다.\n",
        "test 의 결측치는 0으로 채워줍니다."
      ]
    },
    {
      "cell_type": "code",
      "metadata": {
        "id": "H2K-UbwAkuJ6"
      },
      "source": [
        "train.interpolate(inplace=True)\n",
        "test.fillna(0, inplace=True)"
      ],
      "execution_count": null,
      "outputs": []
    },
    {
      "cell_type": "code",
      "source": [
        "list(train.columns)\n",
        "list(test.columns)"
      ],
      "metadata": {
        "id": "iiMbxQI1TD2V"
      },
      "execution_count": null,
      "outputs": []
    },
    {
      "cell_type": "code",
      "metadata": {
        "id": "ZOHdV_UjJ-Y9"
      },
      "source": [
        "# 앞 과정에서 파악된 변수 중요도가 낮은 피쳐드를 제거합니다.\n",
        "\n",
        "X_train = train.drop(['count', 'id'], axis=1)\n",
        "Y_train = train['count']\n",
        "test = test.drop(['id'], axis=1)"
      ],
      "execution_count": null,
      "outputs": []
    },
    {
      "cell_type": "code",
      "source": [
        "'''\n",
        "#코랩 데이터 다운로드\n",
        "!wget 'https://bit.ly/3gLj0Q6'\n",
        "\n",
        "import zipfile\n",
        "with zipfile.ZipFile('3gLj0Q6', 'r') as existing_zip:\n",
        "    existing_zip.extractall('data')\n",
        "\n",
        "#라이브러리\n",
        "import pandas as pd\n",
        "from sklearn.ensemble import RandomForestRegressor\n",
        "\n",
        "#데이터 불러오기\n",
        "train = pd.read_csv('data/train.csv') \n",
        "test = pd.read_csv('data/test.csv')\n",
        "\n",
        "#전처리(다른버전)\n",
        "train.interpolate(inplace=True)\n",
        "test.interpolate(inplace=True) #다른 버전test.fillna(0, inplace=True)\n",
        "'''"
      ],
      "metadata": {
        "id": "OawSamCRSdNV"
      },
      "execution_count": null,
      "outputs": []
    },
    {
      "cell_type": "markdown",
      "metadata": {
        "id": "ZksEbPou52yW"
      },
      "source": [
        "## 👋 실습\n",
        "---"
      ]
    },
    {
      "cell_type": "code",
      "metadata": {
        "id": "Dx1Bnx_c2nJy"
      },
      "source": [
        "# 각 X_train에 대해 모델 훈련을 해주세요.\n",
        "model1 = RandomForestRegressor(criterion = 'mse', random_state = 0 )\n",
        "#model1.fit(X_train, Y_train)\n",
        "#pred1 = model1.predict(test)\n",
        "\n",
        "params = {'n_estimators': [200, 300, 500],\n",
        "          'max_features': [5, 6, 8],\n",
        "          'min_samples_leaf': [1, 3, 5]}\n",
        "\n",
        "greedy_CV1 = GridSearchCV(model1, param_grid=params, cv = 3, n_jobs = -1)\n",
        "greedy_CV1.fit(X_train, Y_train)\n",
        "\n",
        "pred1 = greedy_CV1.predict(test)"
      ],
      "execution_count": null,
      "outputs": []
    },
    {
      "cell_type": "code",
      "metadata": {
        "id": "dYyBlm3d3vNw"
      },
      "source": [
        "# 각 결과들을 submission 파일로 저장해주세요.\n",
        "submission_s = pd.read_csv('data/submission.csv')\n",
        "\n",
        "submission_s['count'] = pred1\n",
        "\n",
        "submission_s.to_csv('sub_11.csv',index=False)\n"
      ],
      "execution_count": null,
      "outputs": []
    },
    {
      "cell_type": "code",
      "metadata": {
        "id": "ElGClyMRYHSk"
      },
      "source": [
        "import numpy as np\n",
        "\n",
        "#submission['count'] = np.round(pred, 2)"
      ],
      "execution_count": null,
      "outputs": []
    },
    {
      "cell_type": "code",
      "metadata": {
        "id": "TTCEA0tTYt2-"
      },
      "source": [
        "#submission.head()"
      ],
      "execution_count": null,
      "outputs": []
    },
    {
      "cell_type": "code",
      "metadata": {
        "id": "Anbnh4vuYHCP"
      },
      "source": [
        "#submission.to_csv('sub.csv',index=False)"
      ],
      "execution_count": null,
      "outputs": []
    },
    {
      "cell_type": "markdown",
      "metadata": {
        "id": "K8YgC54VtiB7"
      },
      "source": [
        "# [↩️ 리스트로 돌아가기](https://dacon.io/competitions/open/235698/overview/description)"
      ]
    }
  ]
}