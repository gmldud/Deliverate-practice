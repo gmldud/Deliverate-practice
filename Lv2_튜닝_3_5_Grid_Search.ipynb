{
  "nbformat": 4,
  "nbformat_minor": 0,
  "metadata": {
    "colab": {
      "name": "Lv2 튜닝 3/5 Grid Search",
      "provenance": [],
      "collapsed_sections": [
        "J1Is2vFL4cxY"
      ],
      "include_colab_link": true
    },
    "kernelspec": {
      "name": "python3",
      "display_name": "Python 3"
    },
    "language_info": {
      "name": "python"
    },
    "gpuClass": "standard"
  },
  "cells": [
    {
      "cell_type": "markdown",
      "metadata": {
        "id": "view-in-github",
        "colab_type": "text"
      },
      "source": [
        "<a href=\"https://colab.research.google.com/github/gmldud/Deliverate_Practice/blob/main/Lv2_%ED%8A%9C%EB%8B%9D_3_5_Grid_Search.ipynb\" target=\"_parent\"><img src=\"https://colab.research.google.com/assets/colab-badge.svg\" alt=\"Open In Colab\"/></a>"
      ]
    },
    {
      "cell_type": "markdown",
      "metadata": {
        "id": "vIpjpOEXsoW0"
      },
      "source": [
        "# [↩️ 리스트로 돌아가기](https://dacon.io/competitions/open/235698/overview/description)"
      ]
    },
    {
      "cell_type": "markdown",
      "metadata": {
        "id": "Y8EsppNShcez"
      },
      "source": [
        "# 셀을 실행할 때 팝업이 뜨면 `무시하고 계속하기` 를 눌러주세요\n"
      ]
    },
    {
      "cell_type": "markdown",
      "metadata": {
        "id": "7A1_NrpnNgI0"
      },
      "source": [
        "## 데이터 다운로드\n",
        "--- \n",
        "아래 셀을 실행시켜 데이터를 colab에 불러옵니다.  \n",
        "셀 실행은 Ctrl + Enter 를 이용해 실행 시킬 수 있습니다. "
      ]
    },
    {
      "cell_type": "code",
      "metadata": {
        "id": "a3VxvpLvhnap",
        "outputId": "e96ffd85-f5b0-4d29-ce93-dd984d5f3cc4",
        "colab": {
          "base_uri": "https://localhost:8080/"
        }
      },
      "source": [
        "# 데이터 다운로드 링크로 데이터를 코랩에 불러옵니다.\n",
        "\n",
        "!wget 'https://bit.ly/3gLj0Q6'\n",
        "\n",
        "import zipfile\n",
        "with zipfile.ZipFile('3gLj0Q6', 'r') as existing_zip:\n",
        "    existing_zip.extractall('data')"
      ],
      "execution_count": 29,
      "outputs": [
        {
          "output_type": "stream",
          "name": "stdout",
          "text": [
            "--2022-08-09 07:27:42--  https://bit.ly/3gLj0Q6\n",
            "Resolving bit.ly (bit.ly)... 67.199.248.10, 67.199.248.11\n",
            "Connecting to bit.ly (bit.ly)|67.199.248.10|:443... connected.\n",
            "HTTP request sent, awaiting response... 301 Moved Permanently\n",
            "Location: https://drive.google.com/uc?export=download&id=1or_QN1ksv81DNog6Tu_kWcZ5jJWf5W9E [following]\n",
            "--2022-08-09 07:27:42--  https://drive.google.com/uc?export=download&id=1or_QN1ksv81DNog6Tu_kWcZ5jJWf5W9E\n",
            "Resolving drive.google.com (drive.google.com)... 172.253.122.102, 172.253.122.101, 172.253.122.113, ...\n",
            "Connecting to drive.google.com (drive.google.com)|172.253.122.102|:443... connected.\n",
            "HTTP request sent, awaiting response... 303 See Other\n",
            "Location: https://doc-0c-10-docs.googleusercontent.com/docs/securesc/ha0ro937gcuc7l7deffksulhg5h7mbp1/r7v4h4ta1b9s2h86d920iodgmso6cvjs/1660030050000/17946651057176172524/*/1or_QN1ksv81DNog6Tu_kWcZ5jJWf5W9E?e=download&uuid=bf3d35ea-8102-43e0-8a83-1ea71562cc15 [following]\n",
            "Warning: wildcards not supported in HTTP.\n",
            "--2022-08-09 07:27:42--  https://doc-0c-10-docs.googleusercontent.com/docs/securesc/ha0ro937gcuc7l7deffksulhg5h7mbp1/r7v4h4ta1b9s2h86d920iodgmso6cvjs/1660030050000/17946651057176172524/*/1or_QN1ksv81DNog6Tu_kWcZ5jJWf5W9E?e=download&uuid=bf3d35ea-8102-43e0-8a83-1ea71562cc15\n",
            "Resolving doc-0c-10-docs.googleusercontent.com (doc-0c-10-docs.googleusercontent.com)... 172.253.63.132, 2607:f8b0:4004:c08::84\n",
            "Connecting to doc-0c-10-docs.googleusercontent.com (doc-0c-10-docs.googleusercontent.com)|172.253.63.132|:443... connected.\n",
            "HTTP request sent, awaiting response... 200 OK\n",
            "Length: 39208 (38K) [application/zip]\n",
            "Saving to: ‘3gLj0Q6.2’\n",
            "\n",
            "3gLj0Q6.2           100%[===================>]  38.29K  --.-KB/s    in 0s      \n",
            "\n",
            "2022-08-09 07:27:42 (124 MB/s) - ‘3gLj0Q6.2’ saved [39208/39208]\n",
            "\n"
          ]
        }
      ]
    },
    {
      "cell_type": "markdown",
      "metadata": {
        "id": "gx8XCXCxeQk8"
      },
      "source": [
        "## 라이브러리 불러오기\n",
        "---\n",
        "아래 셀을 실행시켜 pandas 와 DecisionTreeClassifier 를 불러옵니다."
      ]
    },
    {
      "cell_type": "code",
      "metadata": {
        "id": "kt_IKrkPeNwQ"
      },
      "source": [
        "import pandas as pd\n",
        "from sklearn.ensemble import RandomForestRegressor"
      ],
      "execution_count": 30,
      "outputs": []
    },
    {
      "cell_type": "markdown",
      "metadata": {
        "id": "VxC2pa2-rgat"
      },
      "source": [
        "## 데이터 불러오기\n",
        "---\n",
        "아래 셀을 실행시켜 csv 파일 데이터를 DataFrame 객체로 불러옵니다."
      ]
    },
    {
      "cell_type": "code",
      "metadata": {
        "id": "V6wTaK4sfnms"
      },
      "source": [
        "train = pd.read_csv('data/train.csv') \n",
        "test = pd.read_csv('data/test.csv')"
      ],
      "execution_count": 31,
      "outputs": []
    },
    {
      "cell_type": "markdown",
      "metadata": {
        "id": "w_PwM9kF7Pbi"
      },
      "source": [
        "## 전처리\n",
        "---\n",
        "train 은 interpolate() 를 이용해 결측치를 DataFrame 값에 선형으로 비례하여 보간합니다.\n",
        "test 의 결측치는 0으로 채워줍니다."
      ]
    },
    {
      "cell_type": "code",
      "metadata": {
        "id": "H2K-UbwAkuJ6"
      },
      "source": [
        "train.interpolate(inplace=True)\n",
        "test.fillna(0, inplace=True)"
      ],
      "execution_count": 32,
      "outputs": []
    },
    {
      "cell_type": "code",
      "source": [
        "list(train.columns)\n",
        "list(test.columns)"
      ],
      "metadata": {
        "id": "iiMbxQI1TD2V",
        "outputId": "180466c3-9233-4346-d307-8a1741194d2d",
        "colab": {
          "base_uri": "https://localhost:8080/"
        }
      },
      "execution_count": 33,
      "outputs": [
        {
          "output_type": "execute_result",
          "data": {
            "text/plain": [
              "['id',\n",
              " 'hour',\n",
              " 'hour_bef_temperature',\n",
              " 'hour_bef_precipitation',\n",
              " 'hour_bef_windspeed',\n",
              " 'hour_bef_humidity',\n",
              " 'hour_bef_visibility',\n",
              " 'hour_bef_ozone',\n",
              " 'hour_bef_pm10',\n",
              " 'hour_bef_pm2.5']"
            ]
          },
          "metadata": {},
          "execution_count": 33
        }
      ]
    },
    {
      "cell_type": "code",
      "metadata": {
        "id": "ZOHdV_UjJ-Y9"
      },
      "source": [
        "# 앞 과정에서 파악된 변수 중요도가 낮은 피쳐드를 제거합니다.\n",
        "\n",
        "X_train = train.drop(['count', 'id'], axis=1)\n",
        "Y_train = train['count']\n",
        "test = test.drop(['id'], axis=1)"
      ],
      "execution_count": 34,
      "outputs": []
    },
    {
      "cell_type": "code",
      "source": [
        "'''\n",
        "#코랩 데이터 다운로드\n",
        "!wget 'https://bit.ly/3gLj0Q6'\n",
        "\n",
        "import zipfile\n",
        "with zipfile.ZipFile('3gLj0Q6', 'r') as existing_zip:\n",
        "    existing_zip.extractall('data')\n",
        "\n",
        "#라이브러리\n",
        "import pandas as pd\n",
        "from sklearn.ensemble import RandomForestRegressor\n",
        "\n",
        "#데이터 불러오기\n",
        "train = pd.read_csv('data/train.csv') \n",
        "test = pd.read_csv('data/test.csv')\n",
        "\n",
        "#전처리(다른버전)\n",
        "train.interpolate(inplace=True)\n",
        "test.interpolate(inplace=True) #다른 버전test.fillna(0, inplace=True)\n",
        "'''"
      ],
      "metadata": {
        "id": "OawSamCRSdNV",
        "outputId": "e1f93539-03d9-431a-a033-2b214aa47b4f",
        "colab": {
          "base_uri": "https://localhost:8080/",
          "height": 72
        }
      },
      "execution_count": 35,
      "outputs": [
        {
          "output_type": "execute_result",
          "data": {
            "text/plain": [
              "\"\\n#코랩 데이터 다운로드\\n!wget 'https://bit.ly/3gLj0Q6'\\n\\nimport zipfile\\nwith zipfile.ZipFile('3gLj0Q6', 'r') as existing_zip:\\n    existing_zip.extractall('data')\\n\\n#라이브러리\\nimport pandas as pd\\nfrom sklearn.ensemble import RandomForestRegressor\\n\\n#데이터 불러오기\\ntrain = pd.read_csv('data/train.csv') \\ntest = pd.read_csv('data/test.csv')\\n\\n#전처리(다른버전)\\ntrain.interpolate(inplace=True)\\ntest.interpolate(inplace=True) #다른 버전test.fillna(0, inplace=True)\\n\""
            ],
            "application/vnd.google.colaboratory.intrinsic+json": {
              "type": "string"
            }
          },
          "metadata": {},
          "execution_count": 35
        }
      ]
    },
    {
      "cell_type": "markdown",
      "metadata": {
        "id": "ZksEbPou52yW"
      },
      "source": [
        "## 👋 실습\n",
        "---"
      ]
    },
    {
      "cell_type": "code",
      "metadata": {
        "id": "86ldFLXsk2GZ"
      },
      "source": [
        "from sklearn.model_selection import GridSearchCV\n",
        "# X_train 에서 drop 할 피쳐의 경우에 수 대로 3개의 X_train 을 생성하세요.\n",
        "# 각 train 에 따라 동일하게 피쳐를 drop 한 test 셋들을 생성하세요.\n",
        "X_train2 = X_train.drop(columns=\"hour_bef_precipitation\", axis =1)\n",
        "test_dropped_col2 = test.drop(columns=\"hour_bef_precipitation\", axis =1)"
      ],
      "execution_count": 36,
      "outputs": []
    },
    {
      "cell_type": "code",
      "source": [
        "X_train3 = X_train2.drop(columns=\"hour_bef_pm2.5\", axis =1)\n",
        "test_dropped_col3 = test_dropped_col2.drop(columns=\"hour_bef_pm2.5\", axis =1)"
      ],
      "metadata": {
        "id": "pG32W3bLTSJp"
      },
      "execution_count": 37,
      "outputs": []
    },
    {
      "cell_type": "code",
      "source": [
        "X_train4 = X_train3.drop(columns= \"hour_bef_windspeed\", axis =1)\n",
        "test_dropped_col4 = test_dropped_col3.drop(columns= \"hour_bef_windspeed\", axis =1)"
      ],
      "metadata": {
        "id": "NuSWbOWATT9F"
      },
      "execution_count": 38,
      "outputs": []
    },
    {
      "cell_type": "code",
      "metadata": {
        "id": "Dx1Bnx_c2nJy",
        "outputId": "f5ea5f74-c2ae-49f6-a129-40e387cc1160",
        "colab": {
          "base_uri": "https://localhost:8080/"
        }
      },
      "source": [
        "# 각 X_train에 대해 모델 훈련을 해주세요.\n",
        "model1 = RandomForestRegressor(criterion = 'mse', random_state = 0 )\n",
        "#model1.fit(X_train, Y_train)\n",
        "#pred1 = model1.predict(test)\n",
        "\n",
        "params = {'n_estimators': [200, 300, 500],\n",
        "          'max_features': [5, 6, 8],\n",
        "          'min_samples_leaf': [1, 3, 5]}\n",
        "\n",
        "greedy_CV1 = GridSearchCV(model1, param_grid=params, cv = 3, n_jobs = -1)\n",
        "greedy_CV1.fit(X_train, Y_train)\n",
        "\n",
        "pred1 = greedy_CV1.predict(test)"
      ],
      "execution_count": 39,
      "outputs": [
        {
          "output_type": "stream",
          "name": "stderr",
          "text": [
            "/usr/local/lib/python3.7/dist-packages/sklearn/ensemble/_forest.py:400: FutureWarning: Criterion 'mse' was deprecated in v1.0 and will be removed in version 1.2. Use `criterion='squared_error'` which is equivalent.\n",
            "  FutureWarning,\n"
          ]
        }
      ]
    },
    {
      "cell_type": "code",
      "source": [
        "model2 = RandomForestRegressor(criterion = 'mse', random_state = 0 )\n",
        "#model2.fit(X_train2, Y_train)\n",
        "#pred2 = model2.predict(test_dropped_col2)\n",
        "\n",
        "greedy_CV2 = GridSearchCV(model2, param_grid=params, cv = 3, n_jobs = -1)\n",
        "greedy_CV2.fit(X_train2, Y_train)\n",
        "\n",
        "pred2 = greedy_CV2.predict(test_dropped_col2)"
      ],
      "metadata": {
        "id": "wuEDkKOMUCSX",
        "outputId": "54cfed38-973e-465b-bae5-d06da0afd99f",
        "colab": {
          "base_uri": "https://localhost:8080/"
        }
      },
      "execution_count": 40,
      "outputs": [
        {
          "output_type": "stream",
          "name": "stderr",
          "text": [
            "/usr/local/lib/python3.7/dist-packages/sklearn/ensemble/_forest.py:400: FutureWarning: Criterion 'mse' was deprecated in v1.0 and will be removed in version 1.2. Use `criterion='squared_error'` which is equivalent.\n",
            "  FutureWarning,\n"
          ]
        }
      ]
    },
    {
      "cell_type": "code",
      "source": [
        "model3 = RandomForestRegressor(criterion = 'mse', random_state = 0 )\n",
        "#model3.fit(X_train3, Y_train)\n",
        "#pred3 = model3.predict(test_dropped_col3)\n",
        "\n",
        "greedy_CV3 = GridSearchCV(model3, param_grid=params, cv = 3, n_jobs = -1)\n",
        "greedy_CV3.fit(X_train3, Y_train)\n",
        "\n",
        "pred3 = greedy_CV3.predict(test_dropped_col3)"
      ],
      "metadata": {
        "id": "UL53P6VNVjg0",
        "outputId": "a72eb449-76eb-4a27-cbf6-259546a4d3a4",
        "colab": {
          "base_uri": "https://localhost:8080/"
        }
      },
      "execution_count": 41,
      "outputs": [
        {
          "output_type": "stream",
          "name": "stderr",
          "text": [
            "/usr/local/lib/python3.7/dist-packages/sklearn/model_selection/_validation.py:372: FitFailedWarning: \n",
            "27 fits failed out of a total of 81.\n",
            "The score on these train-test partitions for these parameters will be set to nan.\n",
            "If these failures are not expected, you can try to debug them by setting error_score='raise'.\n",
            "\n",
            "Below are more details about the failures:\n",
            "--------------------------------------------------------------------------------\n",
            "27 fits failed with the following error:\n",
            "Traceback (most recent call last):\n",
            "  File \"/usr/local/lib/python3.7/dist-packages/sklearn/model_selection/_validation.py\", line 680, in _fit_and_score\n",
            "    estimator.fit(X_train, y_train, **fit_params)\n",
            "  File \"/usr/local/lib/python3.7/dist-packages/sklearn/ensemble/_forest.py\", line 467, in fit\n",
            "    for i, t in enumerate(trees)\n",
            "  File \"/usr/local/lib/python3.7/dist-packages/joblib/parallel.py\", line 1043, in __call__\n",
            "    if self.dispatch_one_batch(iterator):\n",
            "  File \"/usr/local/lib/python3.7/dist-packages/joblib/parallel.py\", line 861, in dispatch_one_batch\n",
            "    self._dispatch(tasks)\n",
            "  File \"/usr/local/lib/python3.7/dist-packages/joblib/parallel.py\", line 779, in _dispatch\n",
            "    job = self._backend.apply_async(batch, callback=cb)\n",
            "  File \"/usr/local/lib/python3.7/dist-packages/joblib/_parallel_backends.py\", line 208, in apply_async\n",
            "    result = ImmediateResult(func)\n",
            "  File \"/usr/local/lib/python3.7/dist-packages/joblib/_parallel_backends.py\", line 572, in __init__\n",
            "    self.results = batch()\n",
            "  File \"/usr/local/lib/python3.7/dist-packages/joblib/parallel.py\", line 263, in __call__\n",
            "    for func, args, kwargs in self.items]\n",
            "  File \"/usr/local/lib/python3.7/dist-packages/joblib/parallel.py\", line 263, in <listcomp>\n",
            "    for func, args, kwargs in self.items]\n",
            "  File \"/usr/local/lib/python3.7/dist-packages/sklearn/utils/fixes.py\", line 216, in __call__\n",
            "    return self.function(*args, **kwargs)\n",
            "  File \"/usr/local/lib/python3.7/dist-packages/sklearn/ensemble/_forest.py\", line 185, in _parallel_build_trees\n",
            "    tree.fit(X, y, sample_weight=curr_sample_weight, check_input=False)\n",
            "  File \"/usr/local/lib/python3.7/dist-packages/sklearn/tree/_classes.py\", line 1320, in fit\n",
            "    X_idx_sorted=X_idx_sorted,\n",
            "  File \"/usr/local/lib/python3.7/dist-packages/sklearn/tree/_classes.py\", line 308, in fit\n",
            "    raise ValueError(\"max_features must be in (0, n_features]\")\n",
            "ValueError: max_features must be in (0, n_features]\n",
            "\n",
            "  warnings.warn(some_fits_failed_message, FitFailedWarning)\n",
            "/usr/local/lib/python3.7/dist-packages/sklearn/model_selection/_search.py:972: UserWarning: One or more of the test scores are non-finite: [0.75489687 0.75705602 0.75782217 0.75344351 0.75392131 0.75315312\n",
            " 0.74428159 0.74545885 0.7463027  0.75625325 0.75836683 0.75823005\n",
            " 0.75337229 0.75519247 0.75562663 0.74880411 0.74934236 0.74887455\n",
            "        nan        nan        nan        nan        nan        nan\n",
            "        nan        nan        nan]\n",
            "  category=UserWarning,\n",
            "/usr/local/lib/python3.7/dist-packages/sklearn/ensemble/_forest.py:400: FutureWarning: Criterion 'mse' was deprecated in v1.0 and will be removed in version 1.2. Use `criterion='squared_error'` which is equivalent.\n",
            "  FutureWarning,\n"
          ]
        }
      ]
    },
    {
      "cell_type": "code",
      "source": [
        "model4 = RandomForestRegressor(criterion = 'mse', random_state = 0 )\n",
        "#model4.fit(X_train4, Y_train)\n",
        "#pred4 = model4.predict(test_dropped_col4)\n",
        "\n",
        "greedy_CV4 = GridSearchCV(model4, param_grid=params, cv = 3, n_jobs = -1)\n",
        "greedy_CV4.fit(X_train4, Y_train)\n",
        "\n",
        "pred4 = greedy_CV4.predict(test_dropped_col4)"
      ],
      "metadata": {
        "id": "xFkYPA1ZVjrE",
        "outputId": "d249f264-4b97-4d62-87d9-ff974adb1829",
        "colab": {
          "base_uri": "https://localhost:8080/"
        }
      },
      "execution_count": 42,
      "outputs": [
        {
          "output_type": "stream",
          "name": "stderr",
          "text": [
            "/usr/local/lib/python3.7/dist-packages/sklearn/model_selection/_validation.py:372: FitFailedWarning: \n",
            "27 fits failed out of a total of 81.\n",
            "The score on these train-test partitions for these parameters will be set to nan.\n",
            "If these failures are not expected, you can try to debug them by setting error_score='raise'.\n",
            "\n",
            "Below are more details about the failures:\n",
            "--------------------------------------------------------------------------------\n",
            "27 fits failed with the following error:\n",
            "Traceback (most recent call last):\n",
            "  File \"/usr/local/lib/python3.7/dist-packages/sklearn/model_selection/_validation.py\", line 680, in _fit_and_score\n",
            "    estimator.fit(X_train, y_train, **fit_params)\n",
            "  File \"/usr/local/lib/python3.7/dist-packages/sklearn/ensemble/_forest.py\", line 467, in fit\n",
            "    for i, t in enumerate(trees)\n",
            "  File \"/usr/local/lib/python3.7/dist-packages/joblib/parallel.py\", line 1043, in __call__\n",
            "    if self.dispatch_one_batch(iterator):\n",
            "  File \"/usr/local/lib/python3.7/dist-packages/joblib/parallel.py\", line 861, in dispatch_one_batch\n",
            "    self._dispatch(tasks)\n",
            "  File \"/usr/local/lib/python3.7/dist-packages/joblib/parallel.py\", line 779, in _dispatch\n",
            "    job = self._backend.apply_async(batch, callback=cb)\n",
            "  File \"/usr/local/lib/python3.7/dist-packages/joblib/_parallel_backends.py\", line 208, in apply_async\n",
            "    result = ImmediateResult(func)\n",
            "  File \"/usr/local/lib/python3.7/dist-packages/joblib/_parallel_backends.py\", line 572, in __init__\n",
            "    self.results = batch()\n",
            "  File \"/usr/local/lib/python3.7/dist-packages/joblib/parallel.py\", line 263, in __call__\n",
            "    for func, args, kwargs in self.items]\n",
            "  File \"/usr/local/lib/python3.7/dist-packages/joblib/parallel.py\", line 263, in <listcomp>\n",
            "    for func, args, kwargs in self.items]\n",
            "  File \"/usr/local/lib/python3.7/dist-packages/sklearn/utils/fixes.py\", line 216, in __call__\n",
            "    return self.function(*args, **kwargs)\n",
            "  File \"/usr/local/lib/python3.7/dist-packages/sklearn/ensemble/_forest.py\", line 185, in _parallel_build_trees\n",
            "    tree.fit(X, y, sample_weight=curr_sample_weight, check_input=False)\n",
            "  File \"/usr/local/lib/python3.7/dist-packages/sklearn/tree/_classes.py\", line 1320, in fit\n",
            "    X_idx_sorted=X_idx_sorted,\n",
            "  File \"/usr/local/lib/python3.7/dist-packages/sklearn/tree/_classes.py\", line 308, in fit\n",
            "    raise ValueError(\"max_features must be in (0, n_features]\")\n",
            "ValueError: max_features must be in (0, n_features]\n",
            "\n",
            "  warnings.warn(some_fits_failed_message, FitFailedWarning)\n",
            "/usr/local/lib/python3.7/dist-packages/sklearn/model_selection/_search.py:972: UserWarning: One or more of the test scores are non-finite: [0.76106868 0.76168718 0.76100729 0.75867182 0.75928902 0.75894119\n",
            " 0.75108863 0.75044352 0.75076283 0.75992466 0.76046298 0.7614443\n",
            " 0.75840836 0.75886695 0.75946588 0.75191296 0.7522471  0.75263614\n",
            "        nan        nan        nan        nan        nan        nan\n",
            "        nan        nan        nan]\n",
            "  category=UserWarning,\n",
            "/usr/local/lib/python3.7/dist-packages/sklearn/ensemble/_forest.py:400: FutureWarning: Criterion 'mse' was deprecated in v1.0 and will be removed in version 1.2. Use `criterion='squared_error'` which is equivalent.\n",
            "  FutureWarning,\n"
          ]
        }
      ]
    },
    {
      "cell_type": "code",
      "source": [
        "'''\n",
        "from sklearn.tree import DecisionTreeClassifier\n",
        "\n",
        "model5 = DecisionTreeClassifier(criterion = 'mse', random_state = 0 )\n",
        "#model5.fit(X_train, Y_train)\n",
        "#pred5 = model1.predict(test)\n",
        "\n",
        "greedy_CV5 = GridSearchCV(model5, param_grid=params, cv = 3, n_jobs = -1)\n",
        "greedy_CV5.fit(X_train, Y_train)\n",
        "\n",
        "pred5 = greedy_CV5.predict(test)\n",
        "'''"
      ],
      "metadata": {
        "id": "Rv_robMqUyZM",
        "outputId": "ebd42e41-0171-41c9-993c-8b0768df3e5c",
        "colab": {
          "base_uri": "https://localhost:8080/",
          "height": 54
        }
      },
      "execution_count": 43,
      "outputs": [
        {
          "output_type": "execute_result",
          "data": {
            "text/plain": [
              "\"\\nfrom sklearn.tree import DecisionTreeClassifier\\n\\nmodel5 = DecisionTreeClassifier(criterion = 'mse', random_state = 0 )\\n#model5.fit(X_train, Y_train)\\n#pred5 = model1.predict(test)\\n\\ngreedy_CV5 = GridSearchCV(model5, param_grid=params, cv = 3, n_jobs = -1)\\ngreedy_CV5.fit(X_train, Y_train)\\n\\npred5 = greedy_CV5.predict(test)\\n\""
            ],
            "application/vnd.google.colaboratory.intrinsic+json": {
              "type": "string"
            }
          },
          "metadata": {},
          "execution_count": 43
        }
      ]
    },
    {
      "cell_type": "code",
      "source": [
        "'''\n",
        "model6 = DecisionTreeClassifier(criterion = 'mse', random_state = 0 )\n",
        "#model6.fit(X_train2, Y_train)\n",
        "#pred6 = model2.predict(test_dropped_col2)\n",
        "\n",
        "greedy_CV6 = GridSearchCV(model6, param_grid=params, cv = 3, n_jobs = -1)\n",
        "greedy_CV6.fit(X_train2, Y_train)\n",
        "\n",
        "pred6 = greedy_CV6.predict(test_dropped_col2)\n",
        "'''"
      ],
      "metadata": {
        "id": "vLkm1iYkWF_c",
        "outputId": "f63b7232-0b12-420a-d8d2-8b18b5b07c84",
        "colab": {
          "base_uri": "https://localhost:8080/",
          "height": 54
        }
      },
      "execution_count": 44,
      "outputs": [
        {
          "output_type": "execute_result",
          "data": {
            "text/plain": [
              "\"\\nmodel6 = DecisionTreeClassifier(criterion = 'mse', random_state = 0 )\\n#model6.fit(X_train2, Y_train)\\n#pred6 = model2.predict(test_dropped_col2)\\n\\ngreedy_CV6 = GridSearchCV(model6, param_grid=params, cv = 3, n_jobs = -1)\\ngreedy_CV6.fit(X_train2, Y_train)\\n\\npred6 = greedy_CV6.predict(test_dropped_col2)\\n\""
            ],
            "application/vnd.google.colaboratory.intrinsic+json": {
              "type": "string"
            }
          },
          "metadata": {},
          "execution_count": 44
        }
      ]
    },
    {
      "cell_type": "code",
      "source": [
        "'''\n",
        "model7 = DecisionTreeClassifier(criterion = 'mse', random_state = 0 )\n",
        "#model7.fit(X_train3, Y_train)\n",
        "#pred7 = model3.predict(test_dropped_col3)\n",
        "\n",
        "greedy_CV7 = GridSearchCV(model7, param_grid=params, cv = 3, n_jobs = -1)\n",
        "greedy_CV7.fit(X_train3, Y_train)\n",
        "\n",
        "pred7 = greedy_CV7.predict(test_dropped_col3)\n",
        "'''"
      ],
      "metadata": {
        "id": "JX5UU2zVWGJD",
        "outputId": "e156e5aa-2bf3-48cc-ea74-3f13ec6ee374",
        "colab": {
          "base_uri": "https://localhost:8080/",
          "height": 54
        }
      },
      "execution_count": 45,
      "outputs": [
        {
          "output_type": "execute_result",
          "data": {
            "text/plain": [
              "\"\\nmodel7 = DecisionTreeClassifier(criterion = 'mse', random_state = 0 )\\n#model7.fit(X_train3, Y_train)\\n#pred7 = model3.predict(test_dropped_col3)\\n\\ngreedy_CV7 = GridSearchCV(model7, param_grid=params, cv = 3, n_jobs = -1)\\ngreedy_CV7.fit(X_train3, Y_train)\\n\\npred7 = greedy_CV7.predict(test_dropped_col3)\\n\""
            ],
            "application/vnd.google.colaboratory.intrinsic+json": {
              "type": "string"
            }
          },
          "metadata": {},
          "execution_count": 45
        }
      ]
    },
    {
      "cell_type": "code",
      "source": [
        "'''\n",
        "model8 = RandomForestRegressor(criterion = 'mse', random_state = 0 )\n",
        "#model8.fit(X_train4, Y_train)\n",
        "#pred8 = model4.predict(test_dropped_col4)\n",
        "\n",
        "greedy_CV8 = GridSearchCV(model4, param_grid=params, cv = 3, n_jobs = -1)\n",
        "greedy_CV8.fit(X_train8, Y_train)\n",
        "\n",
        "pred8 = greedy_CV8.predict(test_dropped_col4)\n",
        "'''"
      ],
      "metadata": {
        "id": "hMwLOqeiWGSr",
        "outputId": "8aa2362b-a6e3-416f-a2e6-2ad71b369302",
        "colab": {
          "base_uri": "https://localhost:8080/",
          "height": 54
        }
      },
      "execution_count": 46,
      "outputs": [
        {
          "output_type": "execute_result",
          "data": {
            "text/plain": [
              "\"\\nmodel8 = RandomForestRegressor(criterion = 'mse', random_state = 0 )\\n#model8.fit(X_train4, Y_train)\\n#pred8 = model4.predict(test_dropped_col4)\\n\\ngreedy_CV8 = GridSearchCV(model4, param_grid=params, cv = 3, n_jobs = -1)\\ngreedy_CV8.fit(X_train8, Y_train)\\n\\npred8 = greedy_CV8.predict(test_dropped_col4)\\n\""
            ],
            "application/vnd.google.colaboratory.intrinsic+json": {
              "type": "string"
            }
          },
          "metadata": {},
          "execution_count": 46
        }
      ]
    },
    {
      "cell_type": "code",
      "metadata": {
        "id": "zRXoXsF13pK7"
      },
      "source": [
        "# 각 모델로 test 셋들을 예측해주세요.\n"
      ],
      "execution_count": 47,
      "outputs": []
    },
    {
      "cell_type": "code",
      "metadata": {
        "id": "dYyBlm3d3vNw",
        "outputId": "55588850-7d4a-4b6c-f8c3-4bdd084542fe",
        "colab": {
          "base_uri": "https://localhost:8080/",
          "height": 35
        }
      },
      "source": [
        "# 각 결과들을 submission 파일로 저장해주세요.\n",
        "submission_1 = pd.read_csv('data/submission.csv')\n",
        "submission_2 = pd.read_csv('data/submission.csv')\n",
        "submission_3 = pd.read_csv('data/submission.csv')\n",
        "submission_4 = pd.read_csv('data/submission.csv')\n",
        "\n",
        "submission_1['count'] = pred1\n",
        "submission_2['count'] = pred2\n",
        "submission_3['count'] = pred3\n",
        "submission_4['count'] = pred4\n",
        "'''\n",
        "submission_5['count'] = pred5\n",
        "submission_6['count'] = pred6\n",
        "submission_7['count'] = pred7\n",
        "submission_8['count'] = pred8\n",
        "'''\n",
        "submission_1.to_csv('sub_11.csv',index=False)\n",
        "submission_2.to_csv('sub_12.csv',index=False)\n",
        "submission_3.to_csv('sub_13.csv',index=False)\n",
        "submission_4.to_csv('sub_14.csv',index=False)\n",
        "'''\n",
        "submission_5.to_csv('sub_15.csv',index=False)\n",
        "submission_6.to_csv('sub_16.csv',index=False)\n",
        "submission_7.to_csv('sub_17.csv',index=False)\n",
        "submission_8.to_csv('sub_18.csv',index=False)\n",
        "'''"
      ],
      "execution_count": 48,
      "outputs": [
        {
          "output_type": "execute_result",
          "data": {
            "text/plain": [
              "\"\\nsubmission_5.to_csv('sub_15.csv',index=False)\\nsubmission_6.to_csv('sub_16.csv',index=False)\\nsubmission_7.to_csv('sub_17.csv',index=False)\\nsubmission_8.to_csv('sub_18.csv',index=False)\\n\""
            ],
            "application/vnd.google.colaboratory.intrinsic+json": {
              "type": "string"
            }
          },
          "metadata": {},
          "execution_count": 48
        }
      ]
    },
    {
      "cell_type": "markdown",
      "metadata": {
        "id": "J1Is2vFL4cxY"
      },
      "source": [
        "## 정답\n",
        "---"
      ]
    },
    {
      "cell_type": "code",
      "metadata": {
        "id": "rGbL9SKEPrnk",
        "outputId": "d63cb993-33a0-4bd8-fd6d-aeef91206f71",
        "colab": {
          "base_uri": "https://localhost:8080/",
          "height": 72
        }
      },
      "source": [
        "'''\n",
        "from sklearn.model_selection import GridSearchCV\n",
        "\n",
        "model = RandomForestRegressor(criterion = 'mse', random_state=2020)\n",
        "\n",
        "params = {'n_estimators': [200, 300, 500],\n",
        "          'max_features': [5, 6, 8],\n",
        "          'min_samples_leaf': [1, 3, 5]}\n",
        "\n",
        "greedy_CV = GridSearchCV(model, param_grid=params, cv = 3, n_jobs = -1)\n",
        "greedy_CV.fit(X_train, Y_train)\n",
        "\n",
        "pred = greedy_CV.predict(test)\n",
        "\n",
        "pred\n",
        "\n",
        "submission = pd.read_csv('data/submission.csv')\n",
        "\n",
        "import numpy as np\n",
        "\n",
        "submission['count'] = np.round(pred, 2)\n",
        "\n",
        "submission.head()\n",
        "\n",
        "submission.to_csv('sub.csv',index=False)\n",
        "'''"
      ],
      "execution_count": 49,
      "outputs": [
        {
          "output_type": "execute_result",
          "data": {
            "text/plain": [
              "\"\\nfrom sklearn.model_selection import GridSearchCV\\n\\nmodel = RandomForestRegressor(criterion = 'mse', random_state=2020)\\n\\nparams = {'n_estimators': [200, 300, 500],\\n          'max_features': [5, 6, 8],\\n          'min_samples_leaf': [1, 3, 5]}\\n\\ngreedy_CV = GridSearchCV(model, param_grid=params, cv = 3, n_jobs = -1)\\ngreedy_CV.fit(X_train, Y_train)\\n\\npred = greedy_CV.predict(test)\\n\\npred\\n\\nsubmission = pd.read_csv('data/submission.csv')\\n\\nimport numpy as np\\n\\nsubmission['count'] = np.round(pred, 2)\\n\\nsubmission.head()\\n\\nsubmission.to_csv('sub.csv',index=False)\\n\""
            ],
            "application/vnd.google.colaboratory.intrinsic+json": {
              "type": "string"
            }
          },
          "metadata": {},
          "execution_count": 49
        }
      ]
    },
    {
      "cell_type": "code",
      "metadata": {
        "id": "XQZhCUCap4mD"
      },
      "source": [
        "#pred = greedy_CV.predict(test)"
      ],
      "execution_count": 50,
      "outputs": []
    },
    {
      "cell_type": "code",
      "metadata": {
        "id": "xFiASiJ_dw-j"
      },
      "source": [
        "#pred"
      ],
      "execution_count": 51,
      "outputs": []
    },
    {
      "cell_type": "code",
      "metadata": {
        "id": "oFlh7313va1X"
      },
      "source": [
        "#submission = pd.read_csv('data/submission.csv')"
      ],
      "execution_count": 52,
      "outputs": []
    },
    {
      "cell_type": "code",
      "metadata": {
        "id": "ElGClyMRYHSk"
      },
      "source": [
        "import numpy as np\n",
        "\n",
        "#submission['count'] = np.round(pred, 2)"
      ],
      "execution_count": 53,
      "outputs": []
    },
    {
      "cell_type": "code",
      "metadata": {
        "id": "TTCEA0tTYt2-"
      },
      "source": [
        "#submission.head()"
      ],
      "execution_count": 54,
      "outputs": []
    },
    {
      "cell_type": "code",
      "metadata": {
        "id": "Anbnh4vuYHCP"
      },
      "source": [
        "#submission.to_csv('sub.csv',index=False)"
      ],
      "execution_count": 55,
      "outputs": []
    },
    {
      "cell_type": "markdown",
      "metadata": {
        "id": "K8YgC54VtiB7"
      },
      "source": [
        "# [↩️ 리스트로 돌아가기](https://dacon.io/competitions/open/235698/overview/description)"
      ]
    }
  ]
}