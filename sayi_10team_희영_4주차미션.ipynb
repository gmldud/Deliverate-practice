{
  "nbformat": 4,
  "nbformat_minor": 0,
  "metadata": {
    "colab": {
      "name": "sayi_10team_희영_4주차미션.ipynb",
      "provenance": [],
      "authorship_tag": "ABX9TyPfyhp1lt7lxgzWvLpvmncn",
      "include_colab_link": true
    },
    "kernelspec": {
      "name": "python3",
      "display_name": "Python 3"
    },
    "language_info": {
      "name": "python"
    }
  },
  "cells": [
    {
      "cell_type": "markdown",
      "metadata": {
        "id": "view-in-github",
        "colab_type": "text"
      },
      "source": [
        "<a href=\"https://colab.research.google.com/github/gmldud/Deliverate_Practice/blob/main/sayi_10team_%ED%9D%AC%EC%98%81_4%EC%A3%BC%EC%B0%A8%EB%AF%B8%EC%85%98.ipynb\" target=\"_parent\"><img src=\"https://colab.research.google.com/assets/colab-badge.svg\" alt=\"Open In Colab\"/></a>"
      ]
    },
    {
      "cell_type": "markdown",
      "source": [
        "# 👩🏻‍💻👩🏻‍💻👩🏻‍💻 답안 코드"
      ],
      "metadata": {
        "id": "3YewIedp7SBA"
      }
    },
    {
      "cell_type": "markdown",
      "source": [
        "### 🔥🔥🔥 Q1 정답 코드"
      ],
      "metadata": {
        "id": "h7BV5fdX64_u"
      }
    },
    {
      "cell_type": "code",
      "source": [
        "def make_comma(number):\n",
        "  print(f\"{number:,}\")"
      ],
      "metadata": {
        "id": "i0XFUv8Z64_v"
      },
      "execution_count": null,
      "outputs": []
    },
    {
      "cell_type": "code",
      "source": [
        "make_comma(20000000000)"
      ],
      "metadata": {
        "colab": {
          "base_uri": "https://localhost:8080/"
        },
        "outputId": "96b2bb03-ac11-4c2c-c43c-f19386289485",
        "id": "3yYpwVAs64_v"
      },
      "execution_count": null,
      "outputs": [
        {
          "output_type": "stream",
          "name": "stdout",
          "text": [
            "20,000,000,000\n"
          ]
        }
      ]
    },
    {
      "cell_type": "markdown",
      "source": [
        "### 🔥🔥🔥 Q2 정답 코드"
      ],
      "metadata": {
        "id": "fD0ldY2v7CUY"
      }
    },
    {
      "cell_type": "code",
      "source": [
        "def count_word(sentences, word):\n",
        "  word_counting = sentences.count(word)\n",
        "\n",
        "  print(word_counting)\n",
        "\n",
        "#----------------------------------------------\n",
        "\n",
        "sentences ='''\n",
        "어제보다 더 ‘좋은 문장을 쓰고 싶은’ 당신을 위한,\n",
        "알아두면 쓸모 있는 교열 전문기자의 우리말 맞춤법 이야기\n",
        "\n",
        "누구나 작가가 될 수 있는 시대, 하루 종일 무언가를 읽고 쓰는 시대, 지금이야말로 ‘좋은’ 문장이 필요한 때다. 이 책은 조금 더 나은 문장을 쓰고 싶은 당신에게 전하는 우리말 맞춤법 이야기이다. 이 책을 쓴 교열기자 이진원은 2010년부터 11년째 부산일보 교열부 데스크(교열팀장, 교열부장)를 맡고 있고, 2003년부터 맞춤법 칼럼 ‘바른말 광’을 매주 연재하고 있다. 이번 책에서는 그간 연재한 칼럼 870여 편 중에서도 ‘좋은 문장’을 쓰는 방법에 주목하여 원고를 선별해 엮었다. 교열기자 일을 하며 만났던 문장들을 예시로 들며 일상에서 틀리기 쉬운 맞춤법을 설명한다. 많은 사람은 생각한다. ‘‘한글 맞춤법’은 왜 이렇게 복잡하고 어려운 걸까?’ 이에 『좋은 문장을 쓰고 싶다면』의 저자는 ‘한국말은 어렵다’는 생각은 ‘잘 모르기 때문에’ 생기는 선입견이라고 답한다. 원리를 깨친다면 높게만 느껴지는 맞춤법의 벽도 이전에 비해 편하게 넘을 수 있다며, 올바른 글쓰기의 세계로 독자들을 인도한다.\n",
        "'''\n",
        "\n",
        "count_word(sentences,\"한다\")"
      ],
      "metadata": {
        "colab": {
          "base_uri": "https://localhost:8080/"
        },
        "id": "0lJhWb5G7CUb",
        "outputId": "53e35e43-6428-428e-b10f-3eaa9a45a901"
      },
      "execution_count": null,
      "outputs": [
        {
          "output_type": "stream",
          "name": "stdout",
          "text": [
            "4\n"
          ]
        }
      ]
    },
    {
      "cell_type": "markdown",
      "source": [
        "###🔥🔥🔥 Q3 정답 코드"
      ],
      "metadata": {
        "id": "-eTc5Y3baupo"
      }
    },
    {
      "cell_type": "code",
      "source": [
        "import re\n",
        "\n",
        "guest_book = \"\"\"김갑,123456789\n",
        "이을,010-1234-5678\n",
        "박병,010-5678-111\n",
        "최정,111-1111-1111\n",
        "정무,010-3333-3333\"\"\"\n",
        "\n",
        "def wrong_guest_book(guest_book) :\n",
        "  guest_book = re.split(\"\\n\", guest_book)\n",
        "  for x in guest_book:\n",
        "    if x[3:6] != \"010\" or x[3:].count(\"-\") != 2 or len(x[3:]) != 13:\n",
        "      n1 = \"\\n\"\n",
        "      print(f\"잘못 쓴 사람 : {x[0:2]}{n1}잘못 쓴 번호 : {x[3:]}{n1}\")\n",
        "\n",
        "\n",
        "wrong_guest_book(guest_book)"
      ],
      "metadata": {
        "colab": {
          "base_uri": "https://localhost:8080/"
        },
        "outputId": "992af693-d2cb-46ce-a4c3-54e2fce4e84a",
        "id": "akvfBvP7a6yK"
      },
      "execution_count": 4,
      "outputs": [
        {
          "output_type": "stream",
          "name": "stdout",
          "text": [
            "잘못 쓴 사람 : 김갑\n",
            "잘못 쓴 번호 : 123456789\n",
            "\n",
            "잘못 쓴 사람 : 박병\n",
            "잘못 쓴 번호 : 010-5678-111\n",
            "\n",
            "잘못 쓴 사람 : 최정\n",
            "잘못 쓴 번호 : 111-1111-1111\n",
            "\n"
          ]
        }
      ]
    },
    {
      "cell_type": "markdown",
      "source": [
        "### 🔥🔥🔥 Q4 정답 코드"
      ],
      "metadata": {
        "id": "dCtrIfepRN4M"
      }
    },
    {
      "cell_type": "code",
      "source": [
        "# 주민등록번호는 6자리 이후에 -로 구분되어야 하고 길이는 -포함 14임\n",
        "# 뒷자리는 1,3 은 남자 2,4는 여자\n",
        "# 00 ~ 21로 시작할 경우 2000년 이후 출생자인지 물어 볼 것 (맞으면 o 틀리면 x)\n",
        "# 뒷자리 3, 4를 가질 수 있는 사람은 00년생 이후 출생자 밖에 없음\n",
        "\n",
        "###주민등록번호 조건을 만족하지 않는 수가 입력되면 \"잘못된 번호입니다\"를 출력해주세요.\n",
        "#----------------------------------------------------------------------------------------------\n",
        "\n",
        "# 주민번호가 string 타입인 것 주의\n",
        "'''#여기서 if 문이 왜 돌아가는지 헷갈렸음 <- 이 문구 확인''' \n",
        "\n",
        "def check_id(id) :\n",
        "  if id[6] == \"-\" and id[0:7].count(\"-\") ==1 and len(id) == 14:                         \n",
        "  # (주민번호 정상 여부 확인) 6번째에 \"-\"을 포함하고, \"-\"는 한번만 쓰였으며, 길이가 14자인 번호 \n",
        "\n",
        "      n1 = \"\\n\"\n",
        "\n",
        "      if int(id[0:2]) >=22 and int(id[0:2]) <= 99:\n",
        "        if id[7] == \"1\" :                                                                 \n",
        "          print(f\"{id[0:2]}년생 {id[2:4]}월 남자{n1}\")\n",
        "          # 00년생 이전 연생이면서 남자인 경우\n",
        "        \n",
        "        elif id[7] == \"2\" :   \n",
        "          print(f\"{id[0:2]}년생 {id[2:4]}월 여자{n1}\") \n",
        "          # 00년생 이전 연생이면서 여자인 경우\n",
        "\n",
        "        elif id[7] != \"1\" or id[7] != \"2\":    \n",
        "          print(f\"잘못된 번호입니다.{n1}올바른 번호를 넣어주세요.\")\n",
        "          # 00년생 이전 연생인데, 성별 구분이 틀린 경우(성별 구분이 1,2가 아닌 경우)\n",
        "\n",
        "      if int(id[0:2]) >= 0 and int(id[0:2]) < 22:    \n",
        "        # 00~21 범위 지정을 위해 int 로 변환      \n",
        "        '''#여기서 if 문이 왜 돌아가는지 헷갈렸음'''\n",
        "        # 00년생~21년생인 경우\n",
        "\n",
        "        young = input(\"2000년 이후 출생자 입니까? 맞으면 o 아니면 x :\")\n",
        "        # input값 받기\n",
        "\n",
        "        if young == \"o\" and id[7] == \"3\" :\n",
        "          print(f\"{id[0:2]}년생 {id[2:4]}월 남자{n1}\")  \n",
        "          # 00년생~21년생이면서, 질문에 맞게 대답하고, 성별 구분이 3인 경우\n",
        "\n",
        "        elif young == \"o\" and id[7] == \"4\" :   \n",
        "          print(f\"{id[0:2]}년생 {id[2:4]}월 여자{n1}\")\n",
        "          # 00년생~21년생이면서, 질문에 맞게 대답하고, 성별 구분이 4인 경우\n",
        "\n",
        "        elif young == \"o\" and id[7] != \"3\" or id[7] != \"4\":\n",
        "          print(f\"잘못된 번호입니다.{n1}올바른 번호를 넣어주세요.\")   \n",
        "          # 00년생~21년생이면서, 질문에 맞게 대답했지만, 성별 구분이 3,4가 아닌 경우 \n",
        "\n",
        "        elif young == \"x\":\n",
        "          print(f\"잘못된 번호입니다.{n1}올바른 번호를 넣어주세요.\")\n",
        "          # 00년생~21년생이지만, 질문에 틀리게 대답한 경우\n",
        "\n",
        "  else :\n",
        "    print(f\"잘못된 번호입니다.{n1}올바른 번호를 넣어주세요.\")\n",
        "    # 주민번호가 정상적으로 입력되지 않은 경우\n",
        "    # 주민번호 정상 조건 : 6번째에 \"-\"을 포함하고, \"-\"는 한번만 쓰였으며, 길이가 14자인 번호 "
      ],
      "metadata": {
        "id": "uVszpcooRN4S"
      },
      "execution_count": null,
      "outputs": []
    },
    {
      "cell_type": "code",
      "source": [
        "'''\n",
        "a = \"500629-2222222\"\n",
        "check_id(a)\n",
        "50년06월 여자\n",
        "\n",
        "a = \"000629-2222222\"\n",
        "check_id(a)\n",
        "2000년 이후 출생자 입니까? 맞으면 o 아니면 x : o\n",
        "잘못된 번호입니다.\n",
        "올바른 번호를 넣어주세요\n",
        "\n",
        "a = \"000629-2222222\"\n",
        "check_id(a)\n",
        "2000년 이후 출생자 입니까? 맞으면 o 아니면 x : x\n",
        "00년06월 여자\n",
        "'''"
      ],
      "metadata": {
        "colab": {
          "base_uri": "https://localhost:8080/",
          "height": 54
        },
        "outputId": "1815ebb6-82cc-4732-c1b8-fa6ceb41d030",
        "id": "Jq9It9bbRN4S"
      },
      "execution_count": null,
      "outputs": [
        {
          "output_type": "execute_result",
          "data": {
            "text/plain": [
              "'\\na = \"500629-2222222\"\\ncheck_id(a)\\n50년06월 여자\\n\\na = \"000629-2222222\"\\ncheck_id(a)\\n2000년 이후 출생자 입니까? 맞으면 o 아니면 x : o\\n잘못된 번호입니다.\\n올바른 번호를 넣어주세요\\n\\na = \"000629-2222222\"\\ncheck_id(a)\\n2000년 이후 출생자 입니까? 맞으면 o 아니면 x : x\\n00년06월 여자\\n'"
            ],
            "application/vnd.google.colaboratory.intrinsic+json": {
              "type": "string"
            }
          },
          "metadata": {},
          "execution_count": 88
        }
      ]
    },
    {
      "cell_type": "code",
      "source": [
        "# 00~21년이 아니면서 성별구분으로 1,2를 쓴 경우\n",
        "# 성별 구분 : 1\n",
        "# 결과: 정상 출력\n",
        "'''\n",
        "# 00~21년생 성별 구분 [3 : 남자, 4 : 여자]\n",
        "# 00년 이전 성별 구분 [1 : 남자, 2 : 여자]\n",
        "'''\n",
        "\n",
        "a = \"500629-1222222\"\n",
        "check_id(a)"
      ],
      "metadata": {
        "colab": {
          "base_uri": "https://localhost:8080/"
        },
        "outputId": "ad10dd42-4611-4064-a991-2a04d0debabf",
        "id": "xxiDfAkORN4S"
      },
      "execution_count": null,
      "outputs": [
        {
          "output_type": "stream",
          "name": "stdout",
          "text": [
            "50년생 06월 남자\n",
            "\n"
          ]
        }
      ]
    },
    {
      "cell_type": "code",
      "source": [
        "# 00~21년이 아니면서 성별구분으로 1,2를 쓴 경우\n",
        "# 성별 구분 : 2\n",
        "# 결과: 정상 출력\n",
        "'''\n",
        "# 00~21년생 성별 구분 [3 : 남자, 4 : 여자]\n",
        "# 00년 이전 성별 구분 [1 : 남자, 2 : 여자]\n",
        "'''\n",
        "\n",
        "a = \"500629-2222222\"\n",
        "check_id(a)"
      ],
      "metadata": {
        "colab": {
          "base_uri": "https://localhost:8080/"
        },
        "outputId": "0d686718-30db-4b4a-eea2-0f9df1cae856",
        "id": "Jf3O8QD0RN4S"
      },
      "execution_count": null,
      "outputs": [
        {
          "output_type": "stream",
          "name": "stdout",
          "text": [
            "50년생 06월 여자\n",
            "\n"
          ]
        }
      ]
    },
    {
      "cell_type": "code",
      "source": [
        "# 00~21년이 아닌데 성별구분으로 3,4를 쓴 경우\n",
        "# 성별 구분 : 3\n",
        "# 결과 : 잘못된 번호 메시지 출력\n",
        "'''\n",
        "# 00~21년생 성별 구분 [3 : 남자, 4 : 여자]\n",
        "# 00년 이전 성별 구분 [1 : 남자, 2 : 여자]\n",
        "'''\n",
        "\n",
        "a = \"500629-3222222\"\n",
        "check_id(a)"
      ],
      "metadata": {
        "colab": {
          "base_uri": "https://localhost:8080/"
        },
        "outputId": "9871b081-39d1-40aa-d524-ee75a6fd584c",
        "id": "H9KoYqkGRN4T"
      },
      "execution_count": null,
      "outputs": [
        {
          "output_type": "stream",
          "name": "stdout",
          "text": [
            "잘못된 번호입니다.\n",
            "올바른 번호를 넣어주세요.\n"
          ]
        }
      ]
    },
    {
      "cell_type": "code",
      "source": [
        "# 00~21년이 아닌데 성별구분으로 3,4를 쓴 경우\n",
        "# 성별 구분 : 4\n",
        "# 결과 : 잘못된 번호 메시지 출력\n",
        "'''\n",
        "# 00~21년생 성별 구분 [3 : 남자, 4 : 여자]\n",
        "# 00년 이전 성별 구분 [1 : 남자, 2 : 여자]\n",
        "'''\n",
        "\n",
        "a = \"500629-4222222\"\n",
        "check_id(a)"
      ],
      "metadata": {
        "colab": {
          "base_uri": "https://localhost:8080/"
        },
        "outputId": "fa48b150-2b5c-4929-deed-6155409f5ca0",
        "id": "8Unm9uOsRN4T"
      },
      "execution_count": null,
      "outputs": [
        {
          "output_type": "stream",
          "name": "stdout",
          "text": [
            "잘못된 번호입니다.\n",
            "올바른 번호를 넣어주세요.\n"
          ]
        }
      ]
    },
    {
      "cell_type": "code",
      "source": [
        "# 2000년 이후 출생자 입니까? 맞으면 o 아니면 x :o  <- o 로 대답\n",
        "# 00~21년생이면서 성별구분으로 성별구분으로 3,4를 쓴 경우\n",
        "# 결과: 정상 출력\n",
        "'''\n",
        "# 00~21년생 성별 구분 [3 : 남자, 4 : 여자]\n",
        "# 00년 이전 성별 구분 [1 : 남자, 2 : 여자]\n",
        "'''\n",
        "\n",
        "a = \"000629-3222222\" \n",
        "check_id(a)"
      ],
      "metadata": {
        "colab": {
          "base_uri": "https://localhost:8080/"
        },
        "outputId": "d722664b-3075-4042-cf8d-051e1bd764a8",
        "id": "usgBLicgRN4T"
      },
      "execution_count": null,
      "outputs": [
        {
          "output_type": "stream",
          "name": "stdout",
          "text": [
            "2000년 이후 출생자 입니까? 맞으면 o 아니면 x :o\n",
            "00년생 06월 남자\n",
            "\n"
          ]
        }
      ]
    },
    {
      "cell_type": "code",
      "source": [
        "# 2000년 이후 출생자 입니까? 맞으면 o 아니면 x :o  <- o 로 대답\n",
        "# 00~21년생이면서 성별구분으로 성별구분으로 3,4를 쓴 경우\n",
        "# 결과: 정상 출력\n",
        "'''\n",
        "# 00~21년생 성별 구분 [3 : 남자, 4 : 여자]\n",
        "# 00년 이전 성별 구분 [1 : 남자, 2 : 여자]\n",
        "'''\n",
        "\n",
        "a = \"000629-4222222\" \n",
        "check_id(a)"
      ],
      "metadata": {
        "colab": {
          "base_uri": "https://localhost:8080/"
        },
        "outputId": "5e8af2c7-2b0e-4627-84bb-692db383692c",
        "id": "XqFXYndYRN4T"
      },
      "execution_count": null,
      "outputs": [
        {
          "output_type": "stream",
          "name": "stdout",
          "text": [
            "2000년 이후 출생자 입니까? 맞으면 o 아니면 x :o\n",
            "00년생 06월 여자\n",
            "\n"
          ]
        }
      ]
    },
    {
      "cell_type": "code",
      "source": [
        "# 2000년 이후 출생자 입니까? 맞으면 o 아니면 x :x  <- x 로 대답\n",
        "# 00~21년생이면서 성별구분으로 성별구분으로 3,4를 썼지만 질문에 잘못 대답한 경우\n",
        "# 결과 : 잘못된 번호 메시지 출력\n",
        "'''\n",
        "# 00~21년생 성별 구분 [3 : 남자, 4 : 여자]\n",
        "# 00년 이전 성별 구분 [1 : 남자, 2 : 여자]\n",
        "'''\n",
        "\n",
        "a = \"000629-3222222\" \n",
        "check_id(a)"
      ],
      "metadata": {
        "colab": {
          "base_uri": "https://localhost:8080/"
        },
        "outputId": "bd4affd9-1697-4e69-f705-82f075633b63",
        "id": "_MAvnRbmRN4T"
      },
      "execution_count": null,
      "outputs": [
        {
          "output_type": "stream",
          "name": "stdout",
          "text": [
            "2000년 이후 출생자 입니까? 맞으면 o 아니면 x :x\n",
            "잘못된 번호입니다.\n",
            "올바른 번호를 넣어주세요.\n"
          ]
        }
      ]
    },
    {
      "cell_type": "code",
      "source": [
        "# 2000년 이후 출생자 입니까? 맞으면 o 아니면 x :x  <- x 로 대답\n",
        "# 00~21년생이면서 성별구분으로 성별구분으로 3,4를 썼지만 질문에 잘못 대답한 경우\n",
        "# 결과 : 잘못된 번호 메시지 출력\n",
        "'''\n",
        "# 00~21년생 성별 구분 [3 : 남자, 4 : 여자]\n",
        "# 00년 이전 성별 구분 [1 : 남자, 2 : 여자]\n",
        "'''\n",
        "\n",
        "a = \"000629-4222222\" \n",
        "check_id(a)"
      ],
      "metadata": {
        "colab": {
          "base_uri": "https://localhost:8080/"
        },
        "outputId": "88cfca48-8084-4c97-a900-f1b2c8285994",
        "id": "SioIMmNuRN4T"
      },
      "execution_count": null,
      "outputs": [
        {
          "output_type": "stream",
          "name": "stdout",
          "text": [
            "2000년 이후 출생자 입니까? 맞으면 o 아니면 x :x\n",
            "잘못된 번호입니다.\n",
            "올바른 번호를 넣어주세요.\n"
          ]
        }
      ]
    },
    {
      "cell_type": "code",
      "source": [
        "# 2000년 이후 출생자 입니까? 맞으면 o 아니면 x :o  <- o 로 대답\n",
        "# 00~21년생이면서 성별구분으로 성별구분으로 1,2를 쓴 경우\n",
        "# 성별 구분 : 1\n",
        "# 결과 : 잘못된 번호 메시지 출력\n",
        "'''\n",
        "# 00~21년생 성별 구분 [3 : 남자, 4 : 여자]\n",
        "# 00년 이전 성별 구분 [1 : 남자, 2 : 여자]\n",
        "'''\n",
        "\n",
        "a = \"000629-1222222\" \n",
        "check_id(a)"
      ],
      "metadata": {
        "colab": {
          "base_uri": "https://localhost:8080/"
        },
        "outputId": "17c3d344-c8ca-4602-c8c9-086d70d04751",
        "id": "hCQBxp1BRN4T"
      },
      "execution_count": null,
      "outputs": [
        {
          "output_type": "stream",
          "name": "stdout",
          "text": [
            "2000년 이후 출생자 입니까? 맞으면 o 아니면 x :o\n",
            "잘못된 번호입니다.\n",
            "올바른 번호를 넣어주세요.\n"
          ]
        }
      ]
    },
    {
      "cell_type": "code",
      "source": [
        "# 2000년 이후 출생자 입니까? 맞으면 o 아니면 x :o  <- o 로 대답\n",
        "# 00~21년생이면서 성별구분으로 성별구분으로 1,2를 쓴 경우\n",
        "# 성별 구분 : 2\n",
        "# 결과 : 잘못된 번호 메시지 출력\n",
        "'''\n",
        "# 00~21년생 성별 구분 [3 : 남자, 4 : 여자]\n",
        "# 00년 이전 성별 구분 [1 : 남자, 2 : 여자]\n",
        "'''\n",
        "\n",
        "a = \"000629-2222222\"\n",
        "check_id(a)"
      ],
      "metadata": {
        "colab": {
          "base_uri": "https://localhost:8080/"
        },
        "outputId": "a0c4c585-b047-448a-99f9-02fd513a9c4a",
        "id": "kg1yAlTzRN4T"
      },
      "execution_count": null,
      "outputs": [
        {
          "output_type": "stream",
          "name": "stdout",
          "text": [
            "2000년 이후 출생자 입니까? 맞으면 o 아니면 x :o\n",
            "잘못된 번호입니다.\n",
            "올바른 번호를 넣어주세요.\n"
          ]
        }
      ]
    },
    {
      "cell_type": "markdown",
      "source": [
        "# 👩🏻‍💻👩🏻‍💻👩🏻‍💻 연습 코드"
      ],
      "metadata": {
        "id": "jqr-ANDx7Fgv"
      }
    },
    {
      "cell_type": "markdown",
      "source": [
        "###📌Q1. 우리는 큰 수를 나타낼 때 3자리마다 , 를 찍어서 구분해 줍니다. 파이썬에서는 아래와 같이 쉽게 나타낼 수 있습니다.\n",
        "\n",
        "```\n",
        "# f\"{숫자:,}\" \n",
        "print(f\"{1000:,}\")\n",
        "```\n",
        "\n",
        "###하지만 이번 미션에서는 숫자를 입력 받고 3자리마다 ,를 찍어주는 함수를 만들어 봅시다.\n",
        "\n",
        "###🔽출력 예시\n",
        "\n",
        "```\n",
        "make_comma(1000000)\n",
        "1,000,000\n",
        "```"
      ],
      "metadata": {
        "id": "qnYpBJA6lH72"
      }
    },
    {
      "cell_type": "markdown",
      "source": [
        "### 🔥🔥🔥 Q1 정답 코드"
      ],
      "metadata": {
        "id": "qW8XRs9W4EyP"
      }
    },
    {
      "cell_type": "code",
      "source": [
        "def make_comma(number):\n",
        "  print(f\"{number:,}\")"
      ],
      "metadata": {
        "id": "p9P8Po6Ko38r"
      },
      "execution_count": null,
      "outputs": []
    },
    {
      "cell_type": "code",
      "source": [
        "make_comma(20000000000)"
      ],
      "metadata": {
        "colab": {
          "base_uri": "https://localhost:8080/"
        },
        "id": "B3QVY1ONpBie",
        "outputId": "1d3aca34-f43f-414d-f906-4abda507e09b"
      },
      "execution_count": null,
      "outputs": [
        {
          "output_type": "stream",
          "name": "stdout",
          "text": [
            "20,000,000,000\n"
          ]
        }
      ]
    },
    {
      "cell_type": "markdown",
      "source": [
        "###📌Q2. 어느날 여러분이 어떤 글을 읽고 있는데, 갑자기 특정 글자가 전체 글에서 몇개 들어있는지 궁금해졌습니다. 그럼 한 번 파이썬 함수로 만들어 봅시다.\n",
        "<br/>\n",
        "\n",
        "###글은 어떤 글이든 좋습니다. 인터넷에서 검색해서 복사 붙여넣기로 변수에 넣어 줍니다.\n",
        "<br/>\n",
        "\n",
        "###변수에 담긴 글을 함수에 넣어주면 txt 파일로 저장도 함께 되도록 해줍니다.\n",
        "<br/>\n",
        "\n",
        "###🔽출력 예시\n",
        "\n",
        "```\n",
        "a =\"\"\"안녕하세요. \n",
        "반갑습니다. 파이썬 공부는 정말 재밌습니다.\n",
        "\"\"\"\n",
        "\n",
        "count_word(a, \"습니다\")\n",
        "2\n",
        "```"
      ],
      "metadata": {
        "id": "j6gy1Dx1l15Q"
      }
    },
    {
      "cell_type": "markdown",
      "source": [
        "### 시도 1"
      ],
      "metadata": {
        "id": "wQSvJasK3yr8"
      }
    },
    {
      "cell_type": "code",
      "source": [
        "import re\n",
        "\n",
        "def count_word(sentences, word):\n",
        "  sentences = re.split(\"[,|.|\\\"|\\'| |\\n]\", sentences) # 쉼표(,) Or 마침표(.) or 큰따옴표(\") or 작은 따옴표(')로 구분되어 리스트로 출력됨\n",
        "  number_of_words = sentences.count(word) #word로 받은 값의 개수를 카운팅     #def 입력시 번거로움을 덜기 위해 문자로 인식시키는 큰따옴표를 식 안에 써줬음\n",
        "  print(number_of_words)\n",
        "\n",
        "'''\n",
        "검색 키워드 : \n",
        "  파이썬 특정 단어 개수 세기, 파이썬 따옴표 출력, 파이썬 구분자 여러개, re split, 파이썬 구분자 큰 따옴표, 파이썬 구분자 줄바꿈\n",
        "\n",
        "\n",
        "알아두면 좋은 자료\n",
        "split()과 split(\"\") 차이 : \n",
        "  https://somjang.tistory.com/entry/Python-%EB%AC%B8%EC%9E%90%EC%97%B4-split-%EA%B3%BC-split-%EC%B0%A8%EC%9D%B4-%EC%95%8C%EC%95%84%EB%B3%B4%EA%B8%B0\n",
        "\n",
        "\n",
        "에러를 통해 깨달은 것\n",
        " -아래와 같은 방식으로 코드를 작성했었으나 word != \"word\"의 문제 발생\n",
        " number_of_words = sentences.count(word)  #def 입력시 번거로움을 덜기 위해 문자로 인식시키는 큰따옴표를 식 안에 써줬음\n",
        "'''"
      ],
      "metadata": {
        "colab": {
          "base_uri": "https://localhost:8080/",
          "height": 89
        },
        "id": "2-yqLFGVpKTY",
        "outputId": "aa1249bd-8aa7-435f-9b1f-3b5369374a27"
      },
      "execution_count": null,
      "outputs": [
        {
          "output_type": "execute_result",
          "data": {
            "text/plain": [
              "'\\n검색 키워드 : \\n  파이썬 특정 단어 개수 세기, 파이썬 따옴표 출력, 파이썬 구분자 여러개, re split, 파이썬 구분자 큰 따옴표, 파이썬 구분자 줄바꿈\\n\\n\\n알아두면 좋은 자료\\nsplit()과 split(\"\") 차이 : \\n  https://somjang.tistory.com/entry/Python-%EB%AC%B8%EC%9E%90%EC%97%B4-split-%EA%B3%BC-split-%EC%B0%A8%EC%9D%B4-%EC%95%8C%EC%95%84%EB%B3%B4%EA%B8%B0\\n\\n\\n에러를 통해 깨달은 것\\n -아래와 같은 방식으로 코드를 작성했었으나 word != \"word\"의 문제 발생\\n number_of_words = sentences.count(word)  #def 입력시 번거로움을 덜기 위해 문자로 인식시키는 큰따옴표를 식 안에 써줬음\\n'"
            ],
            "application/vnd.google.colaboratory.intrinsic+json": {
              "type": "string"
            }
          },
          "metadata": {},
          "execution_count": 104
        }
      ]
    },
    {
      "cell_type": "code",
      "source": [
        "# 아래코드는 \"안녕하세요\" 에 \"하세요\"를 카운팅하지 못함\n",
        "\n",
        "sentences ='''\n",
        "어제보다 더 ‘좋은 문장을 쓰고 싶은’ 당신을 위한,\n",
        "알아두면 쓸모 있는 교열 전문기자의 우리말 맞춤법 이야기\n",
        "\n",
        "누구나 작가가 될 수 있는 시대, 하루 종일 무언가를 읽고 쓰는 시대, 지금이야말로 ‘좋은’ 문장이 필요한 때다. 이 책은 조금 더 나은 문장을 쓰고 싶은 당신에게 전하는 우리말 맞춤법 이야기이다. 이 책을 쓴 교열기자 이진원은 2010년부터 11년째 부산일보 교열부 데스크(교열팀장, 교열부장)를 맡고 있고, 2003년부터 맞춤법 칼럼 ‘바른말 광’을 매주 연재하고 있다. 이번 책에서는 그간 연재한 칼럼 870여 편 중에서도 ‘좋은 문장’을 쓰는 방법에 주목하여 원고를 선별해 엮었다. 교열기자 일을 하며 만났던 문장들을 예시로 들며 일상에서 틀리기 쉬운 맞춤법을 설명한다. 많은 사람은 생각한다. ‘‘한글 맞춤법’은 왜 이렇게 복잡하고 어려운 걸까?’ 이에 『좋은 문장을 쓰고 싶다면』의 저자는 ‘한국말은 어렵다’는 생각은 ‘잘 모르기 때문에’ 생기는 선입견이라고 답한다. 원리를 깨친다면 높게만 느껴지는 맞춤법의 벽도 이전에 비해 편하게 넘을 수 있다며, 올바른 글쓰기의 세계로 독자들을 인도한다.\n",
        "'''\n",
        "count_word(sentences,\"시대\")"
      ],
      "metadata": {
        "colab": {
          "base_uri": "https://localhost:8080/"
        },
        "id": "7btzbPCy0I90",
        "outputId": "6633f868-6d21-4fc9-8e37-d9ef233c29be"
      },
      "execution_count": null,
      "outputs": [
        {
          "output_type": "stream",
          "name": "stdout",
          "text": [
            "2\n"
          ]
        }
      ]
    },
    {
      "cell_type": "markdown",
      "source": [
        "### 시도 2"
      ],
      "metadata": {
        "id": "zcKbm0VB32bA"
      }
    },
    {
      "cell_type": "code",
      "source": [
        "def count_word(sentences, word):\n",
        "  word_counting = 0\n",
        "  sentences = re.split(\"[,|.|\\\"|\\'| |\\n]\", sentences) \n",
        "  if word in sentences:\n",
        "    word_counting += 1\n",
        "\n",
        "  print(word_counting)"
      ],
      "metadata": {
        "id": "E0n8pByL2xI3"
      },
      "execution_count": null,
      "outputs": []
    },
    {
      "cell_type": "code",
      "source": [
        "count_word(sentences,\"시대\")"
      ],
      "metadata": {
        "colab": {
          "base_uri": "https://localhost:8080/"
        },
        "id": "-RxKxMvs3Qii",
        "outputId": "ae3373a8-5f01-44fe-fe47-5296991cf5ce"
      },
      "execution_count": null,
      "outputs": [
        {
          "output_type": "stream",
          "name": "stdout",
          "text": [
            "1\n"
          ]
        }
      ]
    },
    {
      "cell_type": "markdown",
      "source": [
        "### 시도 3 (디버깅 시작) \n",
        "문제를 너무 어렵게 풀려 했던 것이 문제였다. ;;"
      ],
      "metadata": {
        "id": "FGnK5iIo3-1A"
      }
    },
    {
      "cell_type": "code",
      "source": [
        "sentences ='''\n",
        "어제보다 더 ‘좋은 문장을 쓰고 싶은’ 당신을 위한,\n",
        "알아두면 쓸모 있는 교열 전문기자의 우리말 맞춤법 이야기\n",
        "\n",
        "누구나 작가가 될 수 있는 시대, 하루 종일 무언가를 읽고 쓰는 시대, 지금이야말로 ‘좋은’ 문장이 필요한 때다. 이 책은 조금 더 나은 문장을 쓰고 싶은 당신에게 전하는 우리말 맞춤법 이야기이다. 이 책을 쓴 교열기자 이진원은 2010년부터 11년째 부산일보 교열부 데스크(교열팀장, 교열부장)를 맡고 있고, 2003년부터 맞춤법 칼럼 ‘바른말 광’을 매주 연재하고 있다. 이번 책에서는 그간 연재한 칼럼 870여 편 중에서도 ‘좋은 문장’을 쓰는 방법에 주목하여 원고를 선별해 엮었다. 교열기자 일을 하며 만났던 문장들을 예시로 들며 일상에서 틀리기 쉬운 맞춤법을 설명한다. 많은 사람은 생각한다. ‘‘한글 맞춤법’은 왜 이렇게 복잡하고 어려운 걸까?’ 이에 『좋은 문장을 쓰고 싶다면』의 저자는 ‘한국말은 어렵다’는 생각은 ‘잘 모르기 때문에’ 생기는 선입견이라고 답한다. 원리를 깨친다면 높게만 느껴지는 맞춤법의 벽도 이전에 비해 편하게 넘을 수 있다며, 올바른 글쓰기의 세계로 독자들을 인도한다.\n",
        "'''\n",
        "\n",
        "sentences = re.split(\"[,|.|\\\"|\\'| |\\n]\", sentences)\n",
        "print(sentences)"
      ],
      "metadata": {
        "colab": {
          "base_uri": "https://localhost:8080/"
        },
        "id": "FoKVBPfC3iiF",
        "outputId": "61d9bbd4-109e-4456-f220-50f8d343eb95"
      },
      "execution_count": null,
      "outputs": [
        {
          "output_type": "stream",
          "name": "stdout",
          "text": [
            "['', '어제보다', '더', '‘좋은', '문장을', '쓰고', '싶은’', '당신을', '위한', '', '알아두면', '쓸모', '있는', '교열', '전문기자의', '우리말', '맞춤법', '이야기', '', '누구나', '작가가', '될', '수', '있는', '시대', '', '하루', '종일', '무언가를', '읽고', '쓰는', '시대', '', '지금이야말로', '‘좋은’', '문장이', '필요한', '때다', '', '이', '책은', '조금', '더', '나은', '문장을', '쓰고', '싶은', '당신에게', '전하는', '우리말', '맞춤법', '이야기이다', '', '이', '책을', '쓴', '교열기자', '이진원은', '2010년부터', '11년째', '부산일보', '교열부', '데스크(교열팀장', '', '교열부장)를', '맡고', '있고', '', '2003년부터', '맞춤법', '칼럼', '‘바른말', '광’을', '매주', '연재하고', '있다', '', '이번', '책에서는', '그간', '연재한', '칼럼', '870여', '편', '중에서도', '‘좋은', '문장’을', '쓰는', '방법에', '주목하여', '원고를', '선별해', '엮었다', '', '교열기자', '일을', '하며', '만났던', '문장들을', '예시로', '들며', '일상에서', '틀리기', '쉬운', '맞춤법을', '설명한다', '', '많은', '사람은', '생각한다', '', '‘‘한글', '맞춤법’은', '왜', '이렇게', '복잡하고', '어려운', '걸까?’', '이에', '『좋은', '문장을', '쓰고', '싶다면』의', '저자는', '‘한국말은', '어렵다’는', '생각은', '‘잘', '모르기', '때문에’', '생기는', '선입견이라고', '답한다', '', '원리를', '깨친다면', '높게만', '느껴지는', '맞춤법의', '벽도', '이전에', '비해', '편하게', '넘을', '수', '있다며', '', '올바른', '글쓰기의', '세계로', '독자들을', '인도한다', '', '']\n"
          ]
        }
      ]
    },
    {
      "cell_type": "code",
      "source": [
        "def count_word(sentences, word):\n",
        "  word_counting = sentences.count(word)\n",
        "\n",
        "  print(word_counting)"
      ],
      "metadata": {
        "id": "OAiYHdTZ4a7O"
      },
      "execution_count": null,
      "outputs": []
    },
    {
      "cell_type": "code",
      "source": [
        "sentences ='''\n",
        "어제보다 더 ‘좋은 문장을 쓰고 싶은’ 당신을 위한,\n",
        "알아두면 쓸모 있는 교열 전문기자의 우리말 맞춤법 이야기\n",
        "\n",
        "누구나 작가가 될 수 있는 시대, 하루 종일 무언가를 읽고 쓰는 시대, 지금이야말로 ‘좋은’ 문장이 필요한 때다. 이 책은 조금 더 나은 문장을 쓰고 싶은 당신에게 전하는 우리말 맞춤법 이야기이다. 이 책을 쓴 교열기자 이진원은 2010년부터 11년째 부산일보 교열부 데스크(교열팀장, 교열부장)를 맡고 있고, 2003년부터 맞춤법 칼럼 ‘바른말 광’을 매주 연재하고 있다. 이번 책에서는 그간 연재한 칼럼 870여 편 중에서도 ‘좋은 문장’을 쓰는 방법에 주목하여 원고를 선별해 엮었다. 교열기자 일을 하며 만났던 문장들을 예시로 들며 일상에서 틀리기 쉬운 맞춤법을 설명한다. 많은 사람은 생각한다. ‘‘한글 맞춤법’은 왜 이렇게 복잡하고 어려운 걸까?’ 이에 『좋은 문장을 쓰고 싶다면』의 저자는 ‘한국말은 어렵다’는 생각은 ‘잘 모르기 때문에’ 생기는 선입견이라고 답한다. 원리를 깨친다면 높게만 느껴지는 맞춤법의 벽도 이전에 비해 편하게 넘을 수 있다며, 올바른 글쓰기의 세계로 독자들을 인도한다.\n",
        "'''\n",
        "\n",
        "count_word(sentences,\"한다\")"
      ],
      "metadata": {
        "colab": {
          "base_uri": "https://localhost:8080/"
        },
        "id": "0nt5FpiF4npS",
        "outputId": "a3cb44c9-8458-4227-fa7f-035ca20eb63b"
      },
      "execution_count": null,
      "outputs": [
        {
          "output_type": "stream",
          "name": "stdout",
          "text": [
            "4\n"
          ]
        }
      ]
    },
    {
      "cell_type": "markdown",
      "source": [
        "### 🔥🔥🔥 Q2 정답 코드"
      ],
      "metadata": {
        "id": "MOwUExLv5LhI"
      }
    },
    {
      "cell_type": "code",
      "source": [
        "def count_word(sentences, word):\n",
        "  word_counting = sentences.count(word)\n",
        "\n",
        "  print(word_counting)\n",
        "\n",
        "#----------------------------------------------\n",
        "\n",
        "sentences ='''\n",
        "어제보다 더 ‘좋은 문장을 쓰고 싶은’ 당신을 위한,\n",
        "알아두면 쓸모 있는 교열 전문기자의 우리말 맞춤법 이야기\n",
        "\n",
        "누구나 작가가 될 수 있는 시대, 하루 종일 무언가를 읽고 쓰는 시대, 지금이야말로 ‘좋은’ 문장이 필요한 때다. 이 책은 조금 더 나은 문장을 쓰고 싶은 당신에게 전하는 우리말 맞춤법 이야기이다. 이 책을 쓴 교열기자 이진원은 2010년부터 11년째 부산일보 교열부 데스크(교열팀장, 교열부장)를 맡고 있고, 2003년부터 맞춤법 칼럼 ‘바른말 광’을 매주 연재하고 있다. 이번 책에서는 그간 연재한 칼럼 870여 편 중에서도 ‘좋은 문장’을 쓰는 방법에 주목하여 원고를 선별해 엮었다. 교열기자 일을 하며 만났던 문장들을 예시로 들며 일상에서 틀리기 쉬운 맞춤법을 설명한다. 많은 사람은 생각한다. ‘‘한글 맞춤법’은 왜 이렇게 복잡하고 어려운 걸까?’ 이에 『좋은 문장을 쓰고 싶다면』의 저자는 ‘한국말은 어렵다’는 생각은 ‘잘 모르기 때문에’ 생기는 선입견이라고 답한다. 원리를 깨친다면 높게만 느껴지는 맞춤법의 벽도 이전에 비해 편하게 넘을 수 있다며, 올바른 글쓰기의 세계로 독자들을 인도한다.\n",
        "'''\n",
        "\n",
        "count_word(sentences,\"한다\")"
      ],
      "metadata": {
        "colab": {
          "base_uri": "https://localhost:8080/"
        },
        "id": "bDvp7JxB5Evi",
        "outputId": "9d6089d8-6da4-415c-b5b0-4e5793fc1b06"
      },
      "execution_count": null,
      "outputs": [
        {
          "output_type": "stream",
          "name": "stdout",
          "text": [
            "4\n"
          ]
        }
      ]
    },
    {
      "cell_type": "markdown",
      "source": [
        "### 📌Q3. 요즘 식당에 들어가면 방명록을 적게 되어있습니다.\n",
        "<br/>\n",
        "\n",
        "### 어느 식당의 사장님이 여러분에게 방명록을 주면서 전화번호를 제대로 적었는지 검사해달라는 부탁을 했습니다.\n",
        "<br/>\n",
        "\n",
        "###아래와 같은 방명록이 있을 때 방명록을 잘 못쓴 사람의 이름과 잘 못된 번호를 출력하는 함수를 만들어 봅시다.\n",
        "<br/>\n",
        "\n",
        "김갑,123456789 <br/>\n",
        "이을,010-1234-5678 <br/>\n",
        "박병,010-5678-111 <br/>\n",
        "최정,111-1111-1111 <br/>\n",
        "정무,010-3333-3333 <br/>\n",
        "<br/>\n",
        "\n",
        "- 함수에 방명록을 넣으면 txt 파일로 저장되게 해줍니다.\n",
        "- 제대로 적은 방명록의 조건은 다음과 같습니다\n",
        "  - 010 으로 시작함\n",
        "  - 번호가 - 로 구분이 되어 있음\n",
        "  - -를 포함하여 길이가 13임\n",
        "<br/><br/>\n",
        "\n",
        "### 🔽출력 예시\n",
        "\n",
        "```\n",
        "guest_book = \"\"\"김갑,123456789\n",
        "이을,010-1234-5678\n",
        "박병,010-5678-111\n",
        "최정,111-1111-1111\n",
        "정무,010-3333-3333\"\"\"\n",
        "wrong_guest_book(guest_book)\n",
        "\n",
        "잘못 쓴 사람: 김갑\n",
        "잘못 쓴 번호: 123456789\n",
        "\n",
        "잘못 쓴 사람: 박병\n",
        "잘못 쓴 번호: 010-5678-111\n",
        "\n",
        "잘못 쓴 사람: 최정\n",
        "잘못 쓴 번호: 111-1111-1111\n",
        "```"
      ],
      "metadata": {
        "id": "286JKcmYmVcz"
      }
    },
    {
      "cell_type": "markdown",
      "source": [
        "### 시도1\n"
      ],
      "metadata": {
        "id": "ajTeMVEyRW-n"
      }
    },
    {
      "cell_type": "code",
      "source": [
        "import pandas as pd\n",
        "\n",
        "guest_book = \"\"\"김갑,123456789\n",
        "이을,010-1234-5678\n",
        "박병,010-5678-111\n",
        "최정,111-1111-1111\n",
        "정무,010-3333-3333\"\"\"\n",
        "\n",
        "guest_book = re.split(\"[,|\\n]\", guest_book)\n",
        "even_number = guest_book[0::2] #짝수번대 리스트\n",
        "odd_number = guest_book[1::2] #짝수번대 리스트\n",
        "\n",
        "df = pd.DataFrame((zip(even_number, odd_number)), columns = ['Name', 'Number'])\n",
        "\n",
        "for x in df.Number:\n",
        "  if x[0:3] != \"010\" or x.count(\"-\") != 2 or len(x) != 13:\n",
        "    n1 = \"\\n\"\n",
        "    print(f\"잘못 쓴 사람 : {n1}잘못 쓴 번호 : {x}{n1}\")\n",
        "\n",
        "\n",
        "\n",
        "\n",
        "'''\n",
        "검색 키워드 : \n",
        "  파이썬 리스트 데이터 프레임 변환, 짝수번 리스트\n",
        "\n",
        "\n",
        "알아두면 좋은 자료\n",
        "짝수번 리스트 불러오는 방법 : \n",
        "  https://lovelydiary.tistory.com/36\n",
        "\n",
        "파이썬 리스트 데이터 프레임 변환 방법 :\n",
        "  https://www.delftstack.com/ko/howto/python/list-to-dataframe-python/\n",
        "\n",
        "에러를 통해 깨달은 것\n",
        " -\n",
        "'''"
      ],
      "metadata": {
        "colab": {
          "base_uri": "https://localhost:8080/",
          "height": 214
        },
        "id": "mU9pZP2g_iBx",
        "outputId": "d5504f29-4e76-44a9-fcba-84b86c94780f"
      },
      "execution_count": null,
      "outputs": [
        {
          "output_type": "stream",
          "name": "stdout",
          "text": [
            "잘못 쓴 사람 : \n",
            "잘못 쓴 번호 : 123456789\n",
            "\n",
            "잘못 쓴 사람 : \n",
            "잘못 쓴 번호 : 010-5678-111\n",
            "\n",
            "잘못 쓴 사람 : \n",
            "잘못 쓴 번호 : 111-1111-1111\n",
            "\n"
          ]
        },
        {
          "output_type": "execute_result",
          "data": {
            "text/plain": [
              "'\\n검색 키워드 : \\n  파이썬 리스트 데이터 프레임 변환, 짝수번 리스트\\n\\n\\n알아두면 좋은 자료\\n짝수번 리스트 불러오는 방법 : \\n  https://lovelydiary.tistory.com/36\\n\\n파이썬 리스트 데이터 프레임 변환 방법 :\\n  https://www.delftstack.com/ko/howto/python/list-to-dataframe-python/\\n\\n에러를 통해 깨달은 것\\n -\\n'"
            ],
            "application/vnd.google.colaboratory.intrinsic+json": {
              "type": "string"
            }
          },
          "metadata": {},
          "execution_count": 112
        }
      ]
    },
    {
      "cell_type": "code",
      "source": [
        "### 잘못된 코드\n",
        "for x in df.Number:\n",
        "  if x[0:3] != \"010\" or x.count(\"-\") != 2 or len(x) != 13:\n",
        "    n1 = \"\\n\"\n",
        "    for y in df.Name:\n",
        "      if x.index == y.index:\n",
        "        print(f\"잘못 쓴 사람 : {y}{n1}잘못 쓴 번호 : {x}{n1}\")"
      ],
      "metadata": {
        "id": "fRMBj5dJPJ1W"
      },
      "execution_count": null,
      "outputs": []
    },
    {
      "cell_type": "markdown",
      "source": [
        "### 시도2"
      ],
      "metadata": {
        "id": "NrFgOrMxRazp"
      }
    },
    {
      "cell_type": "code",
      "source": [
        "### 잘못된 코드\n",
        "'''\n",
        "for x in df.Number:\n",
        "  n1 = \"\\n\"\n",
        "  x_index : enumerate(x)\n",
        "  for y in df.Name:\n",
        "    y_index : enumerate(y)\n",
        "    if x_index[0] == y_index[0]: \n",
        "      if x[0:3] != \"010\" or x.count(\"-\") != 2 or len(x) != 13:\n",
        "        print(f\"잘못 쓴 사람 : {y}{n1}잘못 쓴 번호 : {x}{n1}\")\n",
        "'''"
      ],
      "metadata": {
        "colab": {
          "base_uri": "https://localhost:8080/",
          "height": 54
        },
        "id": "JuQY-MFFPogm",
        "outputId": "b3d1ee75-a876-42a6-a918-88aa5db46218"
      },
      "execution_count": null,
      "outputs": [
        {
          "output_type": "execute_result",
          "data": {
            "text/plain": [
              "'\\nfor x in df.Number:\\n  n1 = \"\\n\"\\n  x_index : enumerate(x)\\n  for y in df.Name:\\n    y_index : enumerate(y)\\n    if x_index[0] == y_index[0]: \\n      if x[0:3] != \"010\" or x.count(\"-\") != 2 or len(x) != 13:\\n        print(f\"잘못 쓴 사람 : {y}{n1}잘못 쓴 번호 : {x}{n1}\")\\n'"
            ],
            "application/vnd.google.colaboratory.intrinsic+json": {
              "type": "string"
            }
          },
          "metadata": {},
          "execution_count": 114
        }
      ]
    },
    {
      "cell_type": "code",
      "source": [
        "df.info()"
      ],
      "metadata": {
        "colab": {
          "base_uri": "https://localhost:8080/"
        },
        "id": "yhlGz17rLRug",
        "outputId": "e9a4fad2-cbc8-4319-f2bd-f9ca3d17393f"
      },
      "execution_count": null,
      "outputs": [
        {
          "output_type": "stream",
          "name": "stdout",
          "text": [
            "<class 'pandas.core.frame.DataFrame'>\n",
            "RangeIndex: 5 entries, 0 to 4\n",
            "Data columns (total 2 columns):\n",
            " #   Column  Non-Null Count  Dtype \n",
            "---  ------  --------------  ----- \n",
            " 0   Name    5 non-null      object\n",
            " 1   Number  5 non-null      object\n",
            "dtypes: object(2)\n",
            "memory usage: 208.0+ bytes\n"
          ]
        }
      ]
    },
    {
      "cell_type": "markdown",
      "source": [
        "### 시도3 (디버깅 시작)"
      ],
      "metadata": {
        "id": "jAity9CKZL6K"
      }
    },
    {
      "cell_type": "code",
      "source": [
        "import pandas as pd\n",
        "\n",
        "guest_book = \"\"\"김갑,123456789\n",
        "이을,010-1234-5678\n",
        "박병,010-5678-111\n",
        "최정,111-1111-1111\n",
        "정무,010-3333-3333\"\"\"\n",
        "\n",
        "guest_book = re.split(\"\\n\", guest_book)\n",
        "\n",
        "\n",
        "'''\n",
        "검색 키워드 : \n",
        "  파이썬 리스트 데이터 프레임 변환, 짝수번 리스트\n",
        "\n",
        "\n",
        "알아두면 좋은 자료\n",
        "짝수번 리스트 불러오는 방법 : \n",
        "  https://lovelydiary.tistory.com/36\n",
        "\n",
        "파이썬 리스트 데이터 프레임 변환 방법 :\n",
        "  https://www.delftstack.com/ko/howto/python/list-to-dataframe-python/\n",
        "'''\n",
        "\n",
        "for x in guest_book:\n",
        "  name = x[0:2]\n",
        "  number = x[3:]\n",
        "  if number != \"010\" or number.count(\"-\") != 2 or len(number) != 13:\n",
        "    n1 = \"\\n\"\n",
        "    print(f\"잘못 쓴 사람 : {name}{n1}잘못 쓴 번호 : {number}{n1}\")"
      ],
      "metadata": {
        "colab": {
          "base_uri": "https://localhost:8080/"
        },
        "outputId": "94f908be-4298-4e15-aaf3-1b9fdbb5f5f6",
        "id": "knRrao0fWfMp"
      },
      "execution_count": null,
      "outputs": [
        {
          "output_type": "stream",
          "name": "stdout",
          "text": [
            "잘못 쓴 사람 : 김갑\n",
            "잘못 쓴 번호 : 123456789\n",
            "\n",
            "잘못 쓴 사람 : 이을\n",
            "잘못 쓴 번호 : 010-1234-5678\n",
            "\n",
            "잘못 쓴 사람 : 박병\n",
            "잘못 쓴 번호 : 010-5678-111\n",
            "\n",
            "잘못 쓴 사람 : 최정\n",
            "잘못 쓴 번호 : 111-1111-1111\n",
            "\n",
            "잘못 쓴 사람 : 정무\n",
            "잘못 쓴 번호 : 010-3333-3333\n",
            "\n"
          ]
        }
      ]
    },
    {
      "cell_type": "code",
      "source": [
        "for x in guest_book:\n",
        "  name = x[0:2]\n",
        "  number = x[3:]\n",
        "  print(name)"
      ],
      "metadata": {
        "colab": {
          "base_uri": "https://localhost:8080/"
        },
        "id": "3oI6k7RwYt_A",
        "outputId": "7562118f-dfba-4872-fd38-9bb44384b5db"
      },
      "execution_count": null,
      "outputs": [
        {
          "output_type": "stream",
          "name": "stdout",
          "text": [
            "김갑\n",
            "이을\n",
            "박병\n",
            "최정\n",
            "정무\n"
          ]
        }
      ]
    },
    {
      "cell_type": "markdown",
      "source": [
        "### 🔥🔥🔥 Q3 정답 코드"
      ],
      "metadata": {
        "id": "GnTz4cJkbEeS"
      }
    },
    {
      "cell_type": "code",
      "source": [
        "import re\n",
        "\n",
        "guest_book = \"\"\"김갑,123456789\n",
        "이을,010-1234-5678\n",
        "박병,010-5678-111\n",
        "최정,111-1111-1111\n",
        "정무,010-3333-3333\"\"\"\n",
        "\n",
        "def wrong_guest_book(guest_book) :\n",
        "  guest_book = re.split(\"\\n\", guest_book)\n",
        "  for x in guest_book:\n",
        "    if x[3:6] != \"010\" or x[3:].count(\"-\") != 2 or len(x[3:]) != 13:\n",
        "      n1 = \"\\n\"\n",
        "      print(f\"잘못 쓴 사람 : {x[0:2]}{n1}잘못 쓴 번호 : {x[3:]}{n1}\")\n",
        "\n",
        "\n",
        "wrong_guest_book(guest_book)"
      ],
      "metadata": {
        "colab": {
          "base_uri": "https://localhost:8080/"
        },
        "outputId": "18b90333-3caa-418d-ba92-4388b3483589",
        "id": "mT8cZDiKZxLV"
      },
      "execution_count": 3,
      "outputs": [
        {
          "output_type": "stream",
          "name": "stdout",
          "text": [
            "잘못 쓴 사람 : 김갑\n",
            "잘못 쓴 번호 : 123456789\n",
            "\n",
            "잘못 쓴 사람 : 박병\n",
            "잘못 쓴 번호 : 010-5678-111\n",
            "\n",
            "잘못 쓴 사람 : 최정\n",
            "잘못 쓴 번호 : 111-1111-1111\n",
            "\n"
          ]
        }
      ]
    },
    {
      "cell_type": "markdown",
      "source": [
        "### 📌Q4.  주민등록번호의 앞 6자리는 생년월일이고 뒷자리의 시작번호는 성별을 나타냅니다. 주민등록번호를 입력하면 몇년 몇월 생인지 그리고 남자인지 여자인지 출력하는 함수를 만들어 봅시다.\n",
        "<br/>\n",
        "\n",
        "- 주민등록번호는 6자리 이후에 -로 구분되어야 하고 길이는 -포함 14임\n",
        "- 뒷자리는 1,3 은 남자 2,4는 여자\n",
        "- 00 ~ 21로 시작할 경우 2000년 이후 출생자인지 물어 볼 것 (맞으면 o 틀리면 x)\n",
        "- 뒷자리 3, 4를 가질 수 있는 사람은 00년생 이후 출생자 밖에 없음\n",
        "<br/><br/>\n",
        "\n",
        "### 주민등록번호 조건을 만족하지 않는 수가 입력되면 \"잘 못된 번호입니다\"를 출력해주세요.\n",
        "<br/>\n",
        "\n",
        "###🔽출력 예시\n",
        "\n",
        "```\n",
        "a = \"500629-2222222\"\n",
        "check_id(a)\n",
        "50년06월 여자\n",
        "\n",
        "a = \"000629-2222222\"\n",
        "check_id(a)\n",
        "2000년 이후 출생자 입니까? 맞으면 o 아니면 x : o\n",
        "잘못된 번호입니다.\n",
        "올바른 번호를 넣어주세요\n",
        "\n",
        "a = \"000629-2222222\"\n",
        "check_id(a)\n",
        "2000년 이후 출생자 입니까? 맞으면 o 아니면 x : x\n",
        "00년06월 여자\n",
        "```"
      ],
      "metadata": {
        "id": "jd1NFYJMoC1S"
      }
    },
    {
      "cell_type": "markdown",
      "source": [
        "### 시도1"
      ],
      "metadata": {
        "id": "KPhf4S6HGhU9"
      }
    },
    {
      "cell_type": "code",
      "execution_count": 15,
      "metadata": {
        "id": "JEMaZDNSk5Ji",
        "colab": {
          "base_uri": "https://localhost:8080/"
        },
        "outputId": "863a2f0f-a920-421a-8e1a-3903f94152d6"
      },
      "outputs": [
        {
          "output_type": "stream",
          "name": "stdout",
          "text": [
            "98년생 03월 여자\n",
            "\n"
          ]
        }
      ],
      "source": [
        "import re\n",
        "# 980322-2150916\n",
        "# 0123456789 ~13\n",
        "\n",
        "def check_id(id) :\n",
        "  if id[6] == \"-\" and id[0:7].count(\"-\") ==1 and len(id) == 14: # (주민번호 정상 여부 확인) 6번째에 \"-\"을 포함하고, \"-\"는 한번만 쓰였으며, 길이가 14자인 번호 \n",
        "      n1 = \"\\n\"\n",
        "      if id[7] == \"1\" or id[7] == \"3\" :    # (주민번호 남/녀 확인) 정상인 주민번호 중 남자인 경우 | 주민번호가 string 타입인 것 주의\n",
        "        print(f\"{id[0:2]}년생 {id[2:4]}월 남자{n1}\")\n",
        "      elif id[7] == \"2\" or id[7] == \"4\" :   # (주민번호 남/녀 확인) 정상인 주민번호 중 여자인 경우 | 주민번호가 string 타입인 것 주의\n",
        "        print(f\"{id[0:2]}년생 {id[2:4]}월 여자{n1}\")\n",
        "\n",
        "\n",
        "check_id(\"980322-2150916\")"
      ]
    },
    {
      "cell_type": "markdown",
      "source": [
        "### 시도2 (디버깅하면서 진행)"
      ],
      "metadata": {
        "id": "rRdxQ0_jGjnM"
      }
    },
    {
      "cell_type": "code",
      "source": [
        "#- 주민등록번호는 6자리 이후에 -로 구분되어야 하고 길이는 -포함 14임\n",
        "#- 뒷자리는 1,3 은 남자 2,4는 여자\n",
        "#- 00 ~ 21로 시작할 경우 2000년 이후 출생자인지 물어 볼 것 (맞으면 o 틀리면 x)\n",
        "#- 뒷자리 3, 4를 가질 수 있는 사람은 00년생 이후 출생자 밖에 없음\n",
        "#<br/><br/>\n",
        "\n",
        "### 주민등록번호 조건을 만족하지 않는 수가 입력되면 \"잘 못된 번호입니다\"를 출력해주세요.\n",
        "\n",
        "import re\n",
        "\n",
        "def check_id(id) :\n",
        "  if id[6] == \"-\" and id[0:7].count(\"-\") ==1 and len(id) == 14: # (주민번호 정상 여부 확인) 6번째에 \"-\"을 포함하고, \"-\"는 한번만 쓰였으며, 길이가 14자인 번호 \n",
        "\n",
        "      n1 = \"\\n\"\n",
        "      if id[7] == \"1\" :    # (주민번호 남/녀 확인) 정상인 주민번호 중 남자인 경우 | 주민번호가 string 타입인 것 주의\n",
        "        print(f\"{id[0:2]}년생 {id[2:4]}월 남자{n1}\")\n",
        "        \n",
        "      elif id[7] == \"2\" :   # (주민번호 남/녀 확인) 정상인 주민번호 중 여자인 경우 | 주민번호가 string 타입인 것 주의\n",
        "        print(f\"{id[0:2]}년생 {id[2:4]}월 여자{n1}\") \n",
        "        \n",
        "\n",
        "      if int(id[0:2]) >= 0 and int(id[0:2]) < 22:    # 00~21 범위 지정을 위해 int 로 변환     #여기 잘 모르겠음\n",
        "\n",
        "        young = input(\"2000년 이후 출생자 입니까? 맞으면 o 아니면 x :\")\n",
        "\n",
        "        if young == \"o\" and id[7] == \"3\" :\n",
        "          print(f\"{id[0:2]}년생 {id[2:4]}월 남자{n1}\")   # (주민번호 남/녀 확인) 정상인 주민번호 중 남자인 경우 | 주민번호가 string 타입인 것 주의\n",
        "\n",
        "        elif young == \"o\" and id[7] != \"3\" :\n",
        "          print(f\"잘못된 번호입니다.{n1}올바른 번호를 넣어주세요.\")   # (주민번호 남/녀 확인) 정상인 주민번호 중 남자인 경우 | 주민번호가 string 타입인 것 주의  \n",
        "            \n",
        "        elif young == \"o\" and id[7] == \"4\" :   # (주민번호 남/녀 확인) 정상인 주민번호 중 여자인 경우 | 주민번호가 string 타입인 것 주의\n",
        "          print(f\"{id[0:2]}년생 {id[2:4]}월 여자{n1}\")\n",
        "\n",
        "        elif young == \"o\" and id[7] != \"4\" :   # (주민번호 남/녀 확인) 정상인 주민번호 중 여자인 경우 | 주민번호가 string 타입인 것 주의\n",
        "          print(f\"잘못된 번호입니다.{n1}올바른 번호를 넣어주세요.\")\n",
        "\n",
        "        elif young == \"x\":\n",
        "          print(f\"잘못된 번호입니다.{n1}올바른 번호를 넣어주세요.\")\n",
        "\n",
        "  else :\n",
        "    print(f\"잘못된 번호입니다.{n1}올바른 번호를 넣어주세요.\")"
      ],
      "metadata": {
        "id": "M_WYQBzc329O"
      },
      "execution_count": 53,
      "outputs": []
    },
    {
      "cell_type": "code",
      "source": [
        "'''\n",
        "a = \"500629-2222222\"\n",
        "check_id(a)\n",
        "50년06월 여자\n",
        "\n",
        "a = \"000629-2222222\"\n",
        "check_id(a)\n",
        "2000년 이후 출생자 입니까? 맞으면 o 아니면 x : o\n",
        "잘못된 번호입니다.\n",
        "올바른 번호를 넣어주세요\n",
        "\n",
        "a = \"000629-2222222\"\n",
        "check_id(a)\n",
        "2000년 이후 출생자 입니까? 맞으면 o 아니면 x : x\n",
        "00년06월 여자\n",
        "'''"
      ],
      "metadata": {
        "id": "--8FBobADniH"
      },
      "execution_count": null,
      "outputs": []
    },
    {
      "cell_type": "code",
      "source": [
        "id = \"980322-2150916\"\n",
        "id[7]"
      ],
      "metadata": {
        "colab": {
          "base_uri": "https://localhost:8080/",
          "height": 35
        },
        "id": "zxc8CF840GhO",
        "outputId": "e5772c07-5aca-4ab3-825b-e6626fd89af9"
      },
      "execution_count": 14,
      "outputs": [
        {
          "output_type": "execute_result",
          "data": {
            "text/plain": [
              "'2'"
            ],
            "application/vnd.google.colaboratory.intrinsic+json": {
              "type": "string"
            }
          },
          "metadata": {},
          "execution_count": 14
        }
      ]
    },
    {
      "cell_type": "code",
      "source": [
        "list = []\n",
        "for i in range(0,22):\n",
        "  list.append(i)\n",
        "list = str(list)\n",
        "print(list)"
      ],
      "metadata": {
        "colab": {
          "base_uri": "https://localhost:8080/"
        },
        "id": "6csul43s4bpl",
        "outputId": "9126326b-7047-4b0b-afbf-b19db80cd8b6"
      },
      "execution_count": 30,
      "outputs": [
        {
          "output_type": "stream",
          "name": "stdout",
          "text": [
            "[0, 1, 2, 3, 4, 5, 6, 7, 8, 9, 10, 11, 12, 13, 14, 15, 16, 17, 18, 19, 20, 21]\n"
          ]
        }
      ]
    },
    {
      "cell_type": "code",
      "source": [
        "type(list)"
      ],
      "metadata": {
        "colab": {
          "base_uri": "https://localhost:8080/"
        },
        "id": "HON3Jz7g5NPu",
        "outputId": "3e58e58d-36d7-4fb0-a9ad-cb4d7109fcaa"
      },
      "execution_count": 31,
      "outputs": [
        {
          "output_type": "execute_result",
          "data": {
            "text/plain": [
              "str"
            ]
          },
          "metadata": {},
          "execution_count": 31
        }
      ]
    },
    {
      "cell_type": "markdown",
      "source": [
        "### 🔥🔥🔥 Q4 정답 코드"
      ],
      "metadata": {
        "id": "cUarr73gGt9S"
      }
    },
    {
      "cell_type": "code",
      "source": [
        "# 주민등록번호는 6자리 이후에 -로 구분되어야 하고 길이는 -포함 14임\n",
        "# 뒷자리는 1,3 은 남자 2,4는 여자\n",
        "# 00 ~ 21로 시작할 경우 2000년 이후 출생자인지 물어 볼 것 (맞으면 o 틀리면 x)\n",
        "# 뒷자리 3, 4를 가질 수 있는 사람은 00년생 이후 출생자 밖에 없음\n",
        "\n",
        "###주민등록번호 조건을 만족하지 않는 수가 입력되면 \"잘못된 번호입니다\"를 출력해주세요.\n",
        "#----------------------------------------------------------------------------------------------\n",
        "\n",
        "# 주민번호가 string 타입인 것 주의\n",
        "'''#여기서 if 문이 왜 돌아가는지 헷갈렸음 <- 이 문구 확인''' \n",
        "\n",
        "def check_id(id) :\n",
        "  if id[6] == \"-\" and id[0:7].count(\"-\") ==1 and len(id) == 14:                         \n",
        "  # (주민번호 정상 여부 확인) 6번째에 \"-\"을 포함하고, \"-\"는 한번만 쓰였으며, 길이가 14자인 번호 \n",
        "\n",
        "      n1 = \"\\n\"\n",
        "\n",
        "      if int(id[0:2]) >=22 and int(id[0:2]) <= 99:\n",
        "        if id[7] == \"1\" :                                                                 \n",
        "          print(f\"{id[0:2]}년생 {id[2:4]}월 남자{n1}\")\n",
        "          # 00년생 이전 연생이면서 남자인 경우\n",
        "        \n",
        "        elif id[7] == \"2\" :   \n",
        "          print(f\"{id[0:2]}년생 {id[2:4]}월 여자{n1}\") \n",
        "          # 00년생 이전 연생이면서 여자인 경우\n",
        "\n",
        "        elif id[7] != \"1\" or id[7] != \"2\":    \n",
        "          print(f\"잘못된 번호입니다.{n1}올바른 번호를 넣어주세요.\")\n",
        "          # 00년생 이전 연생인데, 성별 구분이 틀린 경우(성별 구분이 1,2가 아닌 경우)\n",
        "\n",
        "      if int(id[0:2]) >= 0 and int(id[0:2]) < 22:    \n",
        "        # 00~21 범위 지정을 위해 int 로 변환      \n",
        "        '''#여기서 if 문이 왜 돌아가는지 헷갈렸음'''\n",
        "        # 00년생~21년생인 경우\n",
        "\n",
        "        young = input(\"2000년 이후 출생자 입니까? 맞으면 o 아니면 x :\")\n",
        "        # input값 받기\n",
        "\n",
        "        if young == \"o\" and id[7] == \"3\" :\n",
        "          print(f\"{id[0:2]}년생 {id[2:4]}월 남자{n1}\")  \n",
        "          # 00년생~21년생이면서, 질문에 맞게 대답하고, 성별 구분이 3인 경우\n",
        "\n",
        "        elif young == \"o\" and id[7] == \"4\" :   \n",
        "          print(f\"{id[0:2]}년생 {id[2:4]}월 여자{n1}\")\n",
        "          # 00년생~21년생이면서, 질문에 맞게 대답하고, 성별 구분이 4인 경우\n",
        "\n",
        "        elif young == \"o\" and id[7] != \"3\" or id[7] != \"4\":\n",
        "          print(f\"잘못된 번호입니다.{n1}올바른 번호를 넣어주세요.\")   \n",
        "          # 00년생~21년생이면서, 질문에 맞게 대답했지만, 성별 구분이 3,4가 아닌 경우 \n",
        "\n",
        "        elif young == \"x\":\n",
        "          print(f\"잘못된 번호입니다.{n1}올바른 번호를 넣어주세요.\")\n",
        "          # 00년생~21년생이지만, 질문에 틀리게 대답한 경우\n",
        "\n",
        "  else :\n",
        "    print(f\"잘못된 번호입니다.{n1}올바른 번호를 넣어주세요.\")\n",
        "    # 주민번호가 정상적으로 입력되지 않은 경우\n",
        "    # 주민번호 정상 조건 : 6번째에 \"-\"을 포함하고, \"-\"는 한번만 쓰였으며, 길이가 14자인 번호 "
      ],
      "metadata": {
        "id": "W1w5KB1WGBoU"
      },
      "execution_count": 87,
      "outputs": []
    },
    {
      "cell_type": "code",
      "source": [
        "'''\n",
        "a = \"500629-2222222\"\n",
        "check_id(a)\n",
        "50년06월 여자\n",
        "\n",
        "a = \"000629-2222222\"\n",
        "check_id(a)\n",
        "2000년 이후 출생자 입니까? 맞으면 o 아니면 x : o\n",
        "잘못된 번호입니다.\n",
        "올바른 번호를 넣어주세요\n",
        "\n",
        "a = \"000629-2222222\"\n",
        "check_id(a)\n",
        "2000년 이후 출생자 입니까? 맞으면 o 아니면 x : x\n",
        "00년06월 여자\n",
        "'''"
      ],
      "metadata": {
        "colab": {
          "base_uri": "https://localhost:8080/",
          "height": 54
        },
        "id": "D_3hsRQiHm-2",
        "outputId": "1815ebb6-82cc-4732-c1b8-fa6ceb41d030"
      },
      "execution_count": 88,
      "outputs": [
        {
          "output_type": "execute_result",
          "data": {
            "text/plain": [
              "'\\na = \"500629-2222222\"\\ncheck_id(a)\\n50년06월 여자\\n\\na = \"000629-2222222\"\\ncheck_id(a)\\n2000년 이후 출생자 입니까? 맞으면 o 아니면 x : o\\n잘못된 번호입니다.\\n올바른 번호를 넣어주세요\\n\\na = \"000629-2222222\"\\ncheck_id(a)\\n2000년 이후 출생자 입니까? 맞으면 o 아니면 x : x\\n00년06월 여자\\n'"
            ],
            "application/vnd.google.colaboratory.intrinsic+json": {
              "type": "string"
            }
          },
          "metadata": {},
          "execution_count": 88
        }
      ]
    },
    {
      "cell_type": "code",
      "source": [
        "# 00~21년이 아니면서 성별구분으로 1,2를 쓴 경우\n",
        "# 성별 구분 : 1\n",
        "# 결과: 정상 출력\n",
        "'''\n",
        "# 00~21년생 성별 구분 [3 : 남자, 4 : 여자]\n",
        "# 00년 이전 성별 구분 [1 : 남자, 2 : 여자]\n",
        "'''\n",
        "\n",
        "a = \"500629-1222222\"\n",
        "check_id(a)"
      ],
      "metadata": {
        "colab": {
          "base_uri": "https://localhost:8080/"
        },
        "id": "WOCQfpA3Dt8u",
        "outputId": "ad10dd42-4611-4064-a991-2a04d0debabf"
      },
      "execution_count": 91,
      "outputs": [
        {
          "output_type": "stream",
          "name": "stdout",
          "text": [
            "50년생 06월 남자\n",
            "\n"
          ]
        }
      ]
    },
    {
      "cell_type": "code",
      "source": [
        "# 00~21년이 아니면서 성별구분으로 1,2를 쓴 경우\n",
        "# 성별 구분 : 2\n",
        "# 결과: 정상 출력\n",
        "'''\n",
        "# 00~21년생 성별 구분 [3 : 남자, 4 : 여자]\n",
        "# 00년 이전 성별 구분 [1 : 남자, 2 : 여자]\n",
        "'''\n",
        "\n",
        "a = \"500629-2222222\"\n",
        "check_id(a)"
      ],
      "metadata": {
        "colab": {
          "base_uri": "https://localhost:8080/"
        },
        "id": "TECU0J4QH2RF",
        "outputId": "0d686718-30db-4b4a-eea2-0f9df1cae856"
      },
      "execution_count": 92,
      "outputs": [
        {
          "output_type": "stream",
          "name": "stdout",
          "text": [
            "50년생 06월 여자\n",
            "\n"
          ]
        }
      ]
    },
    {
      "cell_type": "code",
      "source": [
        "# 00~21년이 아닌데 성별구분으로 3,4를 쓴 경우\n",
        "# 성별 구분 : 3\n",
        "# 결과 : 잘못된 번호 메시지 출력\n",
        "'''\n",
        "# 00~21년생 성별 구분 [3 : 남자, 4 : 여자]\n",
        "# 00년 이전 성별 구분 [1 : 남자, 2 : 여자]\n",
        "'''\n",
        "\n",
        "a = \"500629-3222222\"\n",
        "check_id(a)"
      ],
      "metadata": {
        "colab": {
          "base_uri": "https://localhost:8080/"
        },
        "id": "QRpc9hzdJthe",
        "outputId": "9871b081-39d1-40aa-d524-ee75a6fd584c"
      },
      "execution_count": 93,
      "outputs": [
        {
          "output_type": "stream",
          "name": "stdout",
          "text": [
            "잘못된 번호입니다.\n",
            "올바른 번호를 넣어주세요.\n"
          ]
        }
      ]
    },
    {
      "cell_type": "code",
      "source": [
        "# 00~21년이 아닌데 성별구분으로 3,4를 쓴 경우\n",
        "# 성별 구분 : 4\n",
        "# 결과 : 잘못된 번호 메시지 출력\n",
        "'''\n",
        "# 00~21년생 성별 구분 [3 : 남자, 4 : 여자]\n",
        "# 00년 이전 성별 구분 [1 : 남자, 2 : 여자]\n",
        "'''\n",
        "\n",
        "a = \"500629-4222222\"\n",
        "check_id(a)"
      ],
      "metadata": {
        "colab": {
          "base_uri": "https://localhost:8080/"
        },
        "id": "pfkZHEvEQFJ6",
        "outputId": "fa48b150-2b5c-4929-deed-6155409f5ca0"
      },
      "execution_count": 94,
      "outputs": [
        {
          "output_type": "stream",
          "name": "stdout",
          "text": [
            "잘못된 번호입니다.\n",
            "올바른 번호를 넣어주세요.\n"
          ]
        }
      ]
    },
    {
      "cell_type": "code",
      "source": [
        "# 2000년 이후 출생자 입니까? 맞으면 o 아니면 x :o  <- o 로 대답\n",
        "# 00~21년생이면서 성별구분으로 성별구분으로 3,4를 쓴 경우\n",
        "# 결과: 정상 출력\n",
        "'''\n",
        "# 00~21년생 성별 구분 [3 : 남자, 4 : 여자]\n",
        "# 00년 이전 성별 구분 [1 : 남자, 2 : 여자]\n",
        "'''\n",
        "\n",
        "a = \"000629-3222222\" \n",
        "check_id(a)"
      ],
      "metadata": {
        "colab": {
          "base_uri": "https://localhost:8080/"
        },
        "id": "ij3tdEdzDwry",
        "outputId": "d722664b-3075-4042-cf8d-051e1bd764a8"
      },
      "execution_count": 95,
      "outputs": [
        {
          "output_type": "stream",
          "name": "stdout",
          "text": [
            "2000년 이후 출생자 입니까? 맞으면 o 아니면 x :o\n",
            "00년생 06월 남자\n",
            "\n"
          ]
        }
      ]
    },
    {
      "cell_type": "code",
      "source": [
        "# 2000년 이후 출생자 입니까? 맞으면 o 아니면 x :o  <- o 로 대답\n",
        "# 00~21년생이면서 성별구분으로 성별구분으로 3,4를 쓴 경우\n",
        "# 결과: 정상 출력\n",
        "'''\n",
        "# 00~21년생 성별 구분 [3 : 남자, 4 : 여자]\n",
        "# 00년 이전 성별 구분 [1 : 남자, 2 : 여자]\n",
        "'''\n",
        "\n",
        "a = \"000629-4222222\" \n",
        "check_id(a)"
      ],
      "metadata": {
        "colab": {
          "base_uri": "https://localhost:8080/"
        },
        "id": "6tzM13cWE73W",
        "outputId": "5e8af2c7-2b0e-4627-84bb-692db383692c"
      },
      "execution_count": 96,
      "outputs": [
        {
          "output_type": "stream",
          "name": "stdout",
          "text": [
            "2000년 이후 출생자 입니까? 맞으면 o 아니면 x :o\n",
            "00년생 06월 여자\n",
            "\n"
          ]
        }
      ]
    },
    {
      "cell_type": "code",
      "source": [
        "# 2000년 이후 출생자 입니까? 맞으면 o 아니면 x :x  <- x 로 대답\n",
        "# 00~21년생이면서 성별구분으로 성별구분으로 3,4를 썼지만 질문에 잘못 대답한 경우\n",
        "# 결과 : 잘못된 번호 메시지 출력\n",
        "'''\n",
        "# 00~21년생 성별 구분 [3 : 남자, 4 : 여자]\n",
        "# 00년 이전 성별 구분 [1 : 남자, 2 : 여자]\n",
        "'''\n",
        "\n",
        "a = \"000629-3222222\" \n",
        "check_id(a)"
      ],
      "metadata": {
        "colab": {
          "base_uri": "https://localhost:8080/"
        },
        "id": "6Ht3gqBdIT1v",
        "outputId": "bd4affd9-1697-4e69-f705-82f075633b63"
      },
      "execution_count": 97,
      "outputs": [
        {
          "output_type": "stream",
          "name": "stdout",
          "text": [
            "2000년 이후 출생자 입니까? 맞으면 o 아니면 x :x\n",
            "잘못된 번호입니다.\n",
            "올바른 번호를 넣어주세요.\n"
          ]
        }
      ]
    },
    {
      "cell_type": "code",
      "source": [
        "# 2000년 이후 출생자 입니까? 맞으면 o 아니면 x :x  <- x 로 대답\n",
        "# 00~21년생이면서 성별구분으로 성별구분으로 3,4를 썼지만 질문에 잘못 대답한 경우\n",
        "# 결과 : 잘못된 번호 메시지 출력\n",
        "'''\n",
        "# 00~21년생 성별 구분 [3 : 남자, 4 : 여자]\n",
        "# 00년 이전 성별 구분 [1 : 남자, 2 : 여자]\n",
        "'''\n",
        "\n",
        "a = \"000629-4222222\" \n",
        "check_id(a)"
      ],
      "metadata": {
        "colab": {
          "base_uri": "https://localhost:8080/"
        },
        "id": "cHHJUWkDIibd",
        "outputId": "88cfca48-8084-4c97-a900-f1b2c8285994"
      },
      "execution_count": 98,
      "outputs": [
        {
          "output_type": "stream",
          "name": "stdout",
          "text": [
            "2000년 이후 출생자 입니까? 맞으면 o 아니면 x :x\n",
            "잘못된 번호입니다.\n",
            "올바른 번호를 넣어주세요.\n"
          ]
        }
      ]
    },
    {
      "cell_type": "code",
      "source": [
        "# 2000년 이후 출생자 입니까? 맞으면 o 아니면 x :o  <- o 로 대답\n",
        "# 00~21년생이면서 성별구분으로 성별구분으로 1,2를 쓴 경우\n",
        "# 성별 구분 : 1\n",
        "# 결과 : 잘못된 번호 메시지 출력\n",
        "'''\n",
        "# 00~21년생 성별 구분 [3 : 남자, 4 : 여자]\n",
        "# 00년 이전 성별 구분 [1 : 남자, 2 : 여자]\n",
        "'''\n",
        "\n",
        "a = \"000629-1222222\" \n",
        "check_id(a)"
      ],
      "metadata": {
        "colab": {
          "base_uri": "https://localhost:8080/"
        },
        "id": "mqTOGRDPH7ev",
        "outputId": "17c3d344-c8ca-4602-c8c9-086d70d04751"
      },
      "execution_count": 99,
      "outputs": [
        {
          "output_type": "stream",
          "name": "stdout",
          "text": [
            "2000년 이후 출생자 입니까? 맞으면 o 아니면 x :o\n",
            "잘못된 번호입니다.\n",
            "올바른 번호를 넣어주세요.\n"
          ]
        }
      ]
    },
    {
      "cell_type": "code",
      "source": [
        "# 2000년 이후 출생자 입니까? 맞으면 o 아니면 x :o  <- o 로 대답\n",
        "# 00~21년생이면서 성별구분으로 성별구분으로 1,2를 쓴 경우\n",
        "# 성별 구분 : 2\n",
        "# 결과 : 잘못된 번호 메시지 출력\n",
        "'''\n",
        "# 00~21년생 성별 구분 [3 : 남자, 4 : 여자]\n",
        "# 00년 이전 성별 구분 [1 : 남자, 2 : 여자]\n",
        "'''\n",
        "\n",
        "a = \"000629-2222222\"\n",
        "check_id(a)"
      ],
      "metadata": {
        "colab": {
          "base_uri": "https://localhost:8080/"
        },
        "id": "K1qPYoxXI03S",
        "outputId": "a0c4c585-b047-448a-99f9-02fd513a9c4a"
      },
      "execution_count": 100,
      "outputs": [
        {
          "output_type": "stream",
          "name": "stdout",
          "text": [
            "2000년 이후 출생자 입니까? 맞으면 o 아니면 x :o\n",
            "잘못된 번호입니다.\n",
            "올바른 번호를 넣어주세요.\n"
          ]
        }
      ]
    }
  ]
}