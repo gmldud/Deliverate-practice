{
  "nbformat": 4,
  "nbformat_minor": 0,
  "metadata": {
    "colab": {
      "name": "sayi_10team_희영_5주차미션.ipynb",
      "provenance": [],
      "collapsed_sections": [
        "qW8XRs9W4EyP",
        "wQSvJasK3yr8",
        "zcKbm0VB32bA",
        "FGnK5iIo3-1A",
        "MOwUExLv5LhI",
        "ajTeMVEyRW-n",
        "NrFgOrMxRazp",
        "GnTz4cJkbEeS"
      ],
      "authorship_tag": "ABX9TyNHBP7gXulCk3/1kPdugsLI",
      "include_colab_link": true
    },
    "kernelspec": {
      "name": "python3",
      "display_name": "Python 3"
    },
    "language_info": {
      "name": "python"
    }
  },
  "cells": [
    {
      "cell_type": "markdown",
      "metadata": {
        "id": "view-in-github",
        "colab_type": "text"
      },
      "source": [
        "<a href=\"https://colab.research.google.com/github/gmldud/Deliverate_Practice/blob/main/sayi_10team_%ED%9D%AC%EC%98%81_5%EC%A3%BC%EC%B0%A8%EB%AF%B8%EC%85%98.ipynb\" target=\"_parent\"><img src=\"https://colab.research.google.com/assets/colab-badge.svg\" alt=\"Open In Colab\"/></a>"
      ]
    },
    {
      "cell_type": "markdown",
      "source": [
        "# 👩🏻‍💻👩🏻‍💻👩🏻‍💻 답안 코드"
      ],
      "metadata": {
        "id": "3YewIedp7SBA"
      }
    },
    {
      "cell_type": "markdown",
      "source": [
        "# 👩🏻‍💻👩🏻‍💻👩🏻‍💻 연습 코드"
      ],
      "metadata": {
        "id": "jqr-ANDx7Fgv"
      }
    },
    {
      "cell_type": "markdown",
      "source": [
        "###📌Q1. 여러분 혹시 베스킨라빈스31 게임을 아시나요? 1부터 31까지 숫자를 플레이어들끼리 번갈아 외치다가 31을 외치는 사람이 패배하는 게임인데요.\n",
        "\n",
        "###이번엔 이 게임을 파이썬 함수로 만들어 봅시다. 지성이 없이 숫자를 랜덤하게 외치는 컴퓨터와 대결을 해보겠습니다.\n",
        "\n",
        "- 😲조건1 - 나의 턴에서는 숫자를 직접 입력하며 한 번 입력 후에 space 한 번으로 구분\n",
        "\n",
        "  - Ex)\n",
        "\n",
        "```\n",
        "my = input(\"My turn - 숫자를 입력하세요: \")\n",
        "1 2 3\n",
        "```\n",
        "\n",
        "- 😲조건2 - 나와 컴퓨터 모두 한 턴에 1회 ~ 3회까지만 숫자를 외칠 수 있음\n",
        "\n",
        "- 😲조건3 - 외쳐진 숫자보다 1큰 수만 외칠수 있음 (ex: 5 다음엔 무조건 6)\n",
        "\n",
        "  - 위 조건이 안맞을 경우 다시 입력\n",
        "- 🧐hint\n",
        "\n",
        "```\n",
        "# 컴퓨터가 1~3회 중에서 몇 번을 시도할 것인지 랜덤하게 고르는 방법\n",
        "import random \n",
        "computer_turn_num = random.randint(1,3)\n",
        "\n",
        "# 첫번째를 나타내는 인덱스 0, 마지막을 나타내는 인덱스 -1\n",
        "example = [1,2,3]\n",
        "print(example[0]) # 1\n",
        "print(example[-1] # 3 \n",
        "```\n",
        "- 🔽출력 예시\n",
        "\n",
        "```\n",
        "bs31()\n",
        "\n",
        "베스킨라빈스 써리원 게임\n",
        "------------------\n",
        "My turn - 숫자를 입력하세요: 1 2 3\n",
        "현재 숫자 : 3\n",
        "컴퓨터 : 4\n",
        "현재 숫자 : 4\n",
        "\n",
        "My turn - 숫자를 입력하세요: 5\n",
        "현재 숫자 : 5\n",
        "컴퓨터 : 6\n",
        "컴퓨터 : 7\n",
        "현재 숫자 : 7\n",
        "\n",
        "...\n",
        "```"
      ],
      "metadata": {
        "id": "qnYpBJA6lH72"
      }
    },
    {
      "cell_type": "markdown",
      "source": [
        "###📌Q2. 다음과 같이 학생들의 시험 답지가 있습니다. 그리고 답안지도 있습니다.\n",
        "\n",
        "###함수를 하나 만들어 채점을 하고 학생들의 점수를 출력하고 등수도 함께 출력해주세요.\n",
        "```\n",
        "# 학생 답\n",
        "s = [\"김갑,3242524215\",\n",
        "\"이을,3242524223\",\n",
        "\"박병,2242554131\",\n",
        "\"최정,4245242315\",\n",
        "\"정무,3242524315\"]\n",
        "\n",
        "# 정답지\n",
        "a = [3,2,4,2,5,2,4,3,1,2]\n",
        "```\n",
        "- 🧐hint\n",
        "\n",
        "```\n",
        "# 문자열도 숫자 정렬 가능\n",
        "a = [\"5\",\"2\",\"3\"]\n",
        "a.sort()\n",
        "[\"2\", \"3\", \"5\"]\n",
        "# 내림차순 정렬 가능\n",
        "a.sort(reverse=True)\n",
        "[\"5\", \"3\", \"2\"]\n",
        "```\n",
        "- 🔽출력 예시\n",
        "\n",
        "```\n",
        "grader(s, a)\n",
        "학생: 정무 점수: 90점 1등\n",
        "학생: 김갑 점수: 80점 2등\n",
        "학생: 이을 점수: 70점 3등\n",
        "학생: 박병 점수: 50점 4등\n",
        "학생: 최정 점수: 40점 5등\n",
        "```"
      ],
      "metadata": {
        "id": "j6gy1Dx1l15Q"
      }
    },
    {
      "cell_type": "markdown",
      "source": [
        "### 📌Q3. 숫자 맞추기 게임을 만들어 볼게요. 컴퓨터가 임의의 숫자를 3개 만들고 우리가 그것을 맞춰보겠습니다.\n",
        "- 😲조건1 - 숫자는 0 ~ 100까지 숫자를 3개 만듭니다(중복 불가).\n",
        "- 😲조건2 - 5회, 10회까지 정답을 못맞추면 최솟값, 최대값에 대한 힌트를 줍니다.\n",
        "- 😲조건3 - 정답을 맞추면, 맞춘 정답이 최솟값인지, 중간값인지, 최댓값인지 알려줍니다.\n",
        "\n",
        "```\n",
        "import random\n",
        "number = random.randint(0, 100)\n",
        "```\n",
        "- 🔽출력 예시\n",
        "\n",
        "```\n",
        "guess_numbers()\n",
        "\n",
        "1차 시도\n",
        "숫자를 예측해보세요 : 39\n",
        "숫자를 맞추셨습니다! 39는 최솟값입니다.\n",
        "2차 시도\n",
        "숫자를 예측해보세요 : 48\n",
        "숫자를 맞추셨습니다! 48은 중간값입니다.\n",
        "3차 시도\n",
        "숫자를 예측해보세요 : 100\n",
        "숫자를 맞추셨습니다! 100는 최댓값입니다.\n",
        "게임종료\n",
        "3번 시도만에 예측 성공\n",
        "\n",
        "...\n",
        "5차 시도\n",
        "숫자를 예측해보세요 : 9\n",
        "9는 없습니다\n",
        "최솟값은 9보다 작습니다\n",
        "6차 시도\n",
        "숫자를 예측해보세요 : 9\n",
        "이미 예측에 사용한 숫자입니다\n",
        "6차 시도\n",
        "```"
      ],
      "metadata": {
        "id": "286JKcmYmVcz"
      }
    },
    {
      "cell_type": "markdown",
      "source": [
        "### 📌Q4. 오늘 애인이 생겼다고 해봅시다. 100일을 기념하고 싶은데요.\n",
        "\n",
        "### 날짜를 넣으면 100일 뒤가 몇월 며칠인지 계산해주는 함수를 만들어 보겠습니다.\n",
        "- 😲조건1 - \"오늘부터 1일\"이기 때문에 날짜를 계산할 때 오늘을 포함합니다\n",
        "- 😲조건2 - 몇년도인지 구분하지 않고 윤년도 고려하지 않고 2월은 무조건 28일로 합니다.\n",
        "- 🧐hint\n",
        "\n",
        "```\n",
        "# 특정 원소의 위치를 찾는 방법\n",
        "a = [1,2,3,4]\n",
        "a.index(1)\n",
        "0\n",
        "```\n",
        "\n",
        "- 🔽출력 예시\n",
        "\n",
        "```\n",
        "after_100(6,21,\"월\")\n",
        "6월 21일 월요일부터 100일 뒤는 9월 28일 화요일\n",
        "```"
      ],
      "metadata": {
        "id": "jd1NFYJMoC1S"
      }
    }
  ]
}