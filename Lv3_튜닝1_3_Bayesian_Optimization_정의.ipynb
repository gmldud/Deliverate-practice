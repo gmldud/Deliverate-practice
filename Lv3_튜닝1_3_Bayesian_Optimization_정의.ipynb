{
  "nbformat": 4,
  "nbformat_minor": 0,
  "metadata": {
    "colab": {
      "name": "Lv3 튜닝1/3 Bayesian Optimization 정의",
      "provenance": [],
      "collapsed_sections": [],
      "include_colab_link": true
    },
    "kernelspec": {
      "name": "python3",
      "display_name": "Python 3"
    },
    "language_info": {
      "name": "python"
    }
  },
  "cells": [
    {
      "cell_type": "markdown",
      "metadata": {
        "id": "view-in-github",
        "colab_type": "text"
      },
      "source": [
        "<a href=\"https://colab.research.google.com/github/gmldud/Deliverate_Practice/blob/main/Lv3_%ED%8A%9C%EB%8B%9D1_3_Bayesian_Optimization_%EC%A0%95%EC%9D%98.ipynb\" target=\"_parent\"><img src=\"https://colab.research.google.com/assets/colab-badge.svg\" alt=\"Open In Colab\"/></a>"
      ]
    },
    {
      "cell_type": "markdown",
      "metadata": {
        "id": "vIpjpOEXsoW0"
      },
      "source": [
        "# [↩️ 리스트로 돌아가기](https://dacon.io/competitions/open/235698/overview/description)"
      ]
    },
    {
      "cell_type": "markdown",
      "metadata": {
        "id": "cdkhATahdXka"
      },
      "source": [
        "# 셀을 실행할 때 팝업이 뜨면 `무시하고 계속하기` 를 눌러주세요\n"
      ]
    },
    {
      "cell_type": "markdown",
      "metadata": {
        "id": "Njt0HrWtCfg2"
      },
      "source": [
        "## 데이터 다운로드\n",
        "---\n",
        "아래 셀을 실행시켜 데이터를 colab 에 불러옵니다.\n",
        "셀 실행은 Ctrl + Enter 를 이용해 실행시킬 수 있습니다."
      ]
    },
    {
      "cell_type": "markdown",
      "metadata": {
        "id": "ZksEbPou52yW"
      },
      "source": [
        "## 👋 실습\n",
        "---"
      ]
    },
    {
      "cell_type": "code",
      "metadata": {
        "id": "qCZXTz5vLCWt",
        "outputId": "99addc1e-2c47-431b-e2f2-110be47c88ed",
        "colab": {
          "base_uri": "https://localhost:8080/"
        }
      },
      "source": [
        "# bayesian-optimization을 설치해보세요\n",
        "!pip install bayesian-optimization"
      ],
      "execution_count": 1,
      "outputs": [
        {
          "output_type": "stream",
          "name": "stdout",
          "text": [
            "Looking in indexes: https://pypi.org/simple, https://us-python.pkg.dev/colab-wheels/public/simple/\n",
            "Collecting bayesian-optimization\n",
            "  Downloading bayesian-optimization-1.2.0.tar.gz (14 kB)\n",
            "Requirement already satisfied: numpy>=1.9.0 in /usr/local/lib/python3.7/dist-packages (from bayesian-optimization) (1.21.6)\n",
            "Requirement already satisfied: scipy>=0.14.0 in /usr/local/lib/python3.7/dist-packages (from bayesian-optimization) (1.7.3)\n",
            "Requirement already satisfied: scikit-learn>=0.18.0 in /usr/local/lib/python3.7/dist-packages (from bayesian-optimization) (1.0.2)\n",
            "Requirement already satisfied: joblib>=0.11 in /usr/local/lib/python3.7/dist-packages (from scikit-learn>=0.18.0->bayesian-optimization) (1.1.0)\n",
            "Requirement already satisfied: threadpoolctl>=2.0.0 in /usr/local/lib/python3.7/dist-packages (from scikit-learn>=0.18.0->bayesian-optimization) (3.1.0)\n",
            "Building wheels for collected packages: bayesian-optimization\n",
            "  Building wheel for bayesian-optimization (setup.py) ... \u001b[?25l\u001b[?25hdone\n",
            "  Created wheel for bayesian-optimization: filename=bayesian_optimization-1.2.0-py3-none-any.whl size=11685 sha256=993bd4dfd2afc1a85b7e878f3d638d0542c4e9de20d1819d10607cd56ec66628\n",
            "  Stored in directory: /root/.cache/pip/wheels/fd/9b/71/f127d694e02eb40bcf18c7ae9613b88a6be4470f57a8528c5b\n",
            "Successfully built bayesian-optimization\n",
            "Installing collected packages: bayesian-optimization\n",
            "Successfully installed bayesian-optimization-1.2.0\n"
          ]
        }
      ]
    },
    {
      "cell_type": "code",
      "metadata": {
        "id": "6aDX-gb1LE2y"
      },
      "source": [
        "# bayes_opt 패키지에서 BayesianOptimization을 불러와보세요\n",
        "from bayes_opt import BayesianOptimization"
      ],
      "execution_count": 2,
      "outputs": []
    },
    {
      "cell_type": "markdown",
      "metadata": {
        "id": "J1Is2vFL4cxY"
      },
      "source": [
        "## 정답\n",
        "---"
      ]
    },
    {
      "cell_type": "code",
      "metadata": {
        "id": "51NRQbDSLW4g"
      },
      "source": [
        "# bayesian-optimization을 설치해보세요\n",
        "pip install bayesian-optimization"
      ],
      "execution_count": null,
      "outputs": []
    },
    {
      "cell_type": "code",
      "metadata": {
        "id": "yOf7nUjFLZnz"
      },
      "source": [
        "# bayes_opt 패키지에서 BayesianOptimization을 불러와보세요\n",
        "from bayes_opt import BayesianOptimization"
      ],
      "execution_count": null,
      "outputs": []
    },
    {
      "cell_type": "markdown",
      "metadata": {
        "id": "K8YgC54VtiB7"
      },
      "source": [
        "# [↩️ 리스트로 돌아가기](https://dacon.io/competitions/open/235698/overview/description)"
      ]
    }
  ]
}