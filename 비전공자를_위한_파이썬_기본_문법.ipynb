{
  "nbformat": 4,
  "nbformat_minor": 0,
  "metadata": {
    "colab": {
      "name": "비전공자를 위한 파이썬 기본 문법.ipynb",
      "provenance": [],
      "authorship_tag": "ABX9TyPGzPJIyPZj37wIUl5UCPyr",
      "include_colab_link": true
    },
    "kernelspec": {
      "name": "python3",
      "display_name": "Python 3"
    },
    "language_info": {
      "name": "python"
    }
  },
  "cells": [
    {
      "cell_type": "markdown",
      "metadata": {
        "id": "view-in-github",
        "colab_type": "text"
      },
      "source": [
        "<a href=\"https://colab.research.google.com/github/gmldud/Deliverate_Practice/blob/main/%EB%B9%84%EC%A0%84%EA%B3%B5%EC%9E%90%EB%A5%BC_%EC%9C%84%ED%95%9C_%ED%8C%8C%EC%9D%B4%EC%8D%AC_%EA%B8%B0%EB%B3%B8_%EB%AC%B8%EB%B2%95.ipynb\" target=\"_parent\"><img src=\"https://colab.research.google.com/assets/colab-badge.svg\" alt=\"Open In Colab\"/></a>"
      ]
    },
    {
      "cell_type": "markdown",
      "source": [
        "## ❓ 파이썬이란..?\n",
        "<br>\n",
        "\n",
        "✅ **\"프로그래밍 언어\" 이다.**\n"
      ],
      "metadata": {
        "id": "7ijNVuQb2AF0"
      }
    },
    {
      "cell_type": "code",
      "source": [
        "# 내가 생각하는 파이썬이란 무엇인지 print 문으로 작성해보세요.\n",
        "#   ex) \n",
        "#       print(\"쉽다고 했는데 너무 어려운 넘,,\")\n",
        "#   출력) \n",
        "#       쉽다고 했는데 너무 어려운 넘,,"
      ],
      "metadata": {
        "id": "XsKcizKM9gGu"
      },
      "execution_count": null,
      "outputs": []
    },
    {
      "cell_type": "code",
      "source": [
        "string = \"python\"  \n",
        "float1 = 3.9\n",
        "int1 = 3\n",
        "x = 3\n",
        "print(type(string))\n",
        "print(type(float1))\n",
        "print(type(int1))"
      ],
      "metadata": {
        "colab": {
          "base_uri": "https://localhost:8080/"
        },
        "id": "FosR74kk71uk",
        "outputId": "74f5bfc5-0dd3-4504-8af4-fdee51fca0bb"
      },
      "execution_count": null,
      "outputs": [
        {
          "output_type": "stream",
          "name": "stdout",
          "text": [
            "<class 'str'>\n",
            "<class 'float'>\n",
            "<class 'int'>\n"
          ]
        }
      ]
    },
    {
      "cell_type": "code",
      "source": [
        "#기억해야 되는 것 !! : \n",
        "# 파이썬은 프로그래밍 언어다.\n",
        "# 문자, 정수, 실수만 입력 가능\n",
        "# 변수, 할당 용어"
      ],
      "metadata": {
        "id": "mJDLqQ6Rmb-4"
      },
      "execution_count": null,
      "outputs": []
    },
    {
      "cell_type": "markdown",
      "source": [
        "## ❓ 프로그래밍 언어란?\n",
        " \n",
        "- **컴퓨터의 언어이다.**\n",
        "- **컴퓨터에게 일을 시키기 위한 수단이다.**\n",
        "<br><br>\n",
        "\n",
        "\n",
        "✅ **즉, 컴퓨터와 소통하여, 컴퓨터에게 일을 시키기 위한 수단이다.**\n",
        "<br><br>\n",
        "  - 예시\n",
        "    - 미국인과 소통하기 위해서는 영어를, 컴퓨터와 소통하기 위해서는 파이썬을 써야한다.\n",
        "\n",
        "\n"
      ],
      "metadata": {
        "id": "oV166g-H9WyA"
      }
    },
    {
      "cell_type": "code",
      "source": [
        "# 내가 생각하는 프로그래밍 언어란 무엇인지 python 이라는 변수에 저장하여 print 해보세요.\n",
        "#   ex)  \n",
        "#        python = \"프로그래밍 언어는 자바, 자바스크립트, CSS, HTML, Spring, C#, C++...\"\n",
        "#        print(python)\n",
        "#   출력\n",
        "#       프로그래밍 언어는 자바, 자바스크립트, CSS, HTML, Spring, C#, C++..."
      ],
      "metadata": {
        "id": "f3Pwwwbh9xa5"
      },
      "execution_count": null,
      "outputs": []
    },
    {
      "cell_type": "code",
      "source": [
        "int_1 = \"자바, C++, 파이썬\"\n",
        "print(int_1)"
      ],
      "metadata": {
        "colab": {
          "base_uri": "https://localhost:8080/"
        },
        "id": "x_S5skqLmdZ8",
        "outputId": "06d59f2d-f1aa-47e4-d59e-8bd16b276e88"
      },
      "execution_count": null,
      "outputs": [
        {
          "output_type": "stream",
          "name": "stdout",
          "text": [
            "자바, C++, 파이썬\n"
          ]
        }
      ]
    },
    {
      "cell_type": "code",
      "source": [
        ""
      ],
      "metadata": {
        "id": "YMr2Grcamdcz"
      },
      "execution_count": null,
      "outputs": []
    },
    {
      "cell_type": "markdown",
      "source": [
        "## ❓ 컴퓨터와 소통하기 위한 대표적인 파이썬 용어들\n",
        "<br>\n",
        "\n",
        "✅ **문법 : if, elif, else, try, except, def, while, for,**<br>\n",
        "✅ **데이터 타입 : int, float, string,( ) 튜플-소괄호, [ ] 리스트-대괄호, { } 딕셔너리-중괄호**<br>\n",
        "✅ **용어 : 변수, 할당, 연산자, 변환**"
      ],
      "metadata": {
        "id": "usLenugf9b4_"
      }
    },
    {
      "cell_type": "code",
      "execution_count": null,
      "metadata": {
        "id": "UIKv5uD716tZ"
      },
      "outputs": [],
      "source": [
        "# 이 부분은 어려우니까 패쓰~! \n",
        "# 개인적으로 if, elif, else, for, def, while, try, except 순서대로 공부하시는 것을 권장드립니다.\n",
        "# if, elif, else, for 이 부분이 가장 자주 사용되며, 이 부분을 먼저 이해하시고 나면 def, while, try, except은 비교적 수월하게 익히실 수 있습니다.\n",
        "# 기억해둬야 할 것 : if문 for문 우선 학습"
      ]
    },
    {
      "cell_type": "code",
      "source": [
        "# 우리를 당황하게 하는 코드,,,\n",
        "# 쫄지 말자!!! 계속 하다보면 할 수 있다!!! 어차피 while은 나중에 공부해도 된다!!!!!\n",
        "\n",
        "# 1. \n",
        "while True:\n",
        "  my = input(\"while True 란 뭘까..?\")\n",
        "  if type(my) == str :\n",
        "    print(\"while True는 입력 값이 if 조건에 맞는 이상 계속 입력 값을 받는 것,,\")\n",
        "    break"
      ],
      "metadata": {
        "id": "7r1MSRwnANRY"
      },
      "execution_count": null,
      "outputs": []
    },
    {
      "cell_type": "markdown",
      "source": [
        "## 데이터 타입 및 용어 익히기"
      ],
      "metadata": {
        "id": "ws8XIWSxT-_B"
      }
    },
    {
      "cell_type": "code",
      "source": [
        "# 이게 뭘까요?\n",
        "# 각각의 예시를 두가지만 작성해봅시다!\n",
        "#기억해야 할 것 : \n",
        "\n",
        "# [] = 리스트(대괄호)\n",
        "# () = 튜플 (소괄호)\n",
        "# int = 정수, 3,6,9\n",
        "# float = 소수 3.4 , 4.5 \n",
        "# str = \"python\" , 'python'"
      ],
      "metadata": {
        "colab": {
          "base_uri": "https://localhost:8080/"
        },
        "id": "4dGQdixnX9Nf",
        "outputId": "351f67b7-2e68-4b38-a2a9-2c576ea6d289"
      },
      "execution_count": null,
      "outputs": [
        {
          "output_type": "execute_result",
          "data": {
            "text/plain": [
              "str"
            ]
          },
          "metadata": {},
          "execution_count": 27
        }
      ]
    },
    {
      "cell_type": "code",
      "source": [
        "# list1은 무엇이며, 값들의 타입은 무엇일까요? 변수와 int\n",
        "# type 은 뭘까요..? \"파이썬 내장 함수\" 라는 친구입니다. \n",
        "# 값의 타입을 바꿔봅시다!!\n",
        "# 기억해야 할 것 : 리스트, 슬라이싱, 타입은 중요하다\n",
        "# list [n ~ n-1], range(1,9) = 1~8\n",
        "\n",
        "list1 = [6,5,4,3,2,1]\n",
        "        #0 1 2 3 4 5\n",
        "#print(list1[1])\n",
        "#print(list1[5])\n",
        "#print(list1[-1])\n",
        "\n",
        "print(list1[2:4])\n",
        "print(list1[2],list1[3]) # 차이점 , 구분자 / , = str \n",
        "print(f\"{list1[2]}, {list1[3]}\") # 차이점 , 구분자 / , = str "
      ],
      "metadata": {
        "colab": {
          "base_uri": "https://localhost:8080/"
        },
        "id": "qlbyljOdTrgn",
        "outputId": "d03b9591-60d9-4ec3-f532-77a58e3cde71"
      },
      "execution_count": null,
      "outputs": [
        {
          "output_type": "stream",
          "name": "stdout",
          "text": [
            "[4, 3]\n",
            "4 3\n",
            "4, 3\n"
          ]
        }
      ]
    },
    {
      "cell_type": "code",
      "source": [
        "# 이 친구들은 \"리스트 []\"\" 라는 친구들이고, 리스트 값을 꺼낸다는 표현으로 \"슬라이싱\" 이라는 용어를 씁니다.\n",
        "# 슬라이싱 연습을 해봅시다!\n",
        "# 5,4,3을 출력해봅시다!\n",
        "#  ,5,4,3을 출력해봅시다!\n",
        "list1 = [\" \",5,4,3,2,1]\n",
        "\n",
        "\n",
        "# 아래 두 출력의 차이점은..?\n",
        "print(list1[1:4]) \n",
        "print(list1[1], list1[2], list1[3])"
      ],
      "metadata": {
        "colab": {
          "base_uri": "https://localhost:8080/"
        },
        "id": "n9t4V-FOUTAp",
        "outputId": "8c974882-acfd-4420-e83a-65a3a3811c50"
      },
      "execution_count": null,
      "outputs": [
        {
          "output_type": "stream",
          "name": "stdout",
          "text": [
            "[5, 4, 3]\n",
            "5 4 3\n"
          ]
        }
      ]
    },
    {
      "cell_type": "code",
      "source": [
        "# Hello 만 출력하려면..?\n",
        "words = 'Hello World'\n",
        "        #012345678910 \n",
        "\n",
        "#print(:5)\n",
        "#print[:5]\n",
        "print(words[0:5])\n",
        "\n",
        "#\"Hello W\" 출력하려면?\n",
        "print(words[0:7])"
      ],
      "metadata": {
        "colab": {
          "base_uri": "https://localhost:8080/"
        },
        "id": "YCYYt61TsR12",
        "outputId": "1436824c-3f31-4e3a-dc3f-745d320c206a"
      },
      "execution_count": null,
      "outputs": [
        {
          "output_type": "stream",
          "name": "stdout",
          "text": [
            "Hello\n",
            "Hello W\n"
          ]
        }
      ]
    },
    {
      "cell_type": "markdown",
      "source": [
        "## if, for 문 익히기"
      ],
      "metadata": {
        "id": "Ww3hpxhjpOFB"
      }
    },
    {
      "cell_type": "code",
      "source": [
        "x = 21\n",
        "\n",
        "if x < 2 :\n",
        "    print('Small')\n",
        "elif x < 10 :\n",
        "    print('Medium')\n",
        "elif x < 20 :\n",
        "    print('Big')\n",
        "elif x < 40 :\n",
        "    print('Large')\n",
        "elif x < 100 :\n",
        "    print('Huge')\n",
        "else :\n",
        "    print('Ginormous')\n",
        "\n",
        "# Large가 출력됩니다."
      ],
      "metadata": {
        "colab": {
          "base_uri": "https://localhost:8080/"
        },
        "id": "k2qOv69zlh4D",
        "outputId": "5bfc8348-5b45-475f-a0f7-0ddf0118c718"
      },
      "execution_count": null,
      "outputs": [
        {
          "output_type": "stream",
          "name": "stdout",
          "text": [
            "Large\n"
          ]
        }
      ]
    },
    {
      "cell_type": "code",
      "source": [
        "#big 을 출력하려면?\n",
        "\n",
        "x = 19\n",
        "\n",
        "if x < 2 :\n",
        "    print('Small')\n",
        "elif x < 10 :\n",
        "    print('Medium')\n",
        "elif x < 20 :\n",
        "    print('Big')\n",
        "elif x < 40 :\n",
        "    print('Large')\n",
        "elif x < 100 :\n",
        "    print('Huge')\n",
        "else :\n",
        "    print('Ginormous')\n"
      ],
      "metadata": {
        "colab": {
          "base_uri": "https://localhost:8080/"
        },
        "id": "Ab0dMS5MGRic",
        "outputId": "a6d7ef89-70f6-4fb1-d085-1ca3bf5e7dde"
      },
      "execution_count": null,
      "outputs": [
        {
          "output_type": "stream",
          "name": "stdout",
          "text": [
            "Big\n"
          ]
        }
      ]
    },
    {
      "cell_type": "code",
      "source": [
        "#Ginormous 을 출력하려면?\n",
        "\n",
        "x = 101\n",
        "\n",
        "if x < 2 :\n",
        "    print('Small')\n",
        "elif x < 10 :\n",
        "    print('Medium')\n",
        "elif x < 20 :\n",
        "    print('Big')\n",
        "elif x < 40 :\n",
        "    print('Large')\n",
        "elif x < 100 :\n",
        "    print('Huge')\n",
        "else :\n",
        "    print('Ginormous')\n",
        "\n"
      ],
      "metadata": {
        "colab": {
          "base_uri": "https://localhost:8080/"
        },
        "id": "xlYUl1dgGY9T",
        "outputId": "a677c720-8f8c-4bec-ab08-3197b5043f02"
      },
      "execution_count": null,
      "outputs": [
        {
          "output_type": "stream",
          "name": "stdout",
          "text": [
            "Ginormous\n"
          ]
        }
      ]
    },
    {
      "cell_type": "code",
      "source": [
        "a = [1,2,3,4,5,6,7,8,9,10]\n",
        "\n",
        "for x in a : #루프 ,반복문\n",
        "  if x < 5 :\n",
        "    print(\"x는 5보다 작다!\")\n",
        "  elif x >= 5:\n",
        "    print(\"x는 5보다 크거나 같다!\")"
      ],
      "metadata": {
        "colab": {
          "base_uri": "https://localhost:8080/"
        },
        "id": "xHkrNvcYU1AP",
        "outputId": "9ab0b9da-55eb-4ba1-88a7-c6e4b69cc270"
      },
      "execution_count": null,
      "outputs": [
        {
          "output_type": "stream",
          "name": "stdout",
          "text": [
            "x는 5보다 작다!\n",
            "x는 5보다 작다!\n",
            "x는 5보다 작다!\n",
            "x는 5보다 작다!\n",
            "x는 5보다 크거나 같다!\n",
            "x는 5보다 크거나 같다!\n",
            "x는 5보다 크거나 같다!\n",
            "x는 5보다 크거나 같다!\n",
            "x는 5보다 크거나 같다!\n",
            "x는 5보다 크거나 같다!\n"
          ]
        }
      ]
    },
    {
      "cell_type": "code",
      "source": [
        "a = [1,2,3,4,5,6,7,8,9,10]\n",
        "\n",
        "for x in a :\n",
        "  print(x)"
      ],
      "metadata": {
        "colab": {
          "base_uri": "https://localhost:8080/"
        },
        "id": "-ehiTiTEViEt",
        "outputId": "8c80d399-7e59-4d30-dbe9-61695cd17f45"
      },
      "execution_count": null,
      "outputs": [
        {
          "output_type": "stream",
          "name": "stdout",
          "text": [
            "1\n",
            "2\n",
            "3\n",
            "4\n",
            "5\n",
            "6\n",
            "7\n",
            "8\n",
            "9\n",
            "10\n"
          ]
        }
      ]
    },
    {
      "cell_type": "code",
      "source": [
        "# for문 안에 if문 이해하기\n",
        "\n",
        "a = [1,2,3,4,5,6,7,8,9,10]\n",
        "\n",
        "for x in a :\n",
        "  if x < 5 :\n",
        "    print(x)\n",
        "  elif x >= 5:\n",
        "    print(\"x는 5보다 크거나 같다!\")"
      ],
      "metadata": {
        "colab": {
          "base_uri": "https://localhost:8080/"
        },
        "id": "81ZYyxYQVpX_",
        "outputId": "3fe251eb-e81a-4e06-eb4c-9bedcbeb4777"
      },
      "execution_count": null,
      "outputs": [
        {
          "output_type": "stream",
          "name": "stdout",
          "text": [
            "1\n",
            "2\n",
            "3\n",
            "4\n",
            "x는 5보다 크거나 같다!\n",
            "x는 5보다 크거나 같다!\n",
            "x는 5보다 크거나 같다!\n",
            "x는 5보다 크거나 같다!\n",
            "x는 5보다 크거나 같다!\n",
            "x는 5보다 크거나 같다!\n"
          ]
        }
      ]
    },
    {
      "cell_type": "code",
      "source": [
        "for i in range(0,11):     #range(n,n-1) n부터 n-1 숫자까지\n",
        "  print(i)"
      ],
      "metadata": {
        "colab": {
          "base_uri": "https://localhost:8080/"
        },
        "id": "xujRDuLxX09q",
        "outputId": "630f00ac-9746-4b6b-a616-dee3212e4222"
      },
      "execution_count": null,
      "outputs": [
        {
          "output_type": "stream",
          "name": "stdout",
          "text": [
            "0\n",
            "1\n",
            "2\n",
            "3\n",
            "4\n",
            "5\n",
            "6\n",
            "7\n",
            "8\n",
            "9\n",
            "10\n"
          ]
        }
      ]
    },
    {
      "cell_type": "code",
      "source": [
        "# python 이라는 변수에 1~13까지의 숫자 리스트를 할당하기\n",
        "# 1~13 숫자 한개씩 출력하기\n",
        "# for 문 사용법, range 함수 \n",
        "# for documentation, for문 사용법\n",
        "\n",
        "#python = [1,2,3,4,5,6,7,8,9,10,11,12,13]\n",
        "\n",
        "python = [1,2,3,4,5,6,7,8,9,10,11,12,13]\n",
        "\n",
        "for python in range(1,14):\n",
        "  print(python)"
      ],
      "metadata": {
        "id": "7sujUpSnLQs5",
        "colab": {
          "base_uri": "https://localhost:8080/"
        },
        "outputId": "0047a29b-b517-4d4f-f510-f67f85a23d82"
      },
      "execution_count": null,
      "outputs": [
        {
          "output_type": "stream",
          "name": "stdout",
          "text": [
            "1\n",
            "2\n",
            "3\n",
            "4\n",
            "5\n",
            "6\n",
            "7\n",
            "8\n",
            "9\n",
            "10\n",
            "11\n",
            "12\n",
            "13\n"
          ]
        }
      ]
    }
  ]
}