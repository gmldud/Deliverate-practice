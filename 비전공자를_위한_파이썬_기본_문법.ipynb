{
  "nbformat": 4,
  "nbformat_minor": 0,
  "metadata": {
    "colab": {
      "name": "비전공자를 위한 파이썬 기본 문법.ipynb",
      "provenance": [],
      "authorship_tag": "ABX9TyNPs0xfNuGNG/+pTG3OEjuR",
      "include_colab_link": true
    },
    "kernelspec": {
      "name": "python3",
      "display_name": "Python 3"
    },
    "language_info": {
      "name": "python"
    }
  },
  "cells": [
    {
      "cell_type": "markdown",
      "metadata": {
        "id": "view-in-github",
        "colab_type": "text"
      },
      "source": [
        "<a href=\"https://colab.research.google.com/github/gmldud/Deliverate_Practice/blob/main/%EB%B9%84%EC%A0%84%EA%B3%B5%EC%9E%90%EB%A5%BC_%EC%9C%84%ED%95%9C_%ED%8C%8C%EC%9D%B4%EC%8D%AC_%EA%B8%B0%EB%B3%B8_%EB%AC%B8%EB%B2%95.ipynb\" target=\"_parent\"><img src=\"https://colab.research.google.com/assets/colab-badge.svg\" alt=\"Open In Colab\"/></a>"
      ]
    },
    {
      "cell_type": "markdown",
      "source": [
        "## ❓ 파이썬이란..?\n",
        "<br>\n",
        "\n",
        "✅ **\"프로그래밍 언어\" 이다.**\n"
      ],
      "metadata": {
        "id": "7ijNVuQb2AF0"
      }
    },
    {
      "cell_type": "code",
      "source": [
        "# 내가 생각하는 파이썬이란 무엇인지 print 문으로 작성해보세요.\n",
        "#   ex) \n",
        "#       print(\"쉽다고 했는데 너무 어려운 넘,,\")\n",
        "#   출력) \n",
        "#       쉽다고 했는데 너무 어려운 넘,,"
      ],
      "metadata": {
        "id": "XsKcizKM9gGu"
      },
      "execution_count": null,
      "outputs": []
    },
    {
      "cell_type": "code",
      "source": [
        ""
      ],
      "metadata": {
        "id": "eyZQy3mEmb3T"
      },
      "execution_count": null,
      "outputs": []
    },
    {
      "cell_type": "code",
      "source": [
        ""
      ],
      "metadata": {
        "id": "mJDLqQ6Rmb-4"
      },
      "execution_count": null,
      "outputs": []
    },
    {
      "cell_type": "markdown",
      "source": [
        "## ❓ 프로그래밍 언어란?\n",
        " \n",
        "- **컴퓨터의 언어이다.**\n",
        "- **컴퓨터에게 일을 시키기 위한 수단이다.**\n",
        "<br><br>\n",
        "\n",
        "\n",
        "✅ **즉, 컴퓨터와 소통하여, 컴퓨터에게 일을 시키기 위한 수단이다.**\n",
        "<br><br>\n",
        "  - 예시\n",
        "    - 미국인과 소통하기 위해서는 영어를, 컴퓨터와 소통하기 위해서는 파이썬을 써야한다.\n",
        "\n",
        "\n"
      ],
      "metadata": {
        "id": "oV166g-H9WyA"
      }
    },
    {
      "cell_type": "code",
      "source": [
        "# 내가 생각하는 프로그래밍 언어란 무엇인지 python 이라는 변수에 저장하여 print 해보세요.\n",
        "#   ex)  \n",
        "#        python = \"프로그래밍 언어는 자바, 자바스크립트, CSS, HTML, Spring, C#, C++...\"\n",
        "#        print(python)\n",
        "#   출력\n",
        "#       프로그래밍 언어는 자바, 자바스크립트, CSS, HTML, Spring, C#, C++..."
      ],
      "metadata": {
        "id": "f3Pwwwbh9xa5"
      },
      "execution_count": null,
      "outputs": []
    },
    {
      "cell_type": "code",
      "source": [
        ""
      ],
      "metadata": {
        "id": "x_S5skqLmdZ8"
      },
      "execution_count": null,
      "outputs": []
    },
    {
      "cell_type": "code",
      "source": [
        ""
      ],
      "metadata": {
        "id": "YMr2Grcamdcz"
      },
      "execution_count": null,
      "outputs": []
    },
    {
      "cell_type": "markdown",
      "source": [
        "## ❓ 컴퓨터와 소통하기 위한 대표적인 파이썬 용어들\n",
        "<br>\n",
        "\n",
        "✅ **문법 : if, elif, else, try, except, def, while, for,**<br>\n",
        "✅ **데이터 타입 : int, float, string,( ) 튜플-소괄호, [ ] 리스트-대괄호, { } 딕셔너리-중괄호**<br>\n",
        "✅ **용어 : 변수, 할당, 연산자, 변환**"
      ],
      "metadata": {
        "id": "usLenugf9b4_"
      }
    },
    {
      "cell_type": "code",
      "execution_count": null,
      "metadata": {
        "id": "UIKv5uD716tZ"
      },
      "outputs": [],
      "source": [
        "# 이 부분은 어려우니까 패쓰~! \n",
        "# 개인적으로 if, elif, else, for, def, while, try, except 순서대로 공부하시는 것을 권장드립니다.\n",
        "# if, elif, else, for 이 부분이 가장 자주 사용되며, 이 부분을 먼저 이해하시고 나면 def, while, try, except은 비교적 수월하게 익히실 수 있습니다."
      ]
    },
    {
      "cell_type": "code",
      "source": [
        "# 우리를 당황하게 하는 코드,,,\n",
        "# 쫄지 말자!!! 계속 하다보면 할 수 있다!!! 어차피 while은 나중에 공부해도 된다!!!!!\n",
        "\n",
        "# 1. \n",
        "while True:\n",
        "  my = input(\"while True 란 뭘까..?\")\n",
        "  if type(my) == str :\n",
        "    print(\"while True는 입력 값이 if 조건에 맞는 이상 계속 입력 값을 받는 것,,\")\n",
        "    break"
      ],
      "metadata": {
        "id": "7r1MSRwnANRY"
      },
      "execution_count": 11,
      "outputs": []
    },
    {
      "cell_type": "code",
      "source": [
        ""
      ],
      "metadata": {
        "id": "BYgNyEl1meRx"
      },
      "execution_count": null,
      "outputs": []
    },
    {
      "cell_type": "code",
      "source": [
        ""
      ],
      "metadata": {
        "id": "YcvC-mVGmeUp"
      },
      "execution_count": null,
      "outputs": []
    },
    {
      "cell_type": "markdown",
      "source": [
        "## 데이터 타입 및 용어 익히기"
      ],
      "metadata": {
        "id": "ws8XIWSxT-_B"
      }
    },
    {
      "cell_type": "code",
      "source": [
        "# 이게 뭘까요?\n",
        "# 각각의 예시를 두가지만 작성해봅시다!\n",
        "#기억해야 할 것 : \n",
        "[]\n",
        "()\n",
        "int\n",
        "float\n",
        "str"
      ],
      "metadata": {
        "colab": {
          "base_uri": "https://localhost:8080/"
        },
        "id": "4dGQdixnX9Nf",
        "outputId": "351f67b7-2e68-4b38-a2a9-2c576ea6d289"
      },
      "execution_count": 27,
      "outputs": [
        {
          "output_type": "execute_result",
          "data": {
            "text/plain": [
              "str"
            ]
          },
          "metadata": {},
          "execution_count": 27
        }
      ]
    },
    {
      "cell_type": "code",
      "source": [
        "# list1은 무엇이며, 값들의 타입은 무엇일까요?\n",
        "# type 은 뭘까요..? \"파이썬 내장 함수\" 라는 친구입니다. \n",
        "# 값의 타입을 바꿔봅시다!!\n",
        "# 기억해야 할 것 : \n",
        "list1 = [6,5,4,3,2,1]\n",
        "print(list1[1])"
      ],
      "metadata": {
        "colab": {
          "base_uri": "https://localhost:8080/"
        },
        "id": "qlbyljOdTrgn",
        "outputId": "b35d6108-8662-4459-fb4f-d9f443e828d9"
      },
      "execution_count": 34,
      "outputs": [
        {
          "output_type": "stream",
          "name": "stdout",
          "text": [
            "<class 'list'>\n"
          ]
        }
      ]
    },
    {
      "cell_type": "code",
      "source": [
        "# 이 친구들은 \"리스트 []\"\" 라는 친구들이고, 리스트 값을 꺼낸다는 표현으로 \"슬라이싱\" 이라는 용어를 씁니다.\n",
        "# 슬라이싱 연습을 해봅시다!\n",
        "# 5,4,3을 출력해봅시다!\n",
        "#  ,5,4,3을 출력해봅시다!\n",
        "list1 = [\" \",5,4,3,2,1]\n",
        "print(list1[0], list1[1], list1[2], list1[3])"
      ],
      "metadata": {
        "colab": {
          "base_uri": "https://localhost:8080/"
        },
        "id": "n9t4V-FOUTAp",
        "outputId": "1b96bee0-dc46-4706-aac0-efe32ed334d5"
      },
      "execution_count": 30,
      "outputs": [
        {
          "output_type": "stream",
          "name": "stdout",
          "text": [
            "  5 4 3\n"
          ]
        }
      ]
    },
    {
      "cell_type": "code",
      "source": [
        "print(list1[0:4])"
      ],
      "metadata": {
        "colab": {
          "base_uri": "https://localhost:8080/"
        },
        "id": "ZEnp0zr3oY0r",
        "outputId": "d3c31cbb-5126-40ac-e54d-71bfe1daa4d2"
      },
      "execution_count": 33,
      "outputs": [
        {
          "output_type": "stream",
          "name": "stdout",
          "text": [
            "[' ', 5, 4, 3]\n"
          ]
        }
      ]
    },
    {
      "cell_type": "code",
      "source": [
        "words = 'Hello World'\n",
        "        #012345678910 \n",
        "words[:5]"
      ],
      "metadata": {
        "colab": {
          "base_uri": "https://localhost:8080/",
          "height": 35
        },
        "id": "YCYYt61TsR12",
        "outputId": "5544111e-7229-4ce0-c08b-c5d86f9ac944"
      },
      "execution_count": 36,
      "outputs": [
        {
          "output_type": "execute_result",
          "data": {
            "text/plain": [
              "'Hello'"
            ],
            "application/vnd.google.colaboratory.intrinsic+json": {
              "type": "string"
            }
          },
          "metadata": {},
          "execution_count": 36
        }
      ]
    },
    {
      "cell_type": "markdown",
      "source": [
        "## if, for 문 익히기"
      ],
      "metadata": {
        "id": "Ww3hpxhjpOFB"
      }
    },
    {
      "cell_type": "code",
      "source": [
        "x = 21\n",
        "\n",
        "if x < 2 :\n",
        "    print('Small')\n",
        "elif x < 10 :\n",
        "    print('Medium')\n",
        "elif x < 20 :\n",
        "    print('Big')\n",
        "elif x < 40 :\n",
        "    print('Large')\n",
        "elif x < 100 :\n",
        "    print('Huge')\n",
        "else :\n",
        "    print('Ginormous')\n",
        "\n",
        "# Large가 출력됩니다."
      ],
      "metadata": {
        "id": "k2qOv69zlh4D"
      },
      "execution_count": null,
      "outputs": []
    },
    {
      "cell_type": "code",
      "source": [
        "astr = \"123\"\n",
        "\n",
        "try:\n",
        "    print(\"Hello\")\n",
        "    isInt = int(astr)\n",
        "    print(\"World\")\n",
        "except:\n",
        "    isInt = \"Integer로 변환할 수 없습니다.\"\n",
        "\n",
        "print('Done', isInt)\n",
        "# Hello\n",
        "# World\n",
        "# Done 123이 순서대로 출력됩니다."
      ],
      "metadata": {
        "id": "pKhsn6qTll-y"
      },
      "execution_count": null,
      "outputs": []
    },
    {
      "cell_type": "code",
      "source": [
        "a = [1,2,3,4,5,6,7,8,9,10]\n",
        "\n",
        "for x in a :\n",
        "  if x < 5 :\n",
        "    print(\"x는 5보다 작다!\")\n",
        "  elif x >= 5:\n",
        "    print(\"x는 5보다 크거나 같다!\")"
      ],
      "metadata": {
        "colab": {
          "base_uri": "https://localhost:8080/"
        },
        "id": "xHkrNvcYU1AP",
        "outputId": "f40d5459-4d2b-4666-b8fb-89cd36c60639"
      },
      "execution_count": 24,
      "outputs": [
        {
          "output_type": "stream",
          "name": "stdout",
          "text": [
            "x는 5보다 작다!\n",
            "x는 5보다 작다!\n",
            "x는 5보다 작다!\n",
            "x는 5보다 작다!\n",
            "x는 5보다 크거나 같다!\n",
            "x는 5보다 크거나 같다!\n",
            "x는 5보다 크거나 같다!\n",
            "x는 5보다 크거나 같다!\n",
            "x는 5보다 크거나 같다!\n",
            "x는 5보다 크거나 같다!\n"
          ]
        }
      ]
    },
    {
      "cell_type": "code",
      "source": [
        "a = [1,2,3,4,5,6,7,8,9,10]\n",
        "\n",
        "for x in a :\n",
        "  print(x)"
      ],
      "metadata": {
        "colab": {
          "base_uri": "https://localhost:8080/"
        },
        "id": "-ehiTiTEViEt",
        "outputId": "785dd9d2-81bf-46fa-969f-858abfed9e6c"
      },
      "execution_count": 20,
      "outputs": [
        {
          "output_type": "stream",
          "name": "stdout",
          "text": [
            "1\n",
            "2\n",
            "3\n",
            "4\n",
            "5\n",
            "6\n",
            "7\n",
            "8\n",
            "9\n",
            "10\n"
          ]
        }
      ]
    },
    {
      "cell_type": "code",
      "source": [
        "# for문 안에 if문 이해하기\n",
        "\n",
        "a = [1,2,3,4,5,6,7,8,9,10]\n",
        "\n",
        "for x in a :\n",
        "  if x < 5 :\n",
        "    print(x)\n",
        "  elif x >= 5:\n",
        "    print(\"x는 5보다 크거나 같다!\")"
      ],
      "metadata": {
        "colab": {
          "base_uri": "https://localhost:8080/"
        },
        "id": "81ZYyxYQVpX_",
        "outputId": "3fe251eb-e81a-4e06-eb4c-9bedcbeb4777"
      },
      "execution_count": 25,
      "outputs": [
        {
          "output_type": "stream",
          "name": "stdout",
          "text": [
            "1\n",
            "2\n",
            "3\n",
            "4\n",
            "x는 5보다 크거나 같다!\n",
            "x는 5보다 크거나 같다!\n",
            "x는 5보다 크거나 같다!\n",
            "x는 5보다 크거나 같다!\n",
            "x는 5보다 크거나 같다!\n",
            "x는 5보다 크거나 같다!\n"
          ]
        }
      ]
    },
    {
      "cell_type": "code",
      "source": [
        "for i in range(0,11):     #range(n,n-1) n부터 n-1 숫자까지\n",
        "  print(i)"
      ],
      "metadata": {
        "colab": {
          "base_uri": "https://localhost:8080/"
        },
        "id": "xujRDuLxX09q",
        "outputId": "630f00ac-9746-4b6b-a616-dee3212e4222"
      },
      "execution_count": 26,
      "outputs": [
        {
          "output_type": "stream",
          "name": "stdout",
          "text": [
            "0\n",
            "1\n",
            "2\n",
            "3\n",
            "4\n",
            "5\n",
            "6\n",
            "7\n",
            "8\n",
            "9\n",
            "10\n"
          ]
        }
      ]
    }
  ]
}