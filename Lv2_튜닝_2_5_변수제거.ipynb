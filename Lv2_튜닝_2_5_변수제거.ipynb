{
  "nbformat": 4,
  "nbformat_minor": 0,
  "metadata": {
    "colab": {
      "name": "Lv2 튜닝 2/5 변수제거",
      "provenance": [],
      "collapsed_sections": [
        "J1Is2vFL4cxY"
      ],
      "include_colab_link": true
    },
    "kernelspec": {
      "name": "python3",
      "display_name": "Python 3"
    },
    "language_info": {
      "name": "python"
    }
  },
  "cells": [
    {
      "cell_type": "markdown",
      "metadata": {
        "id": "view-in-github",
        "colab_type": "text"
      },
      "source": [
        "<a href=\"https://colab.research.google.com/github/gmldud/Deliverate_Practice/blob/main/Lv2_%ED%8A%9C%EB%8B%9D_2_5_%EB%B3%80%EC%88%98%EC%A0%9C%EA%B1%B0.ipynb\" target=\"_parent\"><img src=\"https://colab.research.google.com/assets/colab-badge.svg\" alt=\"Open In Colab\"/></a>"
      ]
    },
    {
      "cell_type": "markdown",
      "metadata": {
        "id": "vIpjpOEXsoW0"
      },
      "source": [
        "# [↩️ 리스트로 돌아가기](https://dacon.io/competitions/open/235698/overview/description)"
      ]
    },
    {
      "cell_type": "markdown",
      "metadata": {
        "id": "Y8EsppNShcez"
      },
      "source": [
        "# 셀을 실행할 때 팝업이 뜨면 `무시하고 계속하기` 를 눌러주세요\n"
      ]
    },
    {
      "cell_type": "markdown",
      "metadata": {
        "id": "7A1_NrpnNgI0"
      },
      "source": [
        "## 데이터 다운로드\n",
        "--- \n",
        "아래 셀을 실행시켜 데이터를 colab에 불러옵니다.  \n",
        "셀 실행은 Ctrl + Enter 를 이용해 실행 시킬 수 있습니다. "
      ]
    },
    {
      "cell_type": "code",
      "metadata": {
        "id": "a3VxvpLvhnap",
        "outputId": "b5f3f708-5690-4788-a970-14535adb1e54",
        "colab": {
          "base_uri": "https://localhost:8080/"
        }
      },
      "source": [
        "# 데이터 다운로드 링크로 데이터를 코랩에 불러옵니다.\n",
        "\n",
        "!wget 'https://bit.ly/3gLj0Q6'\n",
        "\n",
        "import zipfile\n",
        "with zipfile.ZipFile('3gLj0Q6', 'r') as existing_zip:\n",
        "    existing_zip.extractall('data')"
      ],
      "execution_count": 41,
      "outputs": [
        {
          "output_type": "stream",
          "name": "stdout",
          "text": [
            "--2022-08-08 12:58:13--  https://bit.ly/3gLj0Q6\n",
            "Resolving bit.ly (bit.ly)... 67.199.248.11, 67.199.248.10\n",
            "Connecting to bit.ly (bit.ly)|67.199.248.11|:443... connected.\n",
            "HTTP request sent, awaiting response... 301 Moved Permanently\n",
            "Location: https://drive.google.com/uc?export=download&id=1or_QN1ksv81DNog6Tu_kWcZ5jJWf5W9E [following]\n",
            "--2022-08-08 12:58:13--  https://drive.google.com/uc?export=download&id=1or_QN1ksv81DNog6Tu_kWcZ5jJWf5W9E\n",
            "Resolving drive.google.com (drive.google.com)... 142.251.45.14, 2607:f8b0:4004:83e::200e\n",
            "Connecting to drive.google.com (drive.google.com)|142.251.45.14|:443... connected.\n",
            "HTTP request sent, awaiting response... 303 See Other\n",
            "Location: https://doc-0c-10-docs.googleusercontent.com/docs/securesc/ha0ro937gcuc7l7deffksulhg5h7mbp1/hpdquhs7h9knph81sochu5rl8mee9na8/1659963450000/17946651057176172524/*/1or_QN1ksv81DNog6Tu_kWcZ5jJWf5W9E?e=download&uuid=046ed567-eeff-4982-89fb-e2ff5b556144 [following]\n",
            "Warning: wildcards not supported in HTTP.\n",
            "--2022-08-08 12:58:13--  https://doc-0c-10-docs.googleusercontent.com/docs/securesc/ha0ro937gcuc7l7deffksulhg5h7mbp1/hpdquhs7h9knph81sochu5rl8mee9na8/1659963450000/17946651057176172524/*/1or_QN1ksv81DNog6Tu_kWcZ5jJWf5W9E?e=download&uuid=046ed567-eeff-4982-89fb-e2ff5b556144\n",
            "Resolving doc-0c-10-docs.googleusercontent.com (doc-0c-10-docs.googleusercontent.com)... 172.253.63.132, 2607:f8b0:4004:c08::84\n",
            "Connecting to doc-0c-10-docs.googleusercontent.com (doc-0c-10-docs.googleusercontent.com)|172.253.63.132|:443... connected.\n",
            "HTTP request sent, awaiting response... 200 OK\n",
            "Length: 39208 (38K) [application/zip]\n",
            "Saving to: ‘3gLj0Q6.2’\n",
            "\n",
            "3gLj0Q6.2           100%[===================>]  38.29K  --.-KB/s    in 0.001s  \n",
            "\n",
            "2022-08-08 12:58:14 (53.3 MB/s) - ‘3gLj0Q6.2’ saved [39208/39208]\n",
            "\n"
          ]
        }
      ]
    },
    {
      "cell_type": "markdown",
      "metadata": {
        "id": "gx8XCXCxeQk8"
      },
      "source": [
        "## 라이브러리 불러오기\n",
        "---\n",
        "아래 셀을 실행시켜 pandas 와 DecisionTreeClassifier 를 불러옵니다."
      ]
    },
    {
      "cell_type": "code",
      "metadata": {
        "id": "kt_IKrkPeNwQ"
      },
      "source": [
        "import pandas as pd\n",
        "from sklearn.ensemble import RandomForestRegressor"
      ],
      "execution_count": 42,
      "outputs": []
    },
    {
      "cell_type": "markdown",
      "metadata": {
        "id": "VxC2pa2-rgat"
      },
      "source": [
        "## 데이터 불러오기\n",
        "---\n",
        "아래 셀을 실행시켜 csv 파일 데이터를 DataFrame 객체로 불러옵니다."
      ]
    },
    {
      "cell_type": "code",
      "metadata": {
        "id": "V6wTaK4sfnms"
      },
      "source": [
        "train = pd.read_csv('data/train.csv') \n",
        "test = pd.read_csv('data/test.csv')"
      ],
      "execution_count": 43,
      "outputs": []
    },
    {
      "cell_type": "markdown",
      "metadata": {
        "id": "w_PwM9kF7Pbi"
      },
      "source": [
        "## 결측치 전처리\n",
        "---\n",
        "train 은 interpolate() 를 이용해 결측치를 DataFrame 값에 선형으로 비례하여 보간합니다.\n",
        "test 의 결측치는 0으로 채워줍니다."
      ]
    },
    {
      "cell_type": "code",
      "metadata": {
        "id": "H2K-UbwAkuJ6"
      },
      "source": [
        "train.interpolate(inplace=True)\n",
        "test.fillna(0, inplace=True)"
      ],
      "execution_count": 44,
      "outputs": []
    },
    {
      "cell_type": "markdown",
      "metadata": {
        "id": "xgP6p_GO86fg"
      },
      "source": [
        "## 모델 훈련\n",
        "---"
      ]
    },
    {
      "cell_type": "code",
      "metadata": {
        "id": "Cc10QSz6eyPa"
      },
      "source": [
        "X_train = train.drop(['count'], axis=1)\n",
        "Y_train = train['count']"
      ],
      "execution_count": 45,
      "outputs": []
    },
    {
      "cell_type": "code",
      "metadata": {
        "id": "L7_OxhLblCZ_",
        "outputId": "8b68dc95-1ce9-4173-a8a4-3a56c10c50e1",
        "colab": {
          "base_uri": "https://localhost:8080/"
        }
      },
      "source": [
        "model = RandomForestRegressor(criterion = 'mse')\n",
        "model.fit(X_train, Y_train)"
      ],
      "execution_count": 46,
      "outputs": [
        {
          "output_type": "stream",
          "name": "stderr",
          "text": [
            "/usr/local/lib/python3.7/dist-packages/sklearn/ensemble/_forest.py:400: FutureWarning: Criterion 'mse' was deprecated in v1.0 and will be removed in version 1.2. Use `criterion='squared_error'` which is equivalent.\n",
            "  FutureWarning,\n"
          ]
        },
        {
          "output_type": "execute_result",
          "data": {
            "text/plain": [
              "RandomForestRegressor(criterion='mse')"
            ]
          },
          "metadata": {},
          "execution_count": 46
        }
      ]
    },
    {
      "cell_type": "code",
      "metadata": {
        "id": "jaI0teRl7kGK",
        "outputId": "ec80d093-faeb-4476-9d74-a4bac52fb868",
        "colab": {
          "base_uri": "https://localhost:8080/"
        }
      },
      "source": [
        "model.feature_importances_"
      ],
      "execution_count": 47,
      "outputs": [
        {
          "output_type": "execute_result",
          "data": {
            "text/plain": [
              "array([0.0261681 , 0.59417438, 0.18046756, 0.01920344, 0.02550542,\n",
              "       0.03504656, 0.0333013 , 0.03439923, 0.03092308, 0.02081093])"
            ]
          },
          "metadata": {},
          "execution_count": 47
        }
      ]
    },
    {
      "cell_type": "code",
      "source": [
        "list(X_train.columns)"
      ],
      "metadata": {
        "id": "4ozAusOmejIa",
        "outputId": "f97acdb4-b5bc-4bf0-d270-8d215d53c0a8",
        "colab": {
          "base_uri": "https://localhost:8080/"
        }
      },
      "execution_count": 48,
      "outputs": [
        {
          "output_type": "execute_result",
          "data": {
            "text/plain": [
              "['id',\n",
              " 'hour',\n",
              " 'hour_bef_temperature',\n",
              " 'hour_bef_precipitation',\n",
              " 'hour_bef_windspeed',\n",
              " 'hour_bef_humidity',\n",
              " 'hour_bef_visibility',\n",
              " 'hour_bef_ozone',\n",
              " 'hour_bef_pm10',\n",
              " 'hour_bef_pm2.5']"
            ]
          },
          "metadata": {},
          "execution_count": 48
        }
      ]
    },
    {
      "cell_type": "markdown",
      "metadata": {
        "id": "ZksEbPou52yW"
      },
      "source": [
        "## 👋 실습\n",
        "---"
      ]
    },
    {
      "cell_type": "code",
      "metadata": {
        "id": "86ldFLXsk2GZ"
      },
      "source": [
        "# X_train 에서 drop 할 피쳐의 경우에 수 대로 3개의 X_train 을 생성하세요.\n",
        "# 각 train 에 따라 동일하게 피쳐를 drop 한 test 셋들을 생성하세요.\n",
        "X_train1 = X_train.drop(columns=\"id\", axis =1)\n",
        "test_dropped_col1 = test.drop(columns=\"id\", axis =1)"
      ],
      "execution_count": 49,
      "outputs": []
    },
    {
      "cell_type": "code",
      "source": [
        "X_train2 = X_train1.drop(columns=\"hour_bef_precipitation\", axis =1)\n",
        "test_dropped_col2 = test_dropped_col1.drop(columns=\"hour_bef_precipitation\", axis =1)"
      ],
      "metadata": {
        "id": "Ezbfes8xfr-k"
      },
      "execution_count": 50,
      "outputs": []
    },
    {
      "cell_type": "code",
      "source": [
        "X_train3 = X_train2.drop(columns=\"hour_bef_pm2.5\", axis =1)\n",
        "test_dropped_col3 = test_dropped_col2.drop(columns=\"hour_bef_pm2.5\", axis =1)"
      ],
      "metadata": {
        "id": "9wNeyxDGfsB7"
      },
      "execution_count": 51,
      "outputs": []
    },
    {
      "cell_type": "code",
      "source": [
        "X_train4 = X_train3.drop(columns= \"hour_bef_windspeed\", axis =1)\n",
        "test_dropped_col4 = test_dropped_col3.drop(columns= \"hour_bef_windspeed\", axis =1)"
      ],
      "metadata": {
        "id": "1fN-iXymfsG4"
      },
      "execution_count": 52,
      "outputs": []
    },
    {
      "cell_type": "code",
      "metadata": {
        "id": "Dx1Bnx_c2nJy",
        "outputId": "ede52909-d876-4eff-f170-dec566c503c7",
        "colab": {
          "base_uri": "https://localhost:8080/"
        }
      },
      "source": [
        "# 각 X_train에 대해 모델 훈련을 해주세요.\n",
        "model1 = RandomForestRegressor(criterion = 'mse')\n",
        "model1.fit(X_train1, Y_train)"
      ],
      "execution_count": 53,
      "outputs": [
        {
          "output_type": "stream",
          "name": "stderr",
          "text": [
            "/usr/local/lib/python3.7/dist-packages/sklearn/ensemble/_forest.py:400: FutureWarning: Criterion 'mse' was deprecated in v1.0 and will be removed in version 1.2. Use `criterion='squared_error'` which is equivalent.\n",
            "  FutureWarning,\n"
          ]
        },
        {
          "output_type": "execute_result",
          "data": {
            "text/plain": [
              "RandomForestRegressor(criterion='mse')"
            ]
          },
          "metadata": {},
          "execution_count": 53
        }
      ]
    },
    {
      "cell_type": "code",
      "source": [
        "model2 = RandomForestRegressor(criterion = 'mse')\n",
        "model2.fit(X_train2, Y_train)"
      ],
      "metadata": {
        "id": "1bc9IuJrg5AY",
        "outputId": "ab889a86-e8c2-4c16-b4ae-fb8159aaae64",
        "colab": {
          "base_uri": "https://localhost:8080/"
        }
      },
      "execution_count": 54,
      "outputs": [
        {
          "output_type": "stream",
          "name": "stderr",
          "text": [
            "/usr/local/lib/python3.7/dist-packages/sklearn/ensemble/_forest.py:400: FutureWarning: Criterion 'mse' was deprecated in v1.0 and will be removed in version 1.2. Use `criterion='squared_error'` which is equivalent.\n",
            "  FutureWarning,\n"
          ]
        },
        {
          "output_type": "execute_result",
          "data": {
            "text/plain": [
              "RandomForestRegressor(criterion='mse')"
            ]
          },
          "metadata": {},
          "execution_count": 54
        }
      ]
    },
    {
      "cell_type": "code",
      "source": [
        "model3 = RandomForestRegressor(criterion = 'mse')\n",
        "model3.fit(X_train3, Y_train)"
      ],
      "metadata": {
        "id": "23AKixMCg5Zq",
        "outputId": "c3452a1f-fd03-46e1-fbcd-a9e7033c186e",
        "colab": {
          "base_uri": "https://localhost:8080/"
        }
      },
      "execution_count": 55,
      "outputs": [
        {
          "output_type": "stream",
          "name": "stderr",
          "text": [
            "/usr/local/lib/python3.7/dist-packages/sklearn/ensemble/_forest.py:400: FutureWarning: Criterion 'mse' was deprecated in v1.0 and will be removed in version 1.2. Use `criterion='squared_error'` which is equivalent.\n",
            "  FutureWarning,\n"
          ]
        },
        {
          "output_type": "execute_result",
          "data": {
            "text/plain": [
              "RandomForestRegressor(criterion='mse')"
            ]
          },
          "metadata": {},
          "execution_count": 55
        }
      ]
    },
    {
      "cell_type": "code",
      "source": [
        "model4 = RandomForestRegressor(criterion = 'mse')\n",
        "model4.fit(X_train4, Y_train)"
      ],
      "metadata": {
        "id": "TBOF5S1Jg5j1",
        "outputId": "cf8a148d-aeae-4910-ed7f-c679fbe380a1",
        "colab": {
          "base_uri": "https://localhost:8080/"
        }
      },
      "execution_count": 56,
      "outputs": [
        {
          "output_type": "stream",
          "name": "stderr",
          "text": [
            "/usr/local/lib/python3.7/dist-packages/sklearn/ensemble/_forest.py:400: FutureWarning: Criterion 'mse' was deprecated in v1.0 and will be removed in version 1.2. Use `criterion='squared_error'` which is equivalent.\n",
            "  FutureWarning,\n"
          ]
        },
        {
          "output_type": "execute_result",
          "data": {
            "text/plain": [
              "RandomForestRegressor(criterion='mse')"
            ]
          },
          "metadata": {},
          "execution_count": 56
        }
      ]
    },
    {
      "cell_type": "code",
      "metadata": {
        "id": "zRXoXsF13pK7"
      },
      "source": [
        "# 각 모델로 test 셋들을 예측해주세요.\n",
        "pred1 = model1.predict(test_dropped_col1)\n",
        "pred2 = model2.predict(test_dropped_col2)\n",
        "pred3 = model3.predict(test_dropped_col3)\n",
        "pred4 = model4.predict(test_dropped_col4)"
      ],
      "execution_count": 57,
      "outputs": []
    },
    {
      "cell_type": "code",
      "metadata": {
        "id": "dYyBlm3d3vNw"
      },
      "source": [
        "# 각 결과들을 submission 파일로 저장해주세요.\n",
        "submission_1 = pd.read_csv('data/submission.csv')\n",
        "submission_2 = pd.read_csv('data/submission.csv')\n",
        "submission_3 = pd.read_csv('data/submission.csv')\n",
        "submission_4 = pd.read_csv('data/submission.csv')\n",
        "\n",
        "submission_1['count'] = pred1\n",
        "submission_2['count'] = pred2\n",
        "submission_3['count'] = pred3\n",
        "submission_4['count'] = pred4\n",
        "\n",
        "submission_1.to_csv('sub_1.csv',index=False)\n",
        "submission_2.to_csv('sub_2.csv',index=False)\n",
        "submission_3.to_csv('sub_3.csv',index=False)\n",
        "submission_4.to_csv('sub_4.csv',index=False)"
      ],
      "execution_count": 58,
      "outputs": []
    },
    {
      "cell_type": "markdown",
      "metadata": {
        "id": "J1Is2vFL4cxY"
      },
      "source": [
        "## 정답\n",
        "---"
      ]
    },
    {
      "cell_type": "code",
      "metadata": {
        "id": "ZOHdV_UjJ-Y9"
      },
      "source": [
        "# X_train 에서 drop 할 피쳐의 경우에 수 대로 3개의 X_train 을 생성하세요.\n",
        "\n",
        "X_train_1 = train.drop(['count','id'], axis=1)\n",
        "X_train_2 = train.drop(['count', 'id', 'hour_bef_windspeed'], axis=1)\n",
        "X_train_3 = train.drop(['count', 'id', 'hour_bef_windspeed', 'hour_bef_pm2.5'], axis=1)\n",
        "\n",
        "# 각 train 에 따라 동일하게 피쳐를 drop 한 test 셋들을 생성하세요.\n",
        "\n",
        "test_1 = test.drop(['id'], axis=1)\n",
        "test_2 = test.drop(['id', 'hour_bef_windspeed'], axis=1)\n",
        "test_3 = test.drop(['id', 'hour_bef_windspeed', 'hour_bef_pm2.5'], axis=1)"
      ],
      "execution_count": 59,
      "outputs": []
    },
    {
      "cell_type": "code",
      "metadata": {
        "id": "rGbL9SKEPrnk",
        "outputId": "38cdfd31-ed28-4b38-943a-0ee36a258157",
        "colab": {
          "base_uri": "https://localhost:8080/"
        }
      },
      "source": [
        "# 각 X_train에 대해 모델 훈련을 해주세요.\n",
        "\n",
        "model_input_var1 = RandomForestRegressor(criterion = 'mse')\n",
        "model_input_var1.fit(X_train_1, Y_train)\n",
        "\n",
        "model_input_var2 = RandomForestRegressor(criterion = 'mse')\n",
        "model_input_var2.fit(X_train_2, Y_train)\n",
        "\n",
        "model_input_var3 = RandomForestRegressor(criterion = 'mse')\n",
        "model_input_var3.fit(X_train_3, Y_train)"
      ],
      "execution_count": 60,
      "outputs": [
        {
          "output_type": "stream",
          "name": "stderr",
          "text": [
            "/usr/local/lib/python3.7/dist-packages/sklearn/ensemble/_forest.py:400: FutureWarning: Criterion 'mse' was deprecated in v1.0 and will be removed in version 1.2. Use `criterion='squared_error'` which is equivalent.\n",
            "  FutureWarning,\n",
            "/usr/local/lib/python3.7/dist-packages/sklearn/ensemble/_forest.py:400: FutureWarning: Criterion 'mse' was deprecated in v1.0 and will be removed in version 1.2. Use `criterion='squared_error'` which is equivalent.\n",
            "  FutureWarning,\n",
            "/usr/local/lib/python3.7/dist-packages/sklearn/ensemble/_forest.py:400: FutureWarning: Criterion 'mse' was deprecated in v1.0 and will be removed in version 1.2. Use `criterion='squared_error'` which is equivalent.\n",
            "  FutureWarning,\n"
          ]
        },
        {
          "output_type": "execute_result",
          "data": {
            "text/plain": [
              "RandomForestRegressor(criterion='mse')"
            ]
          },
          "metadata": {},
          "execution_count": 60
        }
      ]
    },
    {
      "cell_type": "code",
      "metadata": {
        "id": "XQZhCUCap4mD"
      },
      "source": [
        "# 각 모델로 test 셋들을 예측해주세요.\n",
        "\n",
        "y_pred_1 = model_input_var1.predict(test_1)\n",
        "y_pred_2 = model_input_var2.predict(test_2)\n",
        "y_pred_3 = model_input_var3.predict(test_3)"
      ],
      "execution_count": 61,
      "outputs": []
    },
    {
      "cell_type": "code",
      "metadata": {
        "id": "oFlh7313va1X",
        "outputId": "f950822a-053f-47b2-d9f8-1050941ab395",
        "colab": {
          "base_uri": "https://localhost:8080/",
          "height": 70
        }
      },
      "source": [
        "# 각 결과들을 submission 파일로 저장해주세요.\n",
        "\n",
        "'''\n",
        "submission_1 = pd.read_csv('data/submission.csv')\n",
        "submission_2 = pd.read_csv('data/submission.csv')\n",
        "submission_3 = pd.read_csv('data/submission.csv')\n",
        "\n",
        "submission_1['count'] = y_pred_1\n",
        "submission_2['count'] = y_pred_2\n",
        "submission_3['count'] = y_pred_3\n",
        "\n",
        "submission_1.to_csv('sub_1.csv',index=False)\n",
        "submission_2.to_csv('sub_2.csv',index=False)\n",
        "submission_3.to_csv('sub_3.csv',index=False)\n",
        "\n",
        "'''"
      ],
      "execution_count": 62,
      "outputs": [
        {
          "output_type": "execute_result",
          "data": {
            "text/plain": [
              "\"\\nsubmission_1 = pd.read_csv('data/submission.csv')\\nsubmission_2 = pd.read_csv('data/submission.csv')\\nsubmission_3 = pd.read_csv('data/submission.csv')\\n\\nsubmission_1['count'] = y_pred_1\\nsubmission_2['count'] = y_pred_2\\nsubmission_3['count'] = y_pred_3\\n\\nsubmission_1.to_csv('sub_1.csv',index=False)\\nsubmission_2.to_csv('sub_2.csv',index=False)\\nsubmission_3.to_csv('sub_3.csv',index=False)\\n\\n\""
            ],
            "application/vnd.google.colaboratory.intrinsic+json": {
              "type": "string"
            }
          },
          "metadata": {},
          "execution_count": 62
        }
      ]
    },
    {
      "cell_type": "markdown",
      "metadata": {
        "id": "K8YgC54VtiB7"
      },
      "source": [
        "# [↩️ 리스트로 돌아가기](https://dacon.io/competitions/open/235698/overview/description)"
      ]
    }
  ]
}